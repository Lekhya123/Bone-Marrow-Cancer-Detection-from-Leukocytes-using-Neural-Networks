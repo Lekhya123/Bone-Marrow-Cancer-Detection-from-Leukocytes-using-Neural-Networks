{
 "cells": [
  {
   "cell_type": "markdown",
   "metadata": {
    "id": "AF1aU14DVV57"
   },
   "source": [
    "# Data Preprocessing\n",
    "In our case, data preprocessing comprises the following steps:\n",
    "\n",
    "\n",
    "1.   Dividing the dataset into training set, validation set and test set\n",
    "2.   Solving the class unbalance problem, using a combination of undersampling and data augmentation\n",
    "3. Center cropping images in order to reduce their size by removing the black background (that is useless for the classification problem)\n",
    "4. Storing the preprocessed dataset for the next steps"
   ]
  },
  {
   "cell_type": "markdown",
   "metadata": {
    "id": "Wv2ZuL86VcTw"
   },
   "source": [
    "## Import Libraries\n",
    "First of all, let us import all the libraries that we will need later. "
   ]
  },
  {
   "cell_type": "code",
   "execution_count": 1,
   "metadata": {
    "id": "L5_8F-eBVGkc"
   },
   "outputs": [
    {
     "name": "stderr",
     "output_type": "stream",
     "text": [
      "/home/cseb21/.local/lib/python3.6/site-packages/tqdm/auto.py:22: TqdmWarning: IProgress not found. Please update jupyter and ipywidgets. See https://ipywidgets.readthedocs.io/en/stable/user_install.html\n",
      "  from .autonotebook import tqdm as notebook_tqdm\n"
     ]
    }
   ],
   "source": [
    "import os\n",
    "import cv2\n",
    "import random\n",
    "import shutil\n",
    "import matplotlib.pyplot as plt\n",
    "import numpy as np\n",
    "import tensorflow as tf\n",
    "from tqdm.auto import tqdm\n",
    "import csv"
   ]
  },
  {
   "cell_type": "markdown",
   "metadata": {
    "id": "vw3rMhbvWN2Y"
   },
   "source": [
    "## Load Dataset"
   ]
  },
  {
   "cell_type": "markdown",
   "metadata": {
    "id": "7-rhNlTRyrOt"
   },
   "source": [
    "Below, we report the number of images for each of the two classes (normal vs cancer), and the total number of images in the whole dataset."
   ]
  },
  {
   "cell_type": "code",
   "execution_count": 2,
   "metadata": {
    "colab": {
     "base_uri": "https://localhost:8080/"
    },
    "executionInfo": {
     "elapsed": 13,
     "status": "ok",
     "timestamp": 1641384742806,
     "user": {
      "displayName": "DANIELE CIOFFO",
      "photoUrl": "https://lh3.googleusercontent.com/a/default-user=s64",
      "userId": "10062146559806518037"
     },
     "user_tz": -60
    },
    "id": "GmpDm0-iihfJ",
    "outputId": "cad3a37a-c806-460c-d914-7611626c3f06"
   },
   "outputs": [
    {
     "name": "stdout",
     "output_type": "stream",
     "text": [
      "Number of cancer cell images: 7273\n",
      "Number of normal cell images: 3389\n"
     ]
    }
   ],
   "source": [
    "dataset_path = \"Dataset\"\n",
    "\n",
    "all_path = dataset_path + \"/all\"\n",
    "hem_path = dataset_path + \"/hem\"\n",
    "\n",
    "all_entries = os.listdir(all_path)\n",
    "hem_entries = os.listdir(hem_path)\n",
    "\n",
    "print(\"Number of cancer cell images: \" + str(len(all_entries)))\n",
    "print(\"Number of normal cell images: \" + str(len(hem_entries)))"
   ]
  },
  {
   "cell_type": "code",
   "execution_count": 3,
   "metadata": {
    "colab": {
     "base_uri": "https://localhost:8080/"
    },
    "executionInfo": {
     "elapsed": 11,
     "status": "ok",
     "timestamp": 1641384742808,
     "user": {
      "displayName": "DANIELE CIOFFO",
      "photoUrl": "https://lh3.googleusercontent.com/a/default-user=s64",
      "userId": "10062146559806518037"
     },
     "user_tz": -60
    },
    "id": "eIwPdlx5iwsK",
    "outputId": "fa4c229b-5374-414a-e88a-cc3bace567e1"
   },
   "outputs": [
    {
     "name": "stdout",
     "output_type": "stream",
     "text": [
      "Total number of images: 10662\n"
     ]
    }
   ],
   "source": [
    "entries = all_entries + hem_entries\n",
    "num_entries = len(entries)\n",
    "print(\"Total number of images: \" + str(num_entries))"
   ]
  },
  {
   "cell_type": "markdown",
   "metadata": {
    "id": "Dj7eFoPJzDLW"
   },
   "source": [
    "### Split the dataset\n",
    "The following function split the dataset into training, validation and test sets, using the splitting percentages passed as arguments. "
   ]
  },
  {
   "cell_type": "code",
   "execution_count": 4,
   "metadata": {
    "id": "0wcGoT9yWXgo"
   },
   "outputs": [],
   "source": [
    "def split_dataset(dataset, dataset_size, train_percentage=0.6, val_percentage=0.2, test_percentage=0.2, shuffle=True):\n",
    "  \"\"\"\n",
    "    split_dataset splits the dataset into training, validation and test sets.\n",
    "\n",
    "    :param dataset: a list representing the whole dataset\n",
    "    :param dataset_size: number of elements in the dataset\n",
    "    :param train_percentage: the percentage of the dataset that will be used for training\n",
    "    :param val_percentage: the percentage of the dataset that will be used for validation\n",
    "    :param test_percentage: the percentage of the dataset that will be used for testing\n",
    "    :param shuffle: if True the elements of the dataset will be randomly shuffled\n",
    "    :return: three lists representing the training, validation and test sets\n",
    "  \"\"\"\n",
    "  if train_percentage + val_percentage + test_percentage != 1:\n",
    "    print('Total of percentages must be 1')\n",
    "    return None, None, None\n",
    "  \n",
    "  if shuffle:\n",
    "    random.shuffle(dataset)\n",
    "    \n",
    "  train_size = int(train_percentage * dataset_size)\n",
    "  val_size = int(val_percentage * dataset_size)\n",
    "\n",
    "  train_set = dataset[0:train_size]\n",
    "  val_set = dataset[train_size:train_size+val_size]\n",
    "  test_set = dataset[train_size+val_size:dataset_size]\n",
    "    \n",
    "  return train_set, val_set, test_set"
   ]
  },
  {
   "cell_type": "code",
   "execution_count": 5,
   "metadata": {
    "colab": {
     "base_uri": "https://localhost:8080/"
    },
    "executionInfo": {
     "elapsed": 82,
     "status": "ok",
     "timestamp": 1640173365643,
     "user": {
      "displayName": "FEDERICA BALDI",
      "photoUrl": "https://lh3.googleusercontent.com/a/default-user=s64",
      "userId": "16281055805233431487"
     },
     "user_tz": -60
    },
    "id": "zmEY4Ai_jfeL",
    "outputId": "8fcdea89-5641-4049-f802-27eb57e803fe"
   },
   "outputs": [
    {
     "name": "stdout",
     "output_type": "stream",
     "text": [
      "Number of samples in the training set: 6397\n",
      "Number of samples in the validation set: 2132\n",
      "Number of samples in the test set: 2133\n"
     ]
    }
   ],
   "source": [
    "random.seed(24) # seed is specified to always obtain the same results\n",
    "training_set, validation_set, test_set = split_dataset(entries, num_entries)\n",
    "\n",
    "num_training_samples = len(training_set)\n",
    "num_validation_samples = len(validation_set)\n",
    "num_test_samples = len(test_set)\n",
    "\n",
    "print(\"Number of samples in the training set: \" + str(num_training_samples))\n",
    "print(\"Number of samples in the validation set: \" + str(num_validation_samples))\n",
    "print(\"Number of samples in the test set: \" + str(num_test_samples))"
   ]
  },
  {
   "cell_type": "code",
   "execution_count": 6,
   "metadata": {},
   "outputs": [
    {
     "name": "stdout",
     "output_type": "stream",
     "text": [
      "<class 'str'>\n"
     ]
    }
   ],
   "source": [
    "print(type(training_set[0]))"
   ]
  },
  {
   "cell_type": "markdown",
   "metadata": {
    "id": "haEdJzyyk6sz"
   },
   "source": [
    "## Solving the Unbalanced Classes Issue\n",
    "As we can see from the histogram below, the number of images for the two classes is not the same. "
   ]
  },
  {
   "cell_type": "code",
   "execution_count": 7,
   "metadata": {
    "colab": {
     "base_uri": "https://localhost:8080/",
     "height": 299
    },
    "executionInfo": {
     "elapsed": 75,
     "status": "ok",
     "timestamp": 1640173365644,
     "user": {
      "displayName": "FEDERICA BALDI",
      "photoUrl": "https://lh3.googleusercontent.com/a/default-user=s64",
      "userId": "16281055805233431487"
     },
     "user_tz": -60
    },
    "id": "Zl44TU9NlAgC",
    "outputId": "28df0f7f-df82-44ad-cd2e-dc4476dc58c3"
   },
   "outputs": [
    {
     "name": "stdout",
     "output_type": "stream",
     "text": [
      "Number of cancer cell images: 4434\n",
      "Number of normal cell images: 1963\n"
     ]
    },
    {
     "data": {
      "image/png": "[encoded data removed]",
      "text/plain": [
       "<Figure size 432x288 with 1 Axes>"
      ]
     },
     "metadata": {
      "needs_background": "light"
     },
     "output_type": "display_data"
    }
   ],
   "source": [
    "all_samples = [entry for entry in training_set if entry.split(\".\")[0][-3:] == 'all']\n",
    "hem_samples = [entry for entry in training_set if entry.split(\".\")[0][-3:] == 'hem']\n",
    "\n",
    "labels = [entry.split(\".\")[0][-3:] for entry in training_set]\n",
    "_ = plt.hist(labels, bins=2)\n",
    "\n",
    "print(\"Number of cancer cell images: \" + str(len(all_samples)))\n",
    "print(\"Number of normal cell images: \" + str(len(hem_samples)))"
   ]
  },
  {
   "cell_type": "markdown",
   "metadata": {
    "id": "_D-rinoc1uBZ"
   },
   "source": [
    "As this unbalance could lead to problems during the training process, we want the two classes to contain the same number of images. "
   ]
  },
  {
   "cell_type": "code",
   "execution_count": 8,
   "metadata": {
    "colab": {
     "base_uri": "https://localhost:8080/"
    },
    "executionInfo": {
     "elapsed": 548,
     "status": "ok",
     "timestamp": 1640173366131,
     "user": {
      "displayName": "FEDERICA BALDI",
      "photoUrl": "https://lh3.googleusercontent.com/a/default-user=s64",
      "userId": "16281055805233431487"
     },
     "user_tz": -60
    },
    "id": "Lgo6FlRVrT4i",
    "outputId": "1ed4927d-c012-4e03-efa7-4833f69b03ad"
   },
   "outputs": [
    {
     "name": "stdout",
     "output_type": "stream",
     "text": [
      "Number of expected images per class: 3198\n"
     ]
    }
   ],
   "source": [
    "expected_samples_per_class = num_training_samples//2\n",
    "print(\"Number of expected images per class: \" + str(expected_samples_per_class))"
   ]
  },
  {
   "cell_type": "markdown",
   "metadata": {
    "id": "34pdPwEw2lpW"
   },
   "source": [
    "For the largest class, that of cancer cells, we sub-sample by randomly selecting the desired number of images. "
   ]
  },
  {
   "cell_type": "code",
   "execution_count": 9,
   "metadata": {
    "colab": {
     "base_uri": "https://localhost:8080/"
    },
    "executionInfo": {
     "elapsed": 115,
     "status": "ok",
     "timestamp": 1640173366134,
     "user": {
      "displayName": "FEDERICA BALDI",
      "photoUrl": "https://lh3.googleusercontent.com/a/default-user=s64",
      "userId": "16281055805233431487"
     },
     "user_tz": -60
    },
    "id": "4-NU1Xe4rxGL",
    "outputId": "129f0660-d6b3-43f7-9a60-f4d21613a7e9"
   },
   "outputs": [
    {
     "name": "stdout",
     "output_type": "stream",
     "text": [
      "Number of sampled cancer cell images: 3198\n"
     ]
    }
   ],
   "source": [
    "sampled_all = random.sample(all_samples, expected_samples_per_class)\n",
    "print(\"Number of sampled cancer cell images: \" + str(len(sampled_all)))"
   ]
  },
  {
   "cell_type": "markdown",
   "metadata": {
    "id": "P-eF9lW626pq"
   },
   "source": [
    "For the smallest class, on the other hand, we will use data augmentation. First of all, therefore, we select a sample of images on which to perform the augmentation."
   ]
  },
  {
   "cell_type": "code",
   "execution_count": 10,
   "metadata": {
    "colab": {
     "base_uri": "https://localhost:8080/"
    },
    "executionInfo": {
     "elapsed": 273,
     "status": "ok",
     "timestamp": 1640173909020,
     "user": {
      "displayName": "FEDERICA BALDI",
      "photoUrl": "https://lh3.googleusercontent.com/a/default-user=s64",
      "userId": "16281055805233431487"
     },
     "user_tz": -60
    },
    "id": "1cP8QLjks_rL",
    "outputId": "432cfaba-879a-4b46-e78f-64395c50e629"
   },
   "outputs": [
    {
     "name": "stdout",
     "output_type": "stream",
     "text": [
      "Number of sampled normal cell images to perform augmentation: 1235\n",
      "Final number of normal cell images: 3198\n"
     ]
    }
   ],
   "source": [
    "hem_samples_needed = expected_samples_per_class - len(hem_samples)\n",
    "sampled_hem = random.sample(hem_samples, hem_samples_needed)\n",
    "print(\"Number of sampled normal cell images to perform augmentation: \" + str(len(sampled_hem)))\n",
    "print(\"Final number of normal cell images: \" + str(len(sampled_hem) + len(hem_samples)))"
   ]
  },
  {
   "cell_type": "markdown",
   "metadata": {
    "id": "4pBVAYAa_at5"
   },
   "source": [
    "### Data Augmentation\n",
    "In order to perform data augmentation, we use the following function, which randomly flips or rotates the original image."
   ]
  },
  {
   "cell_type": "code",
   "execution_count": 11,
   "metadata": {
    "id": "DjKJoR83rp_F"
   },
   "outputs": [],
   "source": [
    "def random_flip_or_rotation(original_image):\n",
    "  '''\n",
    "  random_flip_or_rotation randomly rotates or flips the image\n",
    "  :param original_image: the image on which to perform the transformation\n",
    "  :return: the transformed image\n",
    "  '''\n",
    "  if random.randint(0,1): # decide whether to flip the image or not\n",
    "    horizontal = random.randint(0,1)\n",
    "    if horizontal:\n",
    "      new_image = tf.image.flip_left_right(original_image)\n",
    "    else:\n",
    "      new_image = tf.image.flip_up_down(original_image)\n",
    "  else: # rotate the image of a random degree (between 90° and 270°)\n",
    "    k = random.randint(1,3)\n",
    "    new_image = tf.image.rot90(original_image, k)\n",
    "\n",
    "  return np.asarray(new_image)"
   ]
  },
  {
   "cell_type": "markdown",
   "metadata": {
    "id": "1dRzFaSp_-gb"
   },
   "source": [
    "#### Example of flips and rotations"
   ]
  },
  {
   "cell_type": "code",
   "execution_count": 12,
   "metadata": {
    "id": "qfLVVqvECIL0"
   },
   "outputs": [],
   "source": [
    "original_image = cv2.imread(dataset_path + \"/all/UID_11_10_1_all.bmp\")\n",
    "vertical_flip = tf.image.flip_up_down(original_image)\n",
    "horizontal_flip = tf.image.flip_left_right(original_image)\n",
    "rotation_90 = tf.image.rot90(original_image, k=1)\n",
    "rotation_180 = tf.image.rot90(original_image, k=2)\n",
    "rotation_270 = tf.image.rot90(original_image, k=3)"
   ]
  },
  {
   "cell_type": "code",
   "execution_count": 13,
   "metadata": {
    "colab": {
     "base_uri": "https://localhost:8080/",
     "height": 508
    },
    "executionInfo": {
     "elapsed": 1755,
     "status": "ok",
     "timestamp": 1640174793979,
     "user": {
      "displayName": "FEDERICA BALDI",
      "photoUrl": "https://lh3.googleusercontent.com/a/default-user=s64",
      "userId": "16281055805233431487"
     },
     "user_tz": -60
    },
    "id": "n66HE2M6HdyR",
    "outputId": "ab4e704b-1f0c-468c-ae7d-5da16a51623d"
   },
   "outputs": [
    {
     "data": {
      "image/png": "[encoded data removed]",
      "text/plain": [
       "<Figure size 720x720 with 6 Axes>"
      ]
     },
     "metadata": {
      "needs_background": "light"
     },
     "output_type": "display_data"
    }
   ],
   "source": [
    "fig = plt.figure(figsize=(10, 10))\n",
    "\n",
    "fig.add_subplot(2, 3, 1)\n",
    "plt.imshow(original_image)\n",
    "plt.axis('off')\n",
    "plt.title(\"Original\")\n",
    "\n",
    "fig.add_subplot(2, 3, 2)\n",
    "plt.imshow(vertical_flip)\n",
    "plt.axis('off')\n",
    "plt.title(\"Flipped Vertically\")\n",
    "\n",
    "fig.add_subplot(2, 3, 3)\n",
    "plt.imshow(horizontal_flip)\n",
    "plt.axis('off')\n",
    "plt.title(\"Flipped Horizontally\")\n",
    "\n",
    "fig.add_subplot(2, 3, 4)\n",
    "plt.imshow(rotation_90)\n",
    "plt.axis('off')\n",
    "plt.title(\"Rotated by 90°\")\n",
    "\n",
    "fig.add_subplot(2, 3, 5)\n",
    "plt.imshow(rotation_180)\n",
    "plt.axis('off')\n",
    "plt.title(\"Rotated by 180°\")\n",
    "\n",
    "fig.add_subplot(2, 3, 6)\n",
    "plt.imshow(rotation_270)\n",
    "plt.axis('off')\n",
    "_ = plt.title(\"Rotated by 270°\")"
   ]
  },
  {
   "cell_type": "markdown",
   "metadata": {
    "id": "1ty-pthh4D3j"
   },
   "source": [
    "## Center Cropping\n",
    "Since the images contain a lot of background, we want to crop them to remove as much the black outline as much as possible. \n",
    "\n",
    "In order to do that, we define the following function that uses the tresholding technique and then adds some black padding."
   ]
  },
  {
   "cell_type": "code",
   "execution_count": 14,
   "metadata": {
    "id": "pi7sIGJN8hfY"
   },
   "outputs": [],
   "source": [
    "def crop_and_resize_image(image):\n",
    "  ''' \n",
    "  crop_image crops the image with a thresholding technique (If the pixel value is smaller than the threshold, it is set to 0, otherwise it is set to a maximum value)\n",
    "  :param image: image to crop\n",
    "  :return: image cropped and resized\n",
    "  '''\n",
    "  gray = cv2.cvtColor(image, cv2.COLOR_BGR2GRAY)\n",
    "  # 'tresh' is the image thresholded\n",
    "  _,thresh = cv2.threshold(gray, 1, 255, cv2.THRESH_BINARY) # 1 is the threshold value, 255 is the maximum value\n",
    "  contours, hierarchy = cv2.findContours(thresh, cv2.RETR_EXTERNAL, cv2.CHAIN_APPROX_SIMPLE)\n",
    "  cnt = contours[0] # we have a single object in the image, so we take the first contour\n",
    "  x,y,w,h = cv2.boundingRect(cnt)\n",
    "  cropped_image = image[y:y+h, x:x+w]\n",
    "\n",
    "  # Enlarge the image to get a square shape\n",
    "  max_dimension = max(cropped_image.shape)\n",
    "  vertical_gap = max_dimension - cropped_image.shape[0]\n",
    "  if vertical_gap % 2 == 0: # even\n",
    "    top = bottom = vertical_gap // 2\n",
    "  else:\n",
    "    top = vertical_gap // 2\n",
    "    bottom = top + 1\n",
    "  horizontal_gap = max_dimension - cropped_image.shape[1]\n",
    "  if horizontal_gap % 2 == 0: # even\n",
    "    left = right = horizontal_gap // 2\n",
    "  else:\n",
    "    left = horizontal_gap // 2\n",
    "    right = left + 1\n",
    "  return cv2.copyMakeBorder(cropped_image, top, bottom, left, right, cv2.BORDER_CONSTANT, value=0) # value=0 for black"
   ]
  },
  {
   "cell_type": "markdown",
   "metadata": {
    "id": "ZAy4Z0WADV0v"
   },
   "source": [
    "### Example of Center Cropping\n",
    "Just to give an example, let us take the first image of the dataset.\n"
   ]
  },
  {
   "cell_type": "markdown",
   "metadata": {
    "id": "5wtuhPSkEEEv"
   },
   "source": [
    "After cropping, the resulting image is as follows."
   ]
  },
  {
   "cell_type": "code",
   "execution_count": null,
   "metadata": {
    "colab": {
     "base_uri": "https://localhost:8080/",
     "height": 281
    },
    "executionInfo": {
     "elapsed": 553,
     "status": "ok",
     "timestamp": 1640175218141,
     "user": {
      "displayName": "FEDERICA BALDI",
      "photoUrl": "https://lh3.googleusercontent.com/a/default-user=s64",
      "userId": "16281055805233431487"
     },
     "user_tz": -60
    },
    "id": "vNDyOX7IDhKt",
    "outputId": "29a4fa28-5f92-47bc-de26-dc7a742b8202"
   },
   "outputs": [],
   "source": [
    "cropped_image = crop_and_resize_image(img)\n",
    "cv2_imshow(cropped_image)\n",
    "cropped_image.shape"
   ]
  },
  {
   "cell_type": "markdown",
   "metadata": {
    "id": "eKe0DQBFEKwr"
   },
   "source": [
    "## Store Preprocessed Dataset\n",
    "At this point, all we have to do is to store the dataset divided into the three sets, applying data augmentation and image cropping. \n",
    "\n",
    "To begin with, we prepare all the necessary folders. "
   ]
  },
  {
   "cell_type": "code",
   "execution_count": 16,
   "metadata": {
    "id": "k6Zwhbn04Q7Q"
   },
   "outputs": [],
   "source": [
    "new_dataset_path = \"SplittedDataset\"\n",
    "training_path = new_dataset_path + \"/training_set\"\n",
    "validation_path = new_dataset_path + \"/validation_set\"\n",
    "test_path = new_dataset_path + \"/test_set\""
   ]
  },
  {
   "cell_type": "code",
   "execution_count": 17,
   "metadata": {
    "id": "FiQWr2SJ5F89"
   },
   "outputs": [],
   "source": [
    "# remove the old folder 'SplittedDataset'\n",
    "shutil.rmtree(new_dataset_path, ignore_errors=True)\n",
    "\n",
    "# create the structure\n",
    "os.makedirs(new_dataset_path)\n",
    "os.makedirs(training_path)\n",
    "os.makedirs(validation_path)\n",
    "os.makedirs(test_path)\n",
    "os.makedirs(training_path + \"/all\")\n",
    "os.makedirs(validation_path + \"/all\")\n",
    "os.makedirs(test_path + \"/all\")\n",
    "os.makedirs(training_path + \"/hem\")\n",
    "os.makedirs(validation_path + \"/hem\")\n",
    "os.makedirs(test_path + \"/hem\")"
   ]
  },
  {
   "cell_type": "markdown",
   "metadata": {
    "id": "B3s2zgOhE3P9"
   },
   "source": [
    "First, we store the training set."
   ]
  },
  {
   "cell_type": "code",
   "execution_count": 18,
   "metadata": {
    "id": "yz5wMUDi5F2f"
   },
   "outputs": [],
   "source": [
    "for sample in sampled_all: # store cropped cancer cell images\n",
    "  if sample == \".ipynb_checkpoints\":\n",
    "    continue\n",
    "  img = cv2.imread(dataset_path + '/all/' + sample)\n",
    "  cropped_image = crop_and_resize_image(img)\n",
    "  cv2.imwrite(training_path + '/all/' + sample, cropped_image)\n",
    "\n",
    "for sample in hem_samples: # store cropped normal cell images\n",
    "  if sample == \".ipynb_checkpoints\":\n",
    "    continue\n",
    "  img = cv2.imread(dataset_path + '/hem/' + sample)\n",
    "  cropped_image = crop_and_resize_image(img)\n",
    "  cv2.imwrite(training_path + '/hem/' + sample, cropped_image)\n",
    "\n",
    "for sample in sampled_hem: # store cropped normal cell augmented images\n",
    "  if sample == \".ipynb_checkpoints\":\n",
    "    continue\n",
    "  img = cv2.imread(dataset_path + \"/hem/\" + sample)\n",
    "  augmented_img = random_flip_or_rotation(img)\n",
    "  cropped_image = crop_and_resize_image(augmented_img)\n",
    "  cv2.imwrite(training_path + '/hem/augmented_' + sample, cropped_image)"
   ]
  },
  {
   "cell_type": "markdown",
   "metadata": {
    "id": "MXyZ2NLSFDBi"
   },
   "source": [
    "Then, the validation set."
   ]
  },
  {
   "cell_type": "code",
   "execution_count": 19,
   "metadata": {
    "id": "8zmR4vBg6jfK"
   },
   "outputs": [],
   "source": [
    "for sample in validation_set: # store cropped validation set images\n",
    "  if sample == \".ipynb_checkpoints\":\n",
    "    continue\n",
    "  label = sample.split(\".\")[0][-3:]\n",
    "  img = cv2.imread(dataset_path + '/' + label + '/' + sample)\n",
    "  cropped_image = crop_and_resize_image(img)\n",
    "  cv2.imwrite(validation_path + '/' + label +'/' + sample, cropped_image)"
   ]
  },
  {
   "cell_type": "markdown",
   "metadata": {
    "id": "lpzyTDSxFHRg"
   },
   "source": [
    "Finally, the test set."
   ]
  },
  {
   "cell_type": "code",
   "execution_count": 20,
   "metadata": {},
   "outputs": [],
   "source": [
    "for sample in test_set: # store cropped test set images\n",
    "  if sample == \".ipynb_checkpoints\":\n",
    "    continue\n",
    "  label = sample.split(\".\")[0][-3:]\n",
    "  img = cv2.imread(dataset_path + '/' + label + '/' + sample)\n",
    "  if img is None:\n",
    "        print(sample)\n",
    "  cropped_image = crop_and_resize_image(img)\n",
    "  cv2.imwrite(test_path + '/' + label +'/' + sample, cropped_image)"
   ]
  }
 ],
 "metadata": {
  "colab": {
   "name": "1. Data Preprocessing.ipynb",
   "provenance": []
  },
  "kernelspec": {
   "display_name": "Python 3",
   "language": "python",
   "name": "python3"
  },
  "language_info": {
   "codemirror_mode": {
    "name": "ipython",
    "version": 3
   },
   "file_extension": ".py",
   "mimetype": "text/x-python",
   "name": "python",
   "nbconvert_exporter": "python",
   "pygments_lexer": "ipython3",
   "version": "3.6.9"
  },
  "widgets": {
   "application/vnd.jupyter.widget-state+json": {
    "01279d2029534d6786553d6b4d0e7a98": {
     "model_module": "@jupyter-widgets/controls",
     "model_module_version": "1.5.0",
     "model_name": "DescriptionStyleModel",
     "state": {
      "_model_module": "@jupyter-widgets/controls",
      "_model_module_version": "1.5.0",
      "_model_name": "DescriptionStyleModel",
      "_view_count": null,
      "_view_module": "@jupyter-widgets/base",
      "_view_module_version": "1.2.0",
      "_view_name": "StyleView",
      "description_width": ""
     }
    },
    "04175f38c3bd4ce7bb77c46d0773110d": {
     "model_module": "@jupyter-widgets/base",
     "model_module_version": "1.2.0",
     "model_name": "LayoutModel",
     "state": {
      "_model_module": "@jupyter-widgets/base",
      "_model_module_version": "1.2.0",
      "_model_name": "LayoutModel",
      "_view_count": null,
      "_view_module": "@jupyter-widgets/base",
      "_view_module_version": "1.2.0",
      "_view_name": "LayoutView",
      "align_content": null,
      "align_items": null,
      "align_self": null,
      "border": null,
      "bottom": null,
      "display": null,
      "flex": null,
      "flex_flow": null,
      "grid_area": null,
      "grid_auto_columns": null,
      "grid_auto_flow": null,
      "grid_auto_rows": null,
      "grid_column": null,
      "grid_gap": null,
      "grid_row": null,
      "grid_template_areas": null,
      "grid_template_columns": null,
      "grid_template_rows": null,
      "height": null,
      "justify_content": null,
      "justify_items": null,
      "left": null,
      "margin": null,
      "max_height": null,
      "max_width": null,
      "min_height": null,
      "min_width": null,
      "object_fit": null,
      "object_position": null,
      "order": null,
      "overflow": null,
      "overflow_x": null,
      "overflow_y": null,
      "padding": null,
      "right": null,
      "top": null,
      "visibility": null,
      "width": null
     }
    },
    "04203c91322c447895ba55480bd50c9b": {
     "model_module": "@jupyter-widgets/controls",
     "model_module_version": "1.5.0",
     "model_name": "FloatProgressModel",
     "state": {
      "_dom_classes": [],
      "_model_module": "@jupyter-widgets/controls",
      "_model_module_version": "1.5.0",
      "_model_name": "FloatProgressModel",
      "_view_count": null,
      "_view_module": "@jupyter-widgets/controls",
      "_view_module_version": "1.5.0",
      "_view_name": "ProgressView",
      "bar_style": "success",
      "description": "",
      "description_tooltip": null,
      "layout": "IPY_MODEL_c211fd24871d45cf9187dc4d922ef235",
      "max": 3198,
      "min": 0,
      "orientation": "horizontal",
      "style": "IPY_MODEL_97ac5607f91f4d3b8dea35de910e00ea",
      "value": 3198
     }
    },
    "069cb3ad0b604ed2a6be0caf1f2f996e": {
     "model_module": "@jupyter-widgets/base",
     "model_module_version": "1.2.0",
     "model_name": "LayoutModel",
     "state": {
      "_model_module": "@jupyter-widgets/base",
      "_model_module_version": "1.2.0",
      "_model_name": "LayoutModel",
      "_view_count": null,
      "_view_module": "@jupyter-widgets/base",
      "_view_module_version": "1.2.0",
      "_view_name": "LayoutView",
      "align_content": null,
      "align_items": null,
      "align_self": null,
      "border": null,
      "bottom": null,
      "display": null,
      "flex": null,
      "flex_flow": null,
      "grid_area": null,
      "grid_auto_columns": null,
      "grid_auto_flow": null,
      "grid_auto_rows": null,
      "grid_column": null,
      "grid_gap": null,
      "grid_row": null,
      "grid_template_areas": null,
      "grid_template_columns": null,
      "grid_template_rows": null,
      "height": null,
      "justify_content": null,
      "justify_items": null,
      "left": null,
      "margin": null,
      "max_height": null,
      "max_width": null,
      "min_height": null,
      "min_width": null,
      "object_fit": null,
      "object_position": null,
      "order": null,
      "overflow": null,
      "overflow_x": null,
      "overflow_y": null,
      "padding": null,
      "right": null,
      "top": null,
      "visibility": null,
      "width": null
     }
    },
    "0da17398824746609d081c363d5eb174": {
     "model_module": "@jupyter-widgets/controls",
     "model_module_version": "1.5.0",
     "model_name": "HBoxModel",
     "state": {
      "_dom_classes": [],
      "_model_module": "@jupyter-widgets/controls",
      "_model_module_version": "1.5.0",
      "_model_name": "HBoxModel",
      "_view_count": null,
      "_view_module": "@jupyter-widgets/controls",
      "_view_module_version": "1.5.0",
      "_view_name": "HBoxView",
      "box_style": "",
      "children": [
       "IPY_MODEL_6aab6e3ede28452393aad9ff194d2f58",
       "IPY_MODEL_506f6642ccad4200859a9bd7763eb67a",
       "IPY_MODEL_d9406e5d81484d76a67561ec174ec57e"
      ],
      "layout": "IPY_MODEL_c05b4e280bfc4051aef1d9e17582ef88"
     }
    },
    "10678527ea924acea9bf07c9e0fdfeb5": {
     "model_module": "@jupyter-widgets/controls",
     "model_module_version": "1.5.0",
     "model_name": "DescriptionStyleModel",
     "state": {
      "_model_module": "@jupyter-widgets/controls",
      "_model_module_version": "1.5.0",
      "_model_name": "DescriptionStyleModel",
      "_view_count": null,
      "_view_module": "@jupyter-widgets/base",
      "_view_module_version": "1.2.0",
      "_view_name": "StyleView",
      "description_width": ""
     }
    },
    "19008a63e87c466e96999c82cfa45c22": {
     "model_module": "@jupyter-widgets/controls",
     "model_module_version": "1.5.0",
     "model_name": "DescriptionStyleModel",
     "state": {
      "_model_module": "@jupyter-widgets/controls",
      "_model_module_version": "1.5.0",
      "_model_name": "DescriptionStyleModel",
      "_view_count": null,
      "_view_module": "@jupyter-widgets/base",
      "_view_module_version": "1.2.0",
      "_view_name": "StyleView",
      "description_width": ""
     }
    },
    "19ae692079774bba8a0e714002a00529": {
     "model_module": "@jupyter-widgets/base",
     "model_module_version": "1.2.0",
     "model_name": "LayoutModel",
     "state": {
      "_model_module": "@jupyter-widgets/base",
      "_model_module_version": "1.2.0",
      "_model_name": "LayoutModel",
      "_view_count": null,
      "_view_module": "@jupyter-widgets/base",
      "_view_module_version": "1.2.0",
      "_view_name": "LayoutView",
      "align_content": null,
      "align_items": null,
      "align_self": null,
      "border": null,
      "bottom": null,
      "display": null,
      "flex": null,
      "flex_flow": null,
      "grid_area": null,
      "grid_auto_columns": null,
      "grid_auto_flow": null,
      "grid_auto_rows": null,
      "grid_column": null,
      "grid_gap": null,
      "grid_row": null,
      "grid_template_areas": null,
      "grid_template_columns": null,
      "grid_template_rows": null,
      "height": null,
      "justify_content": null,
      "justify_items": null,
      "left": null,
      "margin": null,
      "max_height": null,
      "max_width": null,
      "min_height": null,
      "min_width": null,
      "object_fit": null,
      "object_position": null,
      "order": null,
      "overflow": null,
      "overflow_x": null,
      "overflow_y": null,
      "padding": null,
      "right": null,
      "top": null,
      "visibility": null,
      "width": null
     }
    },
    "29ea188a81e740d290ff67cead453811": {
     "model_module": "@jupyter-widgets/controls",
     "model_module_version": "1.5.0",
     "model_name": "ProgressStyleModel",
     "state": {
      "_model_module": "@jupyter-widgets/controls",
      "_model_module_version": "1.5.0",
      "_model_name": "ProgressStyleModel",
      "_view_count": null,
      "_view_module": "@jupyter-widgets/base",
      "_view_module_version": "1.2.0",
      "_view_name": "StyleView",
      "bar_color": null,
      "description_width": ""
     }
    },
    "38084b641c3f405099425424cc745424": {
     "model_module": "@jupyter-widgets/base",
     "model_module_version": "1.2.0",
     "model_name": "LayoutModel",
     "state": {
      "_model_module": "@jupyter-widgets/base",
      "_model_module_version": "1.2.0",
      "_model_name": "LayoutModel",
      "_view_count": null,
      "_view_module": "@jupyter-widgets/base",
      "_view_module_version": "1.2.0",
      "_view_name": "LayoutView",
      "align_content": null,
      "align_items": null,
      "align_self": null,
      "border": null,
      "bottom": null,
      "display": null,
      "flex": null,
      "flex_flow": null,
      "grid_area": null,
      "grid_auto_columns": null,
      "grid_auto_flow": null,
      "grid_auto_rows": null,
      "grid_column": null,
      "grid_gap": null,
      "grid_row": null,
      "grid_template_areas": null,
      "grid_template_columns": null,
      "grid_template_rows": null,
      "height": null,
      "justify_content": null,
      "justify_items": null,
      "left": null,
      "margin": null,
      "max_height": null,
      "max_width": null,
      "min_height": null,
      "min_width": null,
      "object_fit": null,
      "object_position": null,
      "order": null,
      "overflow": null,
      "overflow_x": null,
      "overflow_y": null,
      "padding": null,
      "right": null,
      "top": null,
      "visibility": null,
      "width": null
     }
    },
    "3d87d93e12b64a0c9e635e2c7a1e4fe7": {
     "model_module": "@jupyter-widgets/controls",
     "model_module_version": "1.5.0",
     "model_name": "HTMLModel",
     "state": {
      "_dom_classes": [],
      "_model_module": "@jupyter-widgets/controls",
      "_model_module_version": "1.5.0",
      "_model_name": "HTMLModel",
      "_view_count": null,
      "_view_module": "@jupyter-widgets/controls",
      "_view_module_version": "1.5.0",
      "_view_name": "HTMLView",
      "description": "",
      "description_tooltip": null,
      "layout": "IPY_MODEL_d87825416c5d4b01ad9ae46a5dd61d02",
      "placeholder": "​",
      "style": "IPY_MODEL_a510350ee6a44e76bc2ae2467be43082",
      "value": "100%"
     }
    },
    "45d47e57533d42e78ce1de6fff2ed9e3": {
     "model_module": "@jupyter-widgets/controls",
     "model_module_version": "1.5.0",
     "model_name": "ProgressStyleModel",
     "state": {
      "_model_module": "@jupyter-widgets/controls",
      "_model_module_version": "1.5.0",
      "_model_name": "ProgressStyleModel",
      "_view_count": null,
      "_view_module": "@jupyter-widgets/base",
      "_view_module_version": "1.2.0",
      "_view_name": "StyleView",
      "bar_color": null,
      "description_width": ""
     }
    },
    "4727a80783b64385b2188ab543b0e1b2": {
     "model_module": "@jupyter-widgets/controls",
     "model_module_version": "1.5.0",
     "model_name": "HBoxModel",
     "state": {
      "_dom_classes": [],
      "_model_module": "@jupyter-widgets/controls",
      "_model_module_version": "1.5.0",
      "_model_name": "HBoxModel",
      "_view_count": null,
      "_view_module": "@jupyter-widgets/controls",
      "_view_module_version": "1.5.0",
      "_view_name": "HBoxView",
      "box_style": "",
      "children": [
       "IPY_MODEL_3d87d93e12b64a0c9e635e2c7a1e4fe7",
       "IPY_MODEL_04203c91322c447895ba55480bd50c9b",
       "IPY_MODEL_fe44a5ee8d474ab48f544873933f73f1"
      ],
      "layout": "IPY_MODEL_04175f38c3bd4ce7bb77c46d0773110d"
     }
    },
    "4d12e9adf4774eddbb0e0e7b78de6044": {
     "model_module": "@jupyter-widgets/controls",
     "model_module_version": "1.5.0",
     "model_name": "DescriptionStyleModel",
     "state": {
      "_model_module": "@jupyter-widgets/controls",
      "_model_module_version": "1.5.0",
      "_model_name": "DescriptionStyleModel",
      "_view_count": null,
      "_view_module": "@jupyter-widgets/base",
      "_view_module_version": "1.2.0",
      "_view_name": "StyleView",
      "description_width": ""
     }
    },
    "4edff55db4c6406f8d4221654bfa1632": {
     "model_module": "@jupyter-widgets/controls",
     "model_module_version": "1.5.0",
     "model_name": "HTMLModel",
     "state": {
      "_dom_classes": [],
      "_model_module": "@jupyter-widgets/controls",
      "_model_module_version": "1.5.0",
      "_model_name": "HTMLModel",
      "_view_count": null,
      "_view_module": "@jupyter-widgets/controls",
      "_view_module_version": "1.5.0",
      "_view_name": "HTMLView",
      "description": "",
      "description_tooltip": null,
      "layout": "IPY_MODEL_f51b8881f2f14fad9dccf9bc08f62433",
      "placeholder": "​",
      "style": "IPY_MODEL_b31ae50d56854250b86d5c7472998834",
      "value": " 1437/1437 [00:02&lt;00:00, 617.48it/s]"
     }
    },
    "506f6642ccad4200859a9bd7763eb67a": {
     "model_module": "@jupyter-widgets/controls",
     "model_module_version": "1.5.0",
     "model_name": "FloatProgressModel",
     "state": {
      "_dom_classes": [],
      "_model_module": "@jupyter-widgets/controls",
      "_model_module_version": "1.5.0",
      "_model_name": "FloatProgressModel",
      "_view_count": null,
      "_view_module": "@jupyter-widgets/controls",
      "_view_module_version": "1.5.0",
      "_view_name": "ProgressView",
      "bar_style": "success",
      "description": "",
      "description_tooltip": null,
      "layout": "IPY_MODEL_b766d2f5c95a40c2be865c488eabb626",
      "max": 696,
      "min": 0,
      "orientation": "horizontal",
      "style": "IPY_MODEL_fc1ecb0dacb54976a0a294b202ec5621",
      "value": 696
     }
    },
    "51db11eaad164c45833500c883c27866": {
     "model_module": "@jupyter-widgets/base",
     "model_module_version": "1.2.0",
     "model_name": "LayoutModel",
     "state": {
      "_model_module": "@jupyter-widgets/base",
      "_model_module_version": "1.2.0",
      "_model_name": "LayoutModel",
      "_view_count": null,
      "_view_module": "@jupyter-widgets/base",
      "_view_module_version": "1.2.0",
      "_view_name": "LayoutView",
      "align_content": null,
      "align_items": null,
      "align_self": null,
      "border": null,
      "bottom": null,
      "display": null,
      "flex": null,
      "flex_flow": null,
      "grid_area": null,
      "grid_auto_columns": null,
      "grid_auto_flow": null,
      "grid_auto_rows": null,
      "grid_column": null,
      "grid_gap": null,
      "grid_row": null,
      "grid_template_areas": null,
      "grid_template_columns": null,
      "grid_template_rows": null,
      "height": null,
      "justify_content": null,
      "justify_items": null,
      "left": null,
      "margin": null,
      "max_height": null,
      "max_width": null,
      "min_height": null,
      "min_width": null,
      "object_fit": null,
      "object_position": null,
      "order": null,
      "overflow": null,
      "overflow_x": null,
      "overflow_y": null,
      "padding": null,
      "right": null,
      "top": null,
      "visibility": null,
      "width": null
     }
    },
    "540766df2176409e8d93f335c69c1ba2": {
     "model_module": "@jupyter-widgets/controls",
     "model_module_version": "1.5.0",
     "model_name": "DescriptionStyleModel",
     "state": {
      "_model_module": "@jupyter-widgets/controls",
      "_model_module_version": "1.5.0",
      "_model_name": "DescriptionStyleModel",
      "_view_count": null,
      "_view_module": "@jupyter-widgets/base",
      "_view_module_version": "1.2.0",
      "_view_name": "StyleView",
      "description_width": ""
     }
    },
    "5d2ca24873c248a8a80b9866e2aff43a": {
     "model_module": "@jupyter-widgets/controls",
     "model_module_version": "1.5.0",
     "model_name": "HTMLModel",
     "state": {
      "_dom_classes": [],
      "_model_module": "@jupyter-widgets/controls",
      "_model_module_version": "1.5.0",
      "_model_name": "HTMLModel",
      "_view_count": null,
      "_view_module": "@jupyter-widgets/controls",
      "_view_module_version": "1.5.0",
      "_view_name": "HTMLView",
      "description": "",
      "description_tooltip": null,
      "layout": "IPY_MODEL_cae697a20efc45bbb1325ce8652882ac",
      "placeholder": "​",
      "style": "IPY_MODEL_6fdbb49166664708bb443926c3037046",
      "value": "100%"
     }
    },
    "64018accc1fd4e908b4b5ef13bcda4e5": {
     "model_module": "@jupyter-widgets/controls",
     "model_module_version": "1.5.0",
     "model_name": "DescriptionStyleModel",
     "state": {
      "_model_module": "@jupyter-widgets/controls",
      "_model_module_version": "1.5.0",
      "_model_name": "DescriptionStyleModel",
      "_view_count": null,
      "_view_module": "@jupyter-widgets/base",
      "_view_module_version": "1.2.0",
      "_view_name": "StyleView",
      "description_width": ""
     }
    },
    "67c6b8bb5d624de0ad843f592aebc1d0": {
     "model_module": "@jupyter-widgets/base",
     "model_module_version": "1.2.0",
     "model_name": "LayoutModel",
     "state": {
      "_model_module": "@jupyter-widgets/base",
      "_model_module_version": "1.2.0",
      "_model_name": "LayoutModel",
      "_view_count": null,
      "_view_module": "@jupyter-widgets/base",
      "_view_module_version": "1.2.0",
      "_view_name": "LayoutView",
      "align_content": null,
      "align_items": null,
      "align_self": null,
      "border": null,
      "bottom": null,
      "display": null,
      "flex": null,
      "flex_flow": null,
      "grid_area": null,
      "grid_auto_columns": null,
      "grid_auto_flow": null,
      "grid_auto_rows": null,
      "grid_column": null,
      "grid_gap": null,
      "grid_row": null,
      "grid_template_areas": null,
      "grid_template_columns": null,
      "grid_template_rows": null,
      "height": null,
      "justify_content": null,
      "justify_items": null,
      "left": null,
      "margin": null,
      "max_height": null,
      "max_width": null,
      "min_height": null,
      "min_width": null,
      "object_fit": null,
      "object_position": null,
      "order": null,
      "overflow": null,
      "overflow_x": null,
      "overflow_y": null,
      "padding": null,
      "right": null,
      "top": null,
      "visibility": null,
      "width": null
     }
    },
    "6aab6e3ede28452393aad9ff194d2f58": {
     "model_module": "@jupyter-widgets/controls",
     "model_module_version": "1.5.0",
     "model_name": "HTMLModel",
     "state": {
      "_dom_classes": [],
      "_model_module": "@jupyter-widgets/controls",
      "_model_module_version": "1.5.0",
      "_model_name": "HTMLModel",
      "_view_count": null,
      "_view_module": "@jupyter-widgets/controls",
      "_view_module_version": "1.5.0",
      "_view_name": "HTMLView",
      "description": "",
      "description_tooltip": null,
      "layout": "IPY_MODEL_8fa8dd7b90a449399969752fc63895ef",
      "placeholder": "​",
      "style": "IPY_MODEL_64018accc1fd4e908b4b5ef13bcda4e5",
      "value": "100%"
     }
    },
    "6fdbb49166664708bb443926c3037046": {
     "model_module": "@jupyter-widgets/controls",
     "model_module_version": "1.5.0",
     "model_name": "DescriptionStyleModel",
     "state": {
      "_model_module": "@jupyter-widgets/controls",
      "_model_module_version": "1.5.0",
      "_model_name": "DescriptionStyleModel",
      "_view_count": null,
      "_view_module": "@jupyter-widgets/base",
      "_view_module_version": "1.2.0",
      "_view_name": "StyleView",
      "description_width": ""
     }
    },
    "72072d705511489facc1e50cfb530869": {
     "model_module": "@jupyter-widgets/base",
     "model_module_version": "1.2.0",
     "model_name": "LayoutModel",
     "state": {
      "_model_module": "@jupyter-widgets/base",
      "_model_module_version": "1.2.0",
      "_model_name": "LayoutModel",
      "_view_count": null,
      "_view_module": "@jupyter-widgets/base",
      "_view_module_version": "1.2.0",
      "_view_name": "LayoutView",
      "align_content": null,
      "align_items": null,
      "align_self": null,
      "border": null,
      "bottom": null,
      "display": null,
      "flex": null,
      "flex_flow": null,
      "grid_area": null,
      "grid_auto_columns": null,
      "grid_auto_flow": null,
      "grid_auto_rows": null,
      "grid_column": null,
      "grid_gap": null,
      "grid_row": null,
      "grid_template_areas": null,
      "grid_template_columns": null,
      "grid_template_rows": null,
      "height": null,
      "justify_content": null,
      "justify_items": null,
      "left": null,
      "margin": null,
      "max_height": null,
      "max_width": null,
      "min_height": null,
      "min_width": null,
      "object_fit": null,
      "object_position": null,
      "order": null,
      "overflow": null,
      "overflow_x": null,
      "overflow_y": null,
      "padding": null,
      "right": null,
      "top": null,
      "visibility": null,
      "width": null
     }
    },
    "75e3ba9d5818443ebb95df58b7553cd4": {
     "model_module": "@jupyter-widgets/base",
     "model_module_version": "1.2.0",
     "model_name": "LayoutModel",
     "state": {
      "_model_module": "@jupyter-widgets/base",
      "_model_module_version": "1.2.0",
      "_model_name": "LayoutModel",
      "_view_count": null,
      "_view_module": "@jupyter-widgets/base",
      "_view_module_version": "1.2.0",
      "_view_name": "LayoutView",
      "align_content": null,
      "align_items": null,
      "align_self": null,
      "border": null,
      "bottom": null,
      "display": null,
      "flex": null,
      "flex_flow": null,
      "grid_area": null,
      "grid_auto_columns": null,
      "grid_auto_flow": null,
      "grid_auto_rows": null,
      "grid_column": null,
      "grid_gap": null,
      "grid_row": null,
      "grid_template_areas": null,
      "grid_template_columns": null,
      "grid_template_rows": null,
      "height": null,
      "justify_content": null,
      "justify_items": null,
      "left": null,
      "margin": null,
      "max_height": null,
      "max_width": null,
      "min_height": null,
      "min_width": null,
      "object_fit": null,
      "object_position": null,
      "order": null,
      "overflow": null,
      "overflow_x": null,
      "overflow_y": null,
      "padding": null,
      "right": null,
      "top": null,
      "visibility": null,
      "width": null
     }
    },
    "76c41280b33042c1b52f218e16173b60": {
     "model_module": "@jupyter-widgets/controls",
     "model_module_version": "1.5.0",
     "model_name": "FloatProgressModel",
     "state": {
      "_dom_classes": [],
      "_model_module": "@jupyter-widgets/controls",
      "_model_module_version": "1.5.0",
      "_model_name": "FloatProgressModel",
      "_view_count": null,
      "_view_module": "@jupyter-widgets/controls",
      "_view_module_version": "1.5.0",
      "_view_name": "ProgressView",
      "bar_style": "success",
      "description": "",
      "description_tooltip": null,
      "layout": "IPY_MODEL_72072d705511489facc1e50cfb530869",
      "max": 729,
      "min": 0,
      "orientation": "horizontal",
      "style": "IPY_MODEL_29ea188a81e740d290ff67cead453811",
      "value": 729
     }
    },
    "7b6d5da372c14549ab283adac75de0de": {
     "model_module": "@jupyter-widgets/controls",
     "model_module_version": "1.5.0",
     "model_name": "ProgressStyleModel",
     "state": {
      "_model_module": "@jupyter-widgets/controls",
      "_model_module_version": "1.5.0",
      "_model_name": "ProgressStyleModel",
      "_view_count": null,
      "_view_module": "@jupyter-widgets/base",
      "_view_module_version": "1.2.0",
      "_view_name": "StyleView",
      "bar_color": null,
      "description_width": ""
     }
    },
    "7da5627cb1c949138236b0df02baffe9": {
     "model_module": "@jupyter-widgets/base",
     "model_module_version": "1.2.0",
     "model_name": "LayoutModel",
     "state": {
      "_model_module": "@jupyter-widgets/base",
      "_model_module_version": "1.2.0",
      "_model_name": "LayoutModel",
      "_view_count": null,
      "_view_module": "@jupyter-widgets/base",
      "_view_module_version": "1.2.0",
      "_view_name": "LayoutView",
      "align_content": null,
      "align_items": null,
      "align_self": null,
      "border": null,
      "bottom": null,
      "display": null,
      "flex": null,
      "flex_flow": null,
      "grid_area": null,
      "grid_auto_columns": null,
      "grid_auto_flow": null,
      "grid_auto_rows": null,
      "grid_column": null,
      "grid_gap": null,
      "grid_row": null,
      "grid_template_areas": null,
      "grid_template_columns": null,
      "grid_template_rows": null,
      "height": null,
      "justify_content": null,
      "justify_items": null,
      "left": null,
      "margin": null,
      "max_height": null,
      "max_width": null,
      "min_height": null,
      "min_width": null,
      "object_fit": null,
      "object_position": null,
      "order": null,
      "overflow": null,
      "overflow_x": null,
      "overflow_y": null,
      "padding": null,
      "right": null,
      "top": null,
      "visibility": null,
      "width": null
     }
    },
    "814d3eb28e654ce2b2088826b897ff0e": {
     "model_module": "@jupyter-widgets/controls",
     "model_module_version": "1.5.0",
     "model_name": "HTMLModel",
     "state": {
      "_dom_classes": [],
      "_model_module": "@jupyter-widgets/controls",
      "_model_module_version": "1.5.0",
      "_model_name": "HTMLModel",
      "_view_count": null,
      "_view_module": "@jupyter-widgets/controls",
      "_view_module_version": "1.5.0",
      "_view_name": "HTMLView",
      "description": "",
      "description_tooltip": null,
      "layout": "IPY_MODEL_e1b901c6091a4cc0891f0deb96551d7f",
      "placeholder": "​",
      "style": "IPY_MODEL_540766df2176409e8d93f335c69c1ba2",
      "value": " 1403/1403 [00:02&lt;00:00, 631.58it/s]"
     }
    },
    "861b7b28d9674a48b277b5c7156df33a": {
     "model_module": "@jupyter-widgets/controls",
     "model_module_version": "1.5.0",
     "model_name": "ProgressStyleModel",
     "state": {
      "_model_module": "@jupyter-widgets/controls",
      "_model_module_version": "1.5.0",
      "_model_name": "ProgressStyleModel",
      "_view_count": null,
      "_view_module": "@jupyter-widgets/base",
      "_view_module_version": "1.2.0",
      "_view_name": "StyleView",
      "bar_color": null,
      "description_width": ""
     }
    },
    "8d6f2466e9494bb28caeb5d7b11fd9fa": {
     "model_module": "@jupyter-widgets/controls",
     "model_module_version": "1.5.0",
     "model_name": "HTMLModel",
     "state": {
      "_dom_classes": [],
      "_model_module": "@jupyter-widgets/controls",
      "_model_module_version": "1.5.0",
      "_model_name": "HTMLModel",
      "_view_count": null,
      "_view_module": "@jupyter-widgets/controls",
      "_view_module_version": "1.5.0",
      "_view_name": "HTMLView",
      "description": "",
      "description_tooltip": null,
      "layout": "IPY_MODEL_a5dc5866a4c240729bcb325f02ad9e3a",
      "placeholder": "​",
      "style": "IPY_MODEL_4d12e9adf4774eddbb0e0e7b78de6044",
      "value": " 729/729 [00:01&lt;00:00, 652.89it/s]"
     }
    },
    "8fa8dd7b90a449399969752fc63895ef": {
     "model_module": "@jupyter-widgets/base",
     "model_module_version": "1.2.0",
     "model_name": "LayoutModel",
     "state": {
      "_model_module": "@jupyter-widgets/base",
      "_model_module_version": "1.2.0",
      "_model_name": "LayoutModel",
      "_view_count": null,
      "_view_module": "@jupyter-widgets/base",
      "_view_module_version": "1.2.0",
      "_view_name": "LayoutView",
      "align_content": null,
      "align_items": null,
      "align_self": null,
      "border": null,
      "bottom": null,
      "display": null,
      "flex": null,
      "flex_flow": null,
      "grid_area": null,
      "grid_auto_columns": null,
      "grid_auto_flow": null,
      "grid_auto_rows": null,
      "grid_column": null,
      "grid_gap": null,
      "grid_row": null,
      "grid_template_areas": null,
      "grid_template_columns": null,
      "grid_template_rows": null,
      "height": null,
      "justify_content": null,
      "justify_items": null,
      "left": null,
      "margin": null,
      "max_height": null,
      "max_width": null,
      "min_height": null,
      "min_width": null,
      "object_fit": null,
      "object_position": null,
      "order": null,
      "overflow": null,
      "overflow_x": null,
      "overflow_y": null,
      "padding": null,
      "right": null,
      "top": null,
      "visibility": null,
      "width": null
     }
    },
    "8fab7124536846aeb449696eff23df66": {
     "model_module": "@jupyter-widgets/controls",
     "model_module_version": "1.5.0",
     "model_name": "FloatProgressModel",
     "state": {
      "_dom_classes": [],
      "_model_module": "@jupyter-widgets/controls",
      "_model_module_version": "1.5.0",
      "_model_name": "FloatProgressModel",
      "_view_count": null,
      "_view_module": "@jupyter-widgets/controls",
      "_view_module_version": "1.5.0",
      "_view_name": "ProgressView",
      "bar_style": "success",
      "description": "",
      "description_tooltip": null,
      "layout": "IPY_MODEL_7da5627cb1c949138236b0df02baffe9",
      "max": 1403,
      "min": 0,
      "orientation": "horizontal",
      "style": "IPY_MODEL_45d47e57533d42e78ce1de6fff2ed9e3",
      "value": 1403
     }
    },
    "97ac5607f91f4d3b8dea35de910e00ea": {
     "model_module": "@jupyter-widgets/controls",
     "model_module_version": "1.5.0",
     "model_name": "ProgressStyleModel",
     "state": {
      "_model_module": "@jupyter-widgets/controls",
      "_model_module_version": "1.5.0",
      "_model_name": "ProgressStyleModel",
      "_view_count": null,
      "_view_module": "@jupyter-widgets/base",
      "_view_module_version": "1.2.0",
      "_view_name": "StyleView",
      "bar_color": null,
      "description_width": ""
     }
    },
    "a510350ee6a44e76bc2ae2467be43082": {
     "model_module": "@jupyter-widgets/controls",
     "model_module_version": "1.5.0",
     "model_name": "DescriptionStyleModel",
     "state": {
      "_model_module": "@jupyter-widgets/controls",
      "_model_module_version": "1.5.0",
      "_model_name": "DescriptionStyleModel",
      "_view_count": null,
      "_view_module": "@jupyter-widgets/base",
      "_view_module_version": "1.2.0",
      "_view_name": "StyleView",
      "description_width": ""
     }
    },
    "a5dc5866a4c240729bcb325f02ad9e3a": {
     "model_module": "@jupyter-widgets/base",
     "model_module_version": "1.2.0",
     "model_name": "LayoutModel",
     "state": {
      "_model_module": "@jupyter-widgets/base",
      "_model_module_version": "1.2.0",
      "_model_name": "LayoutModel",
      "_view_count": null,
      "_view_module": "@jupyter-widgets/base",
      "_view_module_version": "1.2.0",
      "_view_name": "LayoutView",
      "align_content": null,
      "align_items": null,
      "align_self": null,
      "border": null,
      "bottom": null,
      "display": null,
      "flex": null,
      "flex_flow": null,
      "grid_area": null,
      "grid_auto_columns": null,
      "grid_auto_flow": null,
      "grid_auto_rows": null,
      "grid_column": null,
      "grid_gap": null,
      "grid_row": null,
      "grid_template_areas": null,
      "grid_template_columns": null,
      "grid_template_rows": null,
      "height": null,
      "justify_content": null,
      "justify_items": null,
      "left": null,
      "margin": null,
      "max_height": null,
      "max_width": null,
      "min_height": null,
      "min_width": null,
      "object_fit": null,
      "object_position": null,
      "order": null,
      "overflow": null,
      "overflow_x": null,
      "overflow_y": null,
      "padding": null,
      "right": null,
      "top": null,
      "visibility": null,
      "width": null
     }
    },
    "a5e4b85b23b14b538fb645d5afe84b7b": {
     "model_module": "@jupyter-widgets/controls",
     "model_module_version": "1.5.0",
     "model_name": "DescriptionStyleModel",
     "state": {
      "_model_module": "@jupyter-widgets/controls",
      "_model_module_version": "1.5.0",
      "_model_name": "DescriptionStyleModel",
      "_view_count": null,
      "_view_module": "@jupyter-widgets/base",
      "_view_module_version": "1.2.0",
      "_view_name": "StyleView",
      "description_width": ""
     }
    },
    "b0ce32e639ea4e8b9523f7cff847d6f8": {
     "model_module": "@jupyter-widgets/controls",
     "model_module_version": "1.5.0",
     "model_name": "HBoxModel",
     "state": {
      "_dom_classes": [],
      "_model_module": "@jupyter-widgets/controls",
      "_model_module_version": "1.5.0",
      "_model_name": "HBoxModel",
      "_view_count": null,
      "_view_module": "@jupyter-widgets/controls",
      "_view_module_version": "1.5.0",
      "_view_name": "HBoxView",
      "box_style": "",
      "children": [
       "IPY_MODEL_c932502c5a5f468db23624448255e6ce",
       "IPY_MODEL_76c41280b33042c1b52f218e16173b60",
       "IPY_MODEL_8d6f2466e9494bb28caeb5d7b11fd9fa"
      ],
      "layout": "IPY_MODEL_51db11eaad164c45833500c883c27866"
     }
    },
    "b31ae50d56854250b86d5c7472998834": {
     "model_module": "@jupyter-widgets/controls",
     "model_module_version": "1.5.0",
     "model_name": "DescriptionStyleModel",
     "state": {
      "_model_module": "@jupyter-widgets/controls",
      "_model_module_version": "1.5.0",
      "_model_name": "DescriptionStyleModel",
      "_view_count": null,
      "_view_module": "@jupyter-widgets/base",
      "_view_module_version": "1.2.0",
      "_view_name": "StyleView",
      "description_width": ""
     }
    },
    "b44dd32294eb40bba2fb193485f425b3": {
     "model_module": "@jupyter-widgets/base",
     "model_module_version": "1.2.0",
     "model_name": "LayoutModel",
     "state": {
      "_model_module": "@jupyter-widgets/base",
      "_model_module_version": "1.2.0",
      "_model_name": "LayoutModel",
      "_view_count": null,
      "_view_module": "@jupyter-widgets/base",
      "_view_module_version": "1.2.0",
      "_view_name": "LayoutView",
      "align_content": null,
      "align_items": null,
      "align_self": null,
      "border": null,
      "bottom": null,
      "display": null,
      "flex": null,
      "flex_flow": null,
      "grid_area": null,
      "grid_auto_columns": null,
      "grid_auto_flow": null,
      "grid_auto_rows": null,
      "grid_column": null,
      "grid_gap": null,
      "grid_row": null,
      "grid_template_areas": null,
      "grid_template_columns": null,
      "grid_template_rows": null,
      "height": null,
      "justify_content": null,
      "justify_items": null,
      "left": null,
      "margin": null,
      "max_height": null,
      "max_width": null,
      "min_height": null,
      "min_width": null,
      "object_fit": null,
      "object_position": null,
      "order": null,
      "overflow": null,
      "overflow_x": null,
      "overflow_y": null,
      "padding": null,
      "right": null,
      "top": null,
      "visibility": null,
      "width": null
     }
    },
    "b5b8510a319443ada3530f21a10dc2f2": {
     "model_module": "@jupyter-widgets/base",
     "model_module_version": "1.2.0",
     "model_name": "LayoutModel",
     "state": {
      "_model_module": "@jupyter-widgets/base",
      "_model_module_version": "1.2.0",
      "_model_name": "LayoutModel",
      "_view_count": null,
      "_view_module": "@jupyter-widgets/base",
      "_view_module_version": "1.2.0",
      "_view_name": "LayoutView",
      "align_content": null,
      "align_items": null,
      "align_self": null,
      "border": null,
      "bottom": null,
      "display": null,
      "flex": null,
      "flex_flow": null,
      "grid_area": null,
      "grid_auto_columns": null,
      "grid_auto_flow": null,
      "grid_auto_rows": null,
      "grid_column": null,
      "grid_gap": null,
      "grid_row": null,
      "grid_template_areas": null,
      "grid_template_columns": null,
      "grid_template_rows": null,
      "height": null,
      "justify_content": null,
      "justify_items": null,
      "left": null,
      "margin": null,
      "max_height": null,
      "max_width": null,
      "min_height": null,
      "min_width": null,
      "object_fit": null,
      "object_position": null,
      "order": null,
      "overflow": null,
      "overflow_x": null,
      "overflow_y": null,
      "padding": null,
      "right": null,
      "top": null,
      "visibility": null,
      "width": null
     }
    },
    "b766d2f5c95a40c2be865c488eabb626": {
     "model_module": "@jupyter-widgets/base",
     "model_module_version": "1.2.0",
     "model_name": "LayoutModel",
     "state": {
      "_model_module": "@jupyter-widgets/base",
      "_model_module_version": "1.2.0",
      "_model_name": "LayoutModel",
      "_view_count": null,
      "_view_module": "@jupyter-widgets/base",
      "_view_module_version": "1.2.0",
      "_view_name": "LayoutView",
      "align_content": null,
      "align_items": null,
      "align_self": null,
      "border": null,
      "bottom": null,
      "display": null,
      "flex": null,
      "flex_flow": null,
      "grid_area": null,
      "grid_auto_columns": null,
      "grid_auto_flow": null,
      "grid_auto_rows": null,
      "grid_column": null,
      "grid_gap": null,
      "grid_row": null,
      "grid_template_areas": null,
      "grid_template_columns": null,
      "grid_template_rows": null,
      "height": null,
      "justify_content": null,
      "justify_items": null,
      "left": null,
      "margin": null,
      "max_height": null,
      "max_width": null,
      "min_height": null,
      "min_width": null,
      "object_fit": null,
      "object_position": null,
      "order": null,
      "overflow": null,
      "overflow_x": null,
      "overflow_y": null,
      "padding": null,
      "right": null,
      "top": null,
      "visibility": null,
      "width": null
     }
    },
    "bb0aa58ac7c04d4296e81374a170b72e": {
     "model_module": "@jupyter-widgets/controls",
     "model_module_version": "1.5.0",
     "model_name": "HBoxModel",
     "state": {
      "_dom_classes": [],
      "_model_module": "@jupyter-widgets/controls",
      "_model_module_version": "1.5.0",
      "_model_name": "HBoxModel",
      "_view_count": null,
      "_view_module": "@jupyter-widgets/controls",
      "_view_module_version": "1.5.0",
      "_view_name": "HBoxView",
      "box_style": "",
      "children": [
       "IPY_MODEL_e0957e2dc28f4297abb59c4373b01eef",
       "IPY_MODEL_e977d81b58524d6d9c4d10fedfc54dac",
       "IPY_MODEL_4edff55db4c6406f8d4221654bfa1632"
      ],
      "layout": "IPY_MODEL_d190a1824209440a9810c5d8d5570caa"
     }
    },
    "c05b4e280bfc4051aef1d9e17582ef88": {
     "model_module": "@jupyter-widgets/base",
     "model_module_version": "1.2.0",
     "model_name": "LayoutModel",
     "state": {
      "_model_module": "@jupyter-widgets/base",
      "_model_module_version": "1.2.0",
      "_model_name": "LayoutModel",
      "_view_count": null,
      "_view_module": "@jupyter-widgets/base",
      "_view_module_version": "1.2.0",
      "_view_name": "LayoutView",
      "align_content": null,
      "align_items": null,
      "align_self": null,
      "border": null,
      "bottom": null,
      "display": null,
      "flex": null,
      "flex_flow": null,
      "grid_area": null,
      "grid_auto_columns": null,
      "grid_auto_flow": null,
      "grid_auto_rows": null,
      "grid_column": null,
      "grid_gap": null,
      "grid_row": null,
      "grid_template_areas": null,
      "grid_template_columns": null,
      "grid_template_rows": null,
      "height": null,
      "justify_content": null,
      "justify_items": null,
      "left": null,
      "margin": null,
      "max_height": null,
      "max_width": null,
      "min_height": null,
      "min_width": null,
      "object_fit": null,
      "object_position": null,
      "order": null,
      "overflow": null,
      "overflow_x": null,
      "overflow_y": null,
      "padding": null,
      "right": null,
      "top": null,
      "visibility": null,
      "width": null
     }
    },
    "c211fd24871d45cf9187dc4d922ef235": {
     "model_module": "@jupyter-widgets/base",
     "model_module_version": "1.2.0",
     "model_name": "LayoutModel",
     "state": {
      "_model_module": "@jupyter-widgets/base",
      "_model_module_version": "1.2.0",
      "_model_name": "LayoutModel",
      "_view_count": null,
      "_view_module": "@jupyter-widgets/base",
      "_view_module_version": "1.2.0",
      "_view_name": "LayoutView",
      "align_content": null,
      "align_items": null,
      "align_self": null,
      "border": null,
      "bottom": null,
      "display": null,
      "flex": null,
      "flex_flow": null,
      "grid_area": null,
      "grid_auto_columns": null,
      "grid_auto_flow": null,
      "grid_auto_rows": null,
      "grid_column": null,
      "grid_gap": null,
      "grid_row": null,
      "grid_template_areas": null,
      "grid_template_columns": null,
      "grid_template_rows": null,
      "height": null,
      "justify_content": null,
      "justify_items": null,
      "left": null,
      "margin": null,
      "max_height": null,
      "max_width": null,
      "min_height": null,
      "min_width": null,
      "object_fit": null,
      "object_position": null,
      "order": null,
      "overflow": null,
      "overflow_x": null,
      "overflow_y": null,
      "padding": null,
      "right": null,
      "top": null,
      "visibility": null,
      "width": null
     }
    },
    "c932502c5a5f468db23624448255e6ce": {
     "model_module": "@jupyter-widgets/controls",
     "model_module_version": "1.5.0",
     "model_name": "HTMLModel",
     "state": {
      "_dom_classes": [],
      "_model_module": "@jupyter-widgets/controls",
      "_model_module_version": "1.5.0",
      "_model_name": "HTMLModel",
      "_view_count": null,
      "_view_module": "@jupyter-widgets/controls",
      "_view_module_version": "1.5.0",
      "_view_name": "HTMLView",
      "description": "",
      "description_tooltip": null,
      "layout": "IPY_MODEL_d46a3ac0c15b4cf29f0f6df3cf6f3ad4",
      "placeholder": "​",
      "style": "IPY_MODEL_cc28452c086f4b38862589d4980240f8",
      "value": "100%"
     }
    },
    "cae697a20efc45bbb1325ce8652882ac": {
     "model_module": "@jupyter-widgets/base",
     "model_module_version": "1.2.0",
     "model_name": "LayoutModel",
     "state": {
      "_model_module": "@jupyter-widgets/base",
      "_model_module_version": "1.2.0",
      "_model_name": "LayoutModel",
      "_view_count": null,
      "_view_module": "@jupyter-widgets/base",
      "_view_module_version": "1.2.0",
      "_view_name": "LayoutView",
      "align_content": null,
      "align_items": null,
      "align_self": null,
      "border": null,
      "bottom": null,
      "display": null,
      "flex": null,
      "flex_flow": null,
      "grid_area": null,
      "grid_auto_columns": null,
      "grid_auto_flow": null,
      "grid_auto_rows": null,
      "grid_column": null,
      "grid_gap": null,
      "grid_row": null,
      "grid_template_areas": null,
      "grid_template_columns": null,
      "grid_template_rows": null,
      "height": null,
      "justify_content": null,
      "justify_items": null,
      "left": null,
      "margin": null,
      "max_height": null,
      "max_width": null,
      "min_height": null,
      "min_width": null,
      "object_fit": null,
      "object_position": null,
      "order": null,
      "overflow": null,
      "overflow_x": null,
      "overflow_y": null,
      "padding": null,
      "right": null,
      "top": null,
      "visibility": null,
      "width": null
     }
    },
    "cc28452c086f4b38862589d4980240f8": {
     "model_module": "@jupyter-widgets/controls",
     "model_module_version": "1.5.0",
     "model_name": "DescriptionStyleModel",
     "state": {
      "_model_module": "@jupyter-widgets/controls",
      "_model_module_version": "1.5.0",
      "_model_name": "DescriptionStyleModel",
      "_view_count": null,
      "_view_module": "@jupyter-widgets/base",
      "_view_module_version": "1.2.0",
      "_view_name": "StyleView",
      "description_width": ""
     }
    },
    "cdb5980047ad44ecac5022aa4b9e171f": {
     "model_module": "@jupyter-widgets/base",
     "model_module_version": "1.2.0",
     "model_name": "LayoutModel",
     "state": {
      "_model_module": "@jupyter-widgets/base",
      "_model_module_version": "1.2.0",
      "_model_name": "LayoutModel",
      "_view_count": null,
      "_view_module": "@jupyter-widgets/base",
      "_view_module_version": "1.2.0",
      "_view_name": "LayoutView",
      "align_content": null,
      "align_items": null,
      "align_self": null,
      "border": null,
      "bottom": null,
      "display": null,
      "flex": null,
      "flex_flow": null,
      "grid_area": null,
      "grid_auto_columns": null,
      "grid_auto_flow": null,
      "grid_auto_rows": null,
      "grid_column": null,
      "grid_gap": null,
      "grid_row": null,
      "grid_template_areas": null,
      "grid_template_columns": null,
      "grid_template_rows": null,
      "height": null,
      "justify_content": null,
      "justify_items": null,
      "left": null,
      "margin": null,
      "max_height": null,
      "max_width": null,
      "min_height": null,
      "min_width": null,
      "object_fit": null,
      "object_position": null,
      "order": null,
      "overflow": null,
      "overflow_x": null,
      "overflow_y": null,
      "padding": null,
      "right": null,
      "top": null,
      "visibility": null,
      "width": null
     }
    },
    "d190a1824209440a9810c5d8d5570caa": {
     "model_module": "@jupyter-widgets/base",
     "model_module_version": "1.2.0",
     "model_name": "LayoutModel",
     "state": {
      "_model_module": "@jupyter-widgets/base",
      "_model_module_version": "1.2.0",
      "_model_name": "LayoutModel",
      "_view_count": null,
      "_view_module": "@jupyter-widgets/base",
      "_view_module_version": "1.2.0",
      "_view_name": "LayoutView",
      "align_content": null,
      "align_items": null,
      "align_self": null,
      "border": null,
      "bottom": null,
      "display": null,
      "flex": null,
      "flex_flow": null,
      "grid_area": null,
      "grid_auto_columns": null,
      "grid_auto_flow": null,
      "grid_auto_rows": null,
      "grid_column": null,
      "grid_gap": null,
      "grid_row": null,
      "grid_template_areas": null,
      "grid_template_columns": null,
      "grid_template_rows": null,
      "height": null,
      "justify_content": null,
      "justify_items": null,
      "left": null,
      "margin": null,
      "max_height": null,
      "max_width": null,
      "min_height": null,
      "min_width": null,
      "object_fit": null,
      "object_position": null,
      "order": null,
      "overflow": null,
      "overflow_x": null,
      "overflow_y": null,
      "padding": null,
      "right": null,
      "top": null,
      "visibility": null,
      "width": null
     }
    },
    "d46a3ac0c15b4cf29f0f6df3cf6f3ad4": {
     "model_module": "@jupyter-widgets/base",
     "model_module_version": "1.2.0",
     "model_name": "LayoutModel",
     "state": {
      "_model_module": "@jupyter-widgets/base",
      "_model_module_version": "1.2.0",
      "_model_name": "LayoutModel",
      "_view_count": null,
      "_view_module": "@jupyter-widgets/base",
      "_view_module_version": "1.2.0",
      "_view_name": "LayoutView",
      "align_content": null,
      "align_items": null,
      "align_self": null,
      "border": null,
      "bottom": null,
      "display": null,
      "flex": null,
      "flex_flow": null,
      "grid_area": null,
      "grid_auto_columns": null,
      "grid_auto_flow": null,
      "grid_auto_rows": null,
      "grid_column": null,
      "grid_gap": null,
      "grid_row": null,
      "grid_template_areas": null,
      "grid_template_columns": null,
      "grid_template_rows": null,
      "height": null,
      "justify_content": null,
      "justify_items": null,
      "left": null,
      "margin": null,
      "max_height": null,
      "max_width": null,
      "min_height": null,
      "min_width": null,
      "object_fit": null,
      "object_position": null,
      "order": null,
      "overflow": null,
      "overflow_x": null,
      "overflow_y": null,
      "padding": null,
      "right": null,
      "top": null,
      "visibility": null,
      "width": null
     }
    },
    "d87825416c5d4b01ad9ae46a5dd61d02": {
     "model_module": "@jupyter-widgets/base",
     "model_module_version": "1.2.0",
     "model_name": "LayoutModel",
     "state": {
      "_model_module": "@jupyter-widgets/base",
      "_model_module_version": "1.2.0",
      "_model_name": "LayoutModel",
      "_view_count": null,
      "_view_module": "@jupyter-widgets/base",
      "_view_module_version": "1.2.0",
      "_view_name": "LayoutView",
      "align_content": null,
      "align_items": null,
      "align_self": null,
      "border": null,
      "bottom": null,
      "display": null,
      "flex": null,
      "flex_flow": null,
      "grid_area": null,
      "grid_auto_columns": null,
      "grid_auto_flow": null,
      "grid_auto_rows": null,
      "grid_column": null,
      "grid_gap": null,
      "grid_row": null,
      "grid_template_areas": null,
      "grid_template_columns": null,
      "grid_template_rows": null,
      "height": null,
      "justify_content": null,
      "justify_items": null,
      "left": null,
      "margin": null,
      "max_height": null,
      "max_width": null,
      "min_height": null,
      "min_width": null,
      "object_fit": null,
      "object_position": null,
      "order": null,
      "overflow": null,
      "overflow_x": null,
      "overflow_y": null,
      "padding": null,
      "right": null,
      "top": null,
      "visibility": null,
      "width": null
     }
    },
    "d9406e5d81484d76a67561ec174ec57e": {
     "model_module": "@jupyter-widgets/controls",
     "model_module_version": "1.5.0",
     "model_name": "HTMLModel",
     "state": {
      "_dom_classes": [],
      "_model_module": "@jupyter-widgets/controls",
      "_model_module_version": "1.5.0",
      "_model_name": "HTMLModel",
      "_view_count": null,
      "_view_module": "@jupyter-widgets/controls",
      "_view_module_version": "1.5.0",
      "_view_name": "HTMLView",
      "description": "",
      "description_tooltip": null,
      "layout": "IPY_MODEL_75e3ba9d5818443ebb95df58b7553cd4",
      "placeholder": "​",
      "style": "IPY_MODEL_01279d2029534d6786553d6b4d0e7a98",
      "value": " 696/696 [00:01&lt;00:00, 695.76it/s]"
     }
    },
    "dea5e07af52c4a51a7feaad3e26373cc": {
     "model_module": "@jupyter-widgets/controls",
     "model_module_version": "1.5.0",
     "model_name": "FloatProgressModel",
     "state": {
      "_dom_classes": [],
      "_model_module": "@jupyter-widgets/controls",
      "_model_module_version": "1.5.0",
      "_model_name": "FloatProgressModel",
      "_view_count": null,
      "_view_module": "@jupyter-widgets/controls",
      "_view_module_version": "1.5.0",
      "_view_name": "ProgressView",
      "bar_style": "success",
      "description": "",
      "description_tooltip": null,
      "layout": "IPY_MODEL_cdb5980047ad44ecac5022aa4b9e171f",
      "max": 3198,
      "min": 0,
      "orientation": "horizontal",
      "style": "IPY_MODEL_7b6d5da372c14549ab283adac75de0de",
      "value": 3198
     }
    },
    "e0957e2dc28f4297abb59c4373b01eef": {
     "model_module": "@jupyter-widgets/controls",
     "model_module_version": "1.5.0",
     "model_name": "HTMLModel",
     "state": {
      "_dom_classes": [],
      "_model_module": "@jupyter-widgets/controls",
      "_model_module_version": "1.5.0",
      "_model_name": "HTMLModel",
      "_view_count": null,
      "_view_module": "@jupyter-widgets/controls",
      "_view_module_version": "1.5.0",
      "_view_name": "HTMLView",
      "description": "",
      "description_tooltip": null,
      "layout": "IPY_MODEL_e4e013583e5d4fc1ad88e4f1a5157201",
      "placeholder": "​",
      "style": "IPY_MODEL_a5e4b85b23b14b538fb645d5afe84b7b",
      "value": "100%"
     }
    },
    "e0a14806d7874c96a34e34f4e49d998a": {
     "model_module": "@jupyter-widgets/controls",
     "model_module_version": "1.5.0",
     "model_name": "HTMLModel",
     "state": {
      "_dom_classes": [],
      "_model_module": "@jupyter-widgets/controls",
      "_model_module_version": "1.5.0",
      "_model_name": "HTMLModel",
      "_view_count": null,
      "_view_module": "@jupyter-widgets/controls",
      "_view_module_version": "1.5.0",
      "_view_name": "HTMLView",
      "description": "",
      "description_tooltip": null,
      "layout": "IPY_MODEL_069cb3ad0b604ed2a6be0caf1f2f996e",
      "placeholder": "​",
      "style": "IPY_MODEL_19008a63e87c466e96999c82cfa45c22",
      "value": " 3198/3198 [00:05&lt;00:00, 657.57it/s]"
     }
    },
    "e12fcc4679034fc08a40e9f8be3a2e38": {
     "model_module": "@jupyter-widgets/controls",
     "model_module_version": "1.5.0",
     "model_name": "HTMLModel",
     "state": {
      "_dom_classes": [],
      "_model_module": "@jupyter-widgets/controls",
      "_model_module_version": "1.5.0",
      "_model_name": "HTMLModel",
      "_view_count": null,
      "_view_module": "@jupyter-widgets/controls",
      "_view_module_version": "1.5.0",
      "_view_name": "HTMLView",
      "description": "",
      "description_tooltip": null,
      "layout": "IPY_MODEL_b44dd32294eb40bba2fb193485f425b3",
      "placeholder": "​",
      "style": "IPY_MODEL_10678527ea924acea9bf07c9e0fdfeb5",
      "value": "100%"
     }
    },
    "e1b901c6091a4cc0891f0deb96551d7f": {
     "model_module": "@jupyter-widgets/base",
     "model_module_version": "1.2.0",
     "model_name": "LayoutModel",
     "state": {
      "_model_module": "@jupyter-widgets/base",
      "_model_module_version": "1.2.0",
      "_model_name": "LayoutModel",
      "_view_count": null,
      "_view_module": "@jupyter-widgets/base",
      "_view_module_version": "1.2.0",
      "_view_name": "LayoutView",
      "align_content": null,
      "align_items": null,
      "align_self": null,
      "border": null,
      "bottom": null,
      "display": null,
      "flex": null,
      "flex_flow": null,
      "grid_area": null,
      "grid_auto_columns": null,
      "grid_auto_flow": null,
      "grid_auto_rows": null,
      "grid_column": null,
      "grid_gap": null,
      "grid_row": null,
      "grid_template_areas": null,
      "grid_template_columns": null,
      "grid_template_rows": null,
      "height": null,
      "justify_content": null,
      "justify_items": null,
      "left": null,
      "margin": null,
      "max_height": null,
      "max_width": null,
      "min_height": null,
      "min_width": null,
      "object_fit": null,
      "object_position": null,
      "order": null,
      "overflow": null,
      "overflow_x": null,
      "overflow_y": null,
      "padding": null,
      "right": null,
      "top": null,
      "visibility": null,
      "width": null
     }
    },
    "e4e013583e5d4fc1ad88e4f1a5157201": {
     "model_module": "@jupyter-widgets/base",
     "model_module_version": "1.2.0",
     "model_name": "LayoutModel",
     "state": {
      "_model_module": "@jupyter-widgets/base",
      "_model_module_version": "1.2.0",
      "_model_name": "LayoutModel",
      "_view_count": null,
      "_view_module": "@jupyter-widgets/base",
      "_view_module_version": "1.2.0",
      "_view_name": "LayoutView",
      "align_content": null,
      "align_items": null,
      "align_self": null,
      "border": null,
      "bottom": null,
      "display": null,
      "flex": null,
      "flex_flow": null,
      "grid_area": null,
      "grid_auto_columns": null,
      "grid_auto_flow": null,
      "grid_auto_rows": null,
      "grid_column": null,
      "grid_gap": null,
      "grid_row": null,
      "grid_template_areas": null,
      "grid_template_columns": null,
      "grid_template_rows": null,
      "height": null,
      "justify_content": null,
      "justify_items": null,
      "left": null,
      "margin": null,
      "max_height": null,
      "max_width": null,
      "min_height": null,
      "min_width": null,
      "object_fit": null,
      "object_position": null,
      "order": null,
      "overflow": null,
      "overflow_x": null,
      "overflow_y": null,
      "padding": null,
      "right": null,
      "top": null,
      "visibility": null,
      "width": null
     }
    },
    "e977d81b58524d6d9c4d10fedfc54dac": {
     "model_module": "@jupyter-widgets/controls",
     "model_module_version": "1.5.0",
     "model_name": "FloatProgressModel",
     "state": {
      "_dom_classes": [],
      "_model_module": "@jupyter-widgets/controls",
      "_model_module_version": "1.5.0",
      "_model_name": "FloatProgressModel",
      "_view_count": null,
      "_view_module": "@jupyter-widgets/controls",
      "_view_module_version": "1.5.0",
      "_view_name": "ProgressView",
      "bar_style": "success",
      "description": "",
      "description_tooltip": null,
      "layout": "IPY_MODEL_38084b641c3f405099425424cc745424",
      "max": 1437,
      "min": 0,
      "orientation": "horizontal",
      "style": "IPY_MODEL_861b7b28d9674a48b277b5c7156df33a",
      "value": 1437
     }
    },
    "ed978114dcad4698b5ba1e85bdddece8": {
     "model_module": "@jupyter-widgets/controls",
     "model_module_version": "1.5.0",
     "model_name": "DescriptionStyleModel",
     "state": {
      "_model_module": "@jupyter-widgets/controls",
      "_model_module_version": "1.5.0",
      "_model_name": "DescriptionStyleModel",
      "_view_count": null,
      "_view_module": "@jupyter-widgets/base",
      "_view_module_version": "1.2.0",
      "_view_name": "StyleView",
      "description_width": ""
     }
    },
    "f51b8881f2f14fad9dccf9bc08f62433": {
     "model_module": "@jupyter-widgets/base",
     "model_module_version": "1.2.0",
     "model_name": "LayoutModel",
     "state": {
      "_model_module": "@jupyter-widgets/base",
      "_model_module_version": "1.2.0",
      "_model_name": "LayoutModel",
      "_view_count": null,
      "_view_module": "@jupyter-widgets/base",
      "_view_module_version": "1.2.0",
      "_view_name": "LayoutView",
      "align_content": null,
      "align_items": null,
      "align_self": null,
      "border": null,
      "bottom": null,
      "display": null,
      "flex": null,
      "flex_flow": null,
      "grid_area": null,
      "grid_auto_columns": null,
      "grid_auto_flow": null,
      "grid_auto_rows": null,
      "grid_column": null,
      "grid_gap": null,
      "grid_row": null,
      "grid_template_areas": null,
      "grid_template_columns": null,
      "grid_template_rows": null,
      "height": null,
      "justify_content": null,
      "justify_items": null,
      "left": null,
      "margin": null,
      "max_height": null,
      "max_width": null,
      "min_height": null,
      "min_width": null,
      "object_fit": null,
      "object_position": null,
      "order": null,
      "overflow": null,
      "overflow_x": null,
      "overflow_y": null,
      "padding": null,
      "right": null,
      "top": null,
      "visibility": null,
      "width": null
     }
    },
    "f9507f3830c64b18a81c7d931837b785": {
     "model_module": "@jupyter-widgets/controls",
     "model_module_version": "1.5.0",
     "model_name": "HBoxModel",
     "state": {
      "_dom_classes": [],
      "_model_module": "@jupyter-widgets/controls",
      "_model_module_version": "1.5.0",
      "_model_name": "HBoxModel",
      "_view_count": null,
      "_view_module": "@jupyter-widgets/controls",
      "_view_module_version": "1.5.0",
      "_view_name": "HBoxView",
      "box_style": "",
      "children": [
       "IPY_MODEL_e12fcc4679034fc08a40e9f8be3a2e38",
       "IPY_MODEL_8fab7124536846aeb449696eff23df66",
       "IPY_MODEL_814d3eb28e654ce2b2088826b897ff0e"
      ],
      "layout": "IPY_MODEL_67c6b8bb5d624de0ad843f592aebc1d0"
     }
    },
    "fbb20ac2135d4620a801013452880995": {
     "model_module": "@jupyter-widgets/controls",
     "model_module_version": "1.5.0",
     "model_name": "HBoxModel",
     "state": {
      "_dom_classes": [],
      "_model_module": "@jupyter-widgets/controls",
      "_model_module_version": "1.5.0",
      "_model_name": "HBoxModel",
      "_view_count": null,
      "_view_module": "@jupyter-widgets/controls",
      "_view_module_version": "1.5.0",
      "_view_name": "HBoxView",
      "box_style": "",
      "children": [
       "IPY_MODEL_5d2ca24873c248a8a80b9866e2aff43a",
       "IPY_MODEL_dea5e07af52c4a51a7feaad3e26373cc",
       "IPY_MODEL_e0a14806d7874c96a34e34f4e49d998a"
      ],
      "layout": "IPY_MODEL_19ae692079774bba8a0e714002a00529"
     }
    },
    "fc1ecb0dacb54976a0a294b202ec5621": {
     "model_module": "@jupyter-widgets/controls",
     "model_module_version": "1.5.0",
     "model_name": "ProgressStyleModel",
     "state": {
      "_model_module": "@jupyter-widgets/controls",
      "_model_module_version": "1.5.0",
      "_model_name": "ProgressStyleModel",
      "_view_count": null,
      "_view_module": "@jupyter-widgets/base",
      "_view_module_version": "1.2.0",
      "_view_name": "StyleView",
      "bar_color": null,
      "description_width": ""
     }
    },
    "fe44a5ee8d474ab48f544873933f73f1": {
     "model_module": "@jupyter-widgets/controls",
     "model_module_version": "1.5.0",
     "model_name": "HTMLModel",
     "state": {
      "_dom_classes": [],
      "_model_module": "@jupyter-widgets/controls",
      "_model_module_version": "1.5.0",
      "_model_name": "HTMLModel",
      "_view_count": null,
      "_view_module": "@jupyter-widgets/controls",
      "_view_module_version": "1.5.0",
      "_view_name": "HTMLView",
      "description": "",
      "description_tooltip": null,
      "layout": "IPY_MODEL_b5b8510a319443ada3530f21a10dc2f2",
      "placeholder": "​",
      "style": "IPY_MODEL_ed978114dcad4698b5ba1e85bdddece8",
      "value": " 3198/3198 [00:04&lt;00:00, 768.68it/s]"
     }
    }
   }
  }
 },
 "nbformat": 4,
 "nbformat_minor": 4
}
