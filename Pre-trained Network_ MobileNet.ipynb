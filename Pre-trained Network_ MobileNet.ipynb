{
 "cells": [
  {
   "cell_type": "markdown",
   "metadata": {
    "id": "7XLoBMRb6tX1"
   },
   "source": [
    "# Solve the problem leveraging MobileNet architecture\n",
    "In this notebook, we will use the MobileNet architecture for our classification problem.\n",
    "\n",
    "First, we'll try a simple **feature extraction**. Since the architecture was trained on a different dataset, we do not expect very good performance, but we can use these results as a baseline for the next step: **fine-tuning**."
   ]
  },
  {
   "cell_type": "markdown",
   "metadata": {
    "id": "l5s-N9DXYZDC"
   },
   "source": [
    "## Import Libraries\n",
    "First of all, let's import all the libraries we will need later."
   ]
  },
  {
   "cell_type": "code",
   "execution_count": 1,
   "metadata": {
    "executionInfo": {
     "elapsed": 3342,
     "status": "ok",
     "timestamp": 1642022161182,
     "user": {
      "displayName": "Federica Baldi",
      "photoUrl": "https://lh3.googleusercontent.com/a-/AOh14Gj0eALl9wD-GJPtSTMAFK0DvDlcGWh5ZTpdGFtwCIo=s64",
      "userId": "15726835528723494588"
     },
     "user_tz": -60
    },
    "id": "790GcOInQ_yw"
   },
   "outputs": [],
   "source": [
    "import os\n",
    "import shutil\n",
    "import numpy as np\n",
    "import random as rn\n",
    "import tensorflow as tf\n",
    "import seaborn as sns\n",
    "from tensorflow import keras\n",
    "from tensorflow.keras.utils import image_dataset_from_directory\n",
    "from tensorflow.keras import layers, models\n",
    "from tensorflow.keras.models import Sequential\n",
    "from tensorflow.keras import optimizers\n",
    "from tensorflow.keras import regularizers\n",
    "from keras.models import Model\n",
    "import matplotlib.pyplot as plt\n",
    "from sklearn import metrics\n",
    "from sklearn.metrics import confusion_matrix"
   ]
  },
  {
   "cell_type": "markdown",
   "metadata": {
    "id": "Yxzg2PnmCPQN"
   },
   "source": [
    "## Set Parameters"
   ]
  },
  {
   "cell_type": "code",
   "execution_count": 2,
   "metadata": {
    "executionInfo": {
     "elapsed": 56,
     "status": "ok",
     "timestamp": 1642022248860,
     "user": {
      "displayName": "Federica Baldi",
      "photoUrl": "https://lh3.googleusercontent.com/a-/AOh14Gj0eALl9wD-GJPtSTMAFK0DvDlcGWh5ZTpdGFtwCIo=s64",
      "userId": "15726835528723494588"
     },
     "user_tz": -60
    },
    "id": "4g8Gw3SoCW2-"
   },
   "outputs": [],
   "source": [
    "DATASET_PATH = \"SplittedDataset\"\n",
    "TRAINING_PATH = DATASET_PATH + '/training_set'\n",
    "TRAINING_ALL_PATH = TRAINING_PATH + '/all'\n",
    "TRAINING_HEM_PATH = TRAINING_PATH + '/hem'\n",
    "VALIDATION_PATH = DATASET_PATH + '/validation_set'\n",
    "TEST_PATH = DATASET_PATH + '/test_set'\n",
    "\n",
    "LOCAL_MODELS_FOLDER = \"content/models\"\n",
    "if not os.path.exists(LOCAL_MODELS_FOLDER):\n",
    "  os.makedirs(LOCAL_MODELS_FOLDER)\n",
    "GLOBAL_MODELS_FOLDER = \"content/drive/My Drive/Baldi_Cioffo/models/mobilenet\"\n",
    "if not os.path.exists(GLOBAL_MODELS_FOLDER):\n",
    "  os.makedirs(GLOBAL_MODELS_FOLDER)\n",
    "\n",
    "# Default values to load the dataset\n",
    "BATCH_SIZE = 32\n",
    "IMAGE_HEIGHT = 224\n",
    "IMAGE_WIDTH = 224"
   ]
  },
  {
   "cell_type": "markdown",
   "metadata": {
    "id": "NaDMLtupmIEk"
   },
   "source": [
    "## Utility Functions"
   ]
  },
  {
   "cell_type": "code",
   "execution_count": 3,
   "metadata": {
    "executionInfo": {
     "elapsed": 47,
     "status": "ok",
     "timestamp": 1642022248861,
     "user": {
      "displayName": "Federica Baldi",
      "photoUrl": "https://lh3.googleusercontent.com/a-/AOh14Gj0eALl9wD-GJPtSTMAFK0DvDlcGWh5ZTpdGFtwCIo=s64",
      "userId": "15726835528723494588"
     },
     "user_tz": -60
    },
    "id": "fSX3ug4Cgwww"
   },
   "outputs": [],
   "source": [
    "def set_seed ():\n",
    "  ''' \n",
    "  set_seed is used to obtain reproducible results using keras during the development phase\n",
    "  '''\n",
    "  seed = 24\n",
    "  # The below is necessary for reproducible results of certain Python hash-based operations.\n",
    "  os.environ[\"PYTHONHASHSEED\"]=\"0\"\n",
    "  # The below is necessary for starting Numpy generated random numbers in a well-defined initial state.\n",
    "  np.random.seed(seed)\n",
    "  # The below is necessary for starting core Python generated random numbers in a well-defined state.\n",
    "  rn.seed(seed)\n",
    "  # The below tf.random.set_seed will make random number generation in TensorFlow have a well-defined initial state.\n",
    "  tf.random.set_seed(seed)\n",
    "\n",
    "def show_training_and_validation_performance(history):\n",
    "  '''\n",
    "  show_training_and_validation_performance is used to plot the performances during the training phase\n",
    "  :param history: object in which are recorded all the events\n",
    "  '''\n",
    "  acc = history.history['accuracy']\n",
    "  val_acc = history.history['val_accuracy']\n",
    "  loss = history.history['loss']\n",
    "  val_loss = history.history['val_loss']\n",
    "\n",
    "  epochs = range(len(acc))\n",
    "\n",
    "  plt.plot(epochs, acc, 'bo', label='Training accuracy')\n",
    "  plt.plot(epochs, val_acc, 'b', label='Validation accuracy')\n",
    "  plt.title('Training and validation accuracy')\n",
    "  plt.legend()\n",
    "\n",
    "  plt.figure()\n",
    "\n",
    "  plt.plot(epochs, loss, 'bo', label='Training loss')\n",
    "  plt.plot(epochs, val_loss, 'b', label='Validation loss')\n",
    "  plt.title('Training and validation loss')\n",
    "  plt.legend()\n",
    "\n",
    "  plt.show()\n",
    "\n",
    "def load_training_set (image_height, image_width, batch_size):\n",
    "  '''\n",
    "  load_training_set loads the training set from the \"training_set\" folder. The images are resized to height x width\n",
    "  :param image_height: standard height of the images\n",
    "  :param image_width: standard width of the images\n",
    "  :param batch_size: size of each batch\n",
    "  :return the training set\n",
    "  '''\n",
    "  return image_dataset_from_directory(\n",
    "    TRAINING_PATH,\n",
    "    image_size = (image_height, image_width),\n",
    "    batch_size = batch_size,\n",
    "    class_names = ['hem', 'all']) # explicit ordering of the labels, 0 for hem, 1 for all\n",
    "\n",
    "def load_validation_set (image_height, image_width, batch_size):\n",
    "  '''\n",
    "  load_validation_set loads the validation set from the \"validation_set\" folder. The images are resized to height x width\n",
    "  :param image_height: standard height of the images\n",
    "  :param image_width: standard width of the images\n",
    "  :param batch_size: size of each batch\n",
    "  :return the validation set\n",
    "  '''\n",
    "  return image_dataset_from_directory(\n",
    "    VALIDATION_PATH,\n",
    "    image_size = (image_height, image_width),\n",
    "    batch_size = batch_size,\n",
    "    class_names = ['hem', 'all']) # explicit ordering of the labels, 0 for hem, 1 for all\n",
    "\n",
    "def load_test_set (image_height, image_width, batch_size):\n",
    "  '''\n",
    "  load_test_set loads the test set from the \"test_set\" folder. The images are resized to height x width\n",
    "  :param image_height: standard height of the images\n",
    "  :param image_width: standard width of the images\n",
    "  :param batch_size: size of each batch\n",
    "  :return the test set\n",
    "  '''\n",
    "  return image_dataset_from_directory(\n",
    "    TEST_PATH,\n",
    "    image_size = (image_height, image_width),\n",
    "    batch_size = batch_size,\n",
    "    shuffle = False,\n",
    "    class_names = ['hem', 'all']) # explicit ordering of the labels, 0 for hem, 1 for all\n",
    "\n",
    "def compile_model (model, optimizer='adam', learning_rate = 0.001):\n",
    "  '''\n",
    "  compile_model is used to compile the current model\n",
    "  :param model: model to compile\n",
    "  :param optimizer: optimizer to be used\n",
    "  :param learning_rate: learning rate parameter for the optimizer\n",
    "  '''\n",
    "  if optimizer == 'adam':\n",
    "    model.compile(loss=\"binary_crossentropy\",\n",
    "      optimizer=optimizers.Adam(learning_rate=learning_rate),\n",
    "      metrics=[\"accuracy\"])\n",
    "  elif optimizer == 'rmsprop':\n",
    "    model.compile(loss=\"binary_crossentropy\",\n",
    "                  optimizer = optimizers.RMSprop(learning_rate=learning_rate),\n",
    "                  metrics=['accuracy'])\n",
    "  model.summary()\n",
    "\n",
    "def run_model (model, model_name, epochs = 20, patience=5, monitor='val_loss'):\n",
    "  '''\n",
    "  run_model is used to run the current mode\n",
    "  :param model: model to run\n",
    "  :param model_name: name given to save the model\n",
    "  :param epochs: how many epochs to do\n",
    "  :param patience: patience value for Early Stopping\n",
    "  :param monitor: what to monitor for Early Stopping and Model Checkpoint\n",
    "  '''\n",
    "  # local save path for the models\n",
    "  save_path = LOCAL_MODELS_FOLDER + '/' + model_name + '.h5'\n",
    "  callbacks_list = [\n",
    "                  keras.callbacks.EarlyStopping(monitor=monitor, patience=patience),\n",
    "                  keras.callbacks.ModelCheckpoint(\n",
    "                      filepath = save_path,\n",
    "                      monitor=monitor,\n",
    "                      verbose=1,\n",
    "                      save_best_only=True)\n",
    "                  ]\n",
    "  history = model.fit(train_dataset,\n",
    "                    epochs=epochs,\n",
    "                    validation_data=validation_dataset,\n",
    "                    callbacks=callbacks_list)\n",
    "  # save on Drive only the best model\n",
    "  shutil.copy(save_path, GLOBAL_MODELS_FOLDER + '/' + model_name + '.h5')\n",
    "  show_training_and_validation_performance(history)\n",
    "\n",
    "def evaluate_model (model):\n",
    "  '''\n",
    "  evaluate_model is used to plot some statistics about the performance on the test set\n",
    "  :param model: model to consider\n",
    "  '''\n",
    "  y_score = model.predict(test_dataset)\n",
    "  y_pred = np.rint(y_score) # to have 0 or 1\n",
    "  y_true = tf.concat([labels_batch for data_batch, labels_batch in test_dataset], axis = 0)\n",
    "  print(\"Classification report: \")\n",
    "  print(metrics.classification_report(y_true,y_pred,digits = 4))\n",
    "  #metrics.ConfusionMatrixDisplay.from_predictions(y_true, y_pred)\n",
    "\n",
    "  #Confusion Matrix\n",
    "  cf_matrix = confusion_matrix(y_true, y_pred);\n",
    "  sns.heatmap(cf_matrix, annot=True)\n",
    "\n",
    "  # ROC curve\n",
    "  fpr,tpr,th = metrics.roc_curve(y_true,y_score)\n",
    "  roc_auc = metrics.roc_auc_score(y_true,y_score)\n",
    "\n",
    "  plt.figure()\n",
    "  plt.plot(fpr, tpr, label='ROC curve (area = %0.2f)' % roc_auc)\n",
    "  plt.plot([0, 1], [0, 1], color='navy', linestyle='--')\n",
    "  plt.xlim([0.0, 1.0])\n",
    "  plt.ylim([0.0, 1.0])\n",
    "  plt.xlabel('False Positive Rate')\n",
    "  plt.ylabel('True Positive Rate')\n",
    "  plt.title('ROC curve')\n",
    "  plt.legend(loc=\"lower right\")\n",
    "  plt.show()"
   ]
  },
  {
   "cell_type": "markdown",
   "metadata": {
    "id": "C884lZO-YiB2"
   },
   "source": [
    "## Load Dataset\n",
    "The dataset, properly preprocessed, is now located in the local machine."
   ]
  },
  {
   "cell_type": "code",
   "execution_count": 4,
   "metadata": {
    "executionInfo": {
     "elapsed": 44,
     "status": "ok",
     "timestamp": 1642022248862,
     "user": {
      "displayName": "Federica Baldi",
      "photoUrl": "https://lh3.googleusercontent.com/a-/AOh14Gj0eALl9wD-GJPtSTMAFK0DvDlcGWh5ZTpdGFtwCIo=s64",
      "userId": "15726835528723494588"
     },
     "user_tz": -60
    },
    "id": "Geqbk8VwPP3v"
   },
   "outputs": [],
   "source": [
    "set_seed()"
   ]
  },
  {
   "cell_type": "markdown",
   "metadata": {
    "id": "KPZzj069gq-1"
   },
   "source": [
    "At this point we need to transform the images we have on disk into preprocessed tensors. \n",
    "\n",
    "We decided to use the size that ResNet-50 expects as input, which is 224x224, and to use batches of size 32."
   ]
  },
  {
   "cell_type": "code",
   "execution_count": 5,
   "metadata": {
    "colab": {
     "base_uri": "https://localhost:8080/"
    },
    "executionInfo": {
     "elapsed": 8642,
     "status": "ok",
     "timestamp": 1642022257465,
     "user": {
      "displayName": "Federica Baldi",
      "photoUrl": "https://lh3.googleusercontent.com/a-/AOh14Gj0eALl9wD-GJPtSTMAFK0DvDlcGWh5ZTpdGFtwCIo=s64",
      "userId": "15726835528723494588"
     },
     "user_tz": -60
    },
    "id": "0poDX9f3XRaK",
    "outputId": "456805d8-1548-411f-adf8-770b18abef24"
   },
   "outputs": [
    {
     "name": "stdout",
     "output_type": "stream",
     "text": [
      "Found 6396 files belonging to 2 classes.\n",
      "Found 2132 files belonging to 2 classes.\n",
      "Found 2132 files belonging to 2 classes.\n"
     ]
    }
   ],
   "source": [
    "train_dataset = load_training_set(IMAGE_HEIGHT, IMAGE_WIDTH, BATCH_SIZE)\n",
    "validation_dataset = load_validation_set(IMAGE_HEIGHT, IMAGE_WIDTH, BATCH_SIZE)\n",
    "test_dataset = load_test_set(IMAGE_HEIGHT, IMAGE_WIDTH, BATCH_SIZE)"
   ]
  },
  {
   "cell_type": "markdown",
   "metadata": {
    "id": "zbGkxCHHC8cX"
   },
   "source": [
    "## Feature extraction"
   ]
  },
  {
   "cell_type": "code",
   "execution_count": 6,
   "metadata": {
    "colab": {
     "base_uri": "https://localhost:8080/"
    },
    "executionInfo": {
     "elapsed": 988,
     "status": "ok",
     "timestamp": 1642020792021,
     "user": {
      "displayName": "DANIELE CIOFFO",
      "photoUrl": "https://lh3.googleusercontent.com/a/default-user=s64",
      "userId": "10062146559806518037"
     },
     "user_tz": -60
    },
    "id": "8ryJvwgmC-U-",
    "outputId": "79faeb60-b483-414c-a9bb-d6af7f5d2b46"
   },
   "outputs": [],
   "source": [
    "conv_base = tf.keras.applications.MobileNetV2(input_shape=(IMAGE_HEIGHT,IMAGE_WIDTH,3),alpha=1,include_top= False,weights=\"imagenet\")"
   ]
  },
  {
   "cell_type": "code",
   "execution_count": 7,
   "metadata": {
    "colab": {
     "base_uri": "https://localhost:8080/"
    },
    "executionInfo": {
     "elapsed": 417,
     "status": "ok",
     "timestamp": 1641801184815,
     "user": {
      "displayName": "Federica Baldi",
      "photoUrl": "https://lh3.googleusercontent.com/a-/AOh14Gj0eALl9wD-GJPtSTMAFK0DvDlcGWh5ZTpdGFtwCIo=s64",
      "userId": "15726835528723494588"
     },
     "user_tz": -60
    },
    "id": "WFIQ47uGDTR5",
    "outputId": "39c957f7-b6f1-47c5-c91c-88814d1ec3e6"
   },
   "outputs": [
    {
     "name": "stdout",
     "output_type": "stream",
     "text": [
      "Model: \"mobilenetv2_1.00_224\"\n",
      "__________________________________________________________________________________________________\n",
      "Layer (type)                    Output Shape         Param #     Connected to                     \n",
      "==================================================================================================\n",
      "input_1 (InputLayer)            [(None, 224, 224, 3) 0                                            \n",
      "__________________________________________________________________________________________________\n",
      "Conv1 (Conv2D)                  (None, 112, 112, 32) 864         input_1[0][0]                    \n",
      "__________________________________________________________________________________________________\n",
      "bn_Conv1 (BatchNormalization)   (None, 112, 112, 32) 128         Conv1[0][0]                      \n",
      "__________________________________________________________________________________________________\n",
      "Conv1_relu (ReLU)               (None, 112, 112, 32) 0           bn_Conv1[0][0]                   \n",
      "__________________________________________________________________________________________________\n",
      "expanded_conv_depthwise (Depthw (None, 112, 112, 32) 288         Conv1_relu[0][0]                 \n",
      "__________________________________________________________________________________________________\n",
      "expanded_conv_depthwise_BN (Bat (None, 112, 112, 32) 128         expanded_conv_depthwise[0][0]    \n",
      "__________________________________________________________________________________________________\n",
      "expanded_conv_depthwise_relu (R (None, 112, 112, 32) 0           expanded_conv_depthwise_BN[0][0] \n",
      "__________________________________________________________________________________________________\n",
      "expanded_conv_project (Conv2D)  (None, 112, 112, 16) 512         expanded_conv_depthwise_relu[0][0\n",
      "__________________________________________________________________________________________________\n",
      "expanded_conv_project_BN (Batch (None, 112, 112, 16) 64          expanded_conv_project[0][0]      \n",
      "__________________________________________________________________________________________________\n",
      "block_1_expand (Conv2D)         (None, 112, 112, 96) 1536        expanded_conv_project_BN[0][0]   \n",
      "__________________________________________________________________________________________________\n",
      "block_1_expand_BN (BatchNormali (None, 112, 112, 96) 384         block_1_expand[0][0]             \n",
      "__________________________________________________________________________________________________\n",
      "block_1_expand_relu (ReLU)      (None, 112, 112, 96) 0           block_1_expand_BN[0][0]          \n",
      "__________________________________________________________________________________________________\n",
      "block_1_pad (ZeroPadding2D)     (None, 113, 113, 96) 0           block_1_expand_relu[0][0]        \n",
      "__________________________________________________________________________________________________\n",
      "block_1_depthwise (DepthwiseCon (None, 56, 56, 96)   864         block_1_pad[0][0]                \n",
      "__________________________________________________________________________________________________\n",
      "block_1_depthwise_BN (BatchNorm (None, 56, 56, 96)   384         block_1_depthwise[0][0]          \n",
      "__________________________________________________________________________________________________\n",
      "block_1_depthwise_relu (ReLU)   (None, 56, 56, 96)   0           block_1_depthwise_BN[0][0]       \n",
      "__________________________________________________________________________________________________\n",
      "block_1_project (Conv2D)        (None, 56, 56, 24)   2304        block_1_depthwise_relu[0][0]     \n",
      "__________________________________________________________________________________________________\n",
      "block_1_project_BN (BatchNormal (None, 56, 56, 24)   96          block_1_project[0][0]            \n",
      "__________________________________________________________________________________________________\n",
      "block_2_expand (Conv2D)         (None, 56, 56, 144)  3456        block_1_project_BN[0][0]         \n",
      "__________________________________________________________________________________________________\n",
      "block_2_expand_BN (BatchNormali (None, 56, 56, 144)  576         block_2_expand[0][0]             \n",
      "__________________________________________________________________________________________________\n",
      "block_2_expand_relu (ReLU)      (None, 56, 56, 144)  0           block_2_expand_BN[0][0]          \n",
      "__________________________________________________________________________________________________\n",
      "block_2_depthwise (DepthwiseCon (None, 56, 56, 144)  1296        block_2_expand_relu[0][0]        \n",
      "__________________________________________________________________________________________________\n",
      "block_2_depthwise_BN (BatchNorm (None, 56, 56, 144)  576         block_2_depthwise[0][0]          \n",
      "__________________________________________________________________________________________________\n",
      "block_2_depthwise_relu (ReLU)   (None, 56, 56, 144)  0           block_2_depthwise_BN[0][0]       \n",
      "__________________________________________________________________________________________________\n",
      "block_2_project (Conv2D)        (None, 56, 56, 24)   3456        block_2_depthwise_relu[0][0]     \n",
      "__________________________________________________________________________________________________\n",
      "block_2_project_BN (BatchNormal (None, 56, 56, 24)   96          block_2_project[0][0]            \n",
      "__________________________________________________________________________________________________\n",
      "block_2_add (Add)               (None, 56, 56, 24)   0           block_1_project_BN[0][0]         \n",
      "                                                                 block_2_project_BN[0][0]         \n",
      "__________________________________________________________________________________________________\n",
      "block_3_expand (Conv2D)         (None, 56, 56, 144)  3456        block_2_add[0][0]                \n",
      "__________________________________________________________________________________________________\n",
      "block_3_expand_BN (BatchNormali (None, 56, 56, 144)  576         block_3_expand[0][0]             \n",
      "__________________________________________________________________________________________________\n",
      "block_3_expand_relu (ReLU)      (None, 56, 56, 144)  0           block_3_expand_BN[0][0]          \n",
      "__________________________________________________________________________________________________\n",
      "block_3_pad (ZeroPadding2D)     (None, 57, 57, 144)  0           block_3_expand_relu[0][0]        \n",
      "__________________________________________________________________________________________________\n",
      "block_3_depthwise (DepthwiseCon (None, 28, 28, 144)  1296        block_3_pad[0][0]                \n",
      "__________________________________________________________________________________________________\n",
      "block_3_depthwise_BN (BatchNorm (None, 28, 28, 144)  576         block_3_depthwise[0][0]          \n",
      "__________________________________________________________________________________________________\n",
      "block_3_depthwise_relu (ReLU)   (None, 28, 28, 144)  0           block_3_depthwise_BN[0][0]       \n",
      "__________________________________________________________________________________________________\n",
      "block_3_project (Conv2D)        (None, 28, 28, 32)   4608        block_3_depthwise_relu[0][0]     \n",
      "__________________________________________________________________________________________________\n",
      "block_3_project_BN (BatchNormal (None, 28, 28, 32)   128         block_3_project[0][0]            \n",
      "__________________________________________________________________________________________________\n",
      "block_4_expand (Conv2D)         (None, 28, 28, 192)  6144        block_3_project_BN[0][0]         \n",
      "__________________________________________________________________________________________________\n",
      "block_4_expand_BN (BatchNormali (None, 28, 28, 192)  768         block_4_expand[0][0]             \n",
      "__________________________________________________________________________________________________\n",
      "block_4_expand_relu (ReLU)      (None, 28, 28, 192)  0           block_4_expand_BN[0][0]          \n",
      "__________________________________________________________________________________________________\n",
      "block_4_depthwise (DepthwiseCon (None, 28, 28, 192)  1728        block_4_expand_relu[0][0]        \n",
      "__________________________________________________________________________________________________\n",
      "block_4_depthwise_BN (BatchNorm (None, 28, 28, 192)  768         block_4_depthwise[0][0]          \n",
      "__________________________________________________________________________________________________\n",
      "block_4_depthwise_relu (ReLU)   (None, 28, 28, 192)  0           block_4_depthwise_BN[0][0]       \n",
      "__________________________________________________________________________________________________\n",
      "block_4_project (Conv2D)        (None, 28, 28, 32)   6144        block_4_depthwise_relu[0][0]     \n",
      "__________________________________________________________________________________________________\n",
      "block_4_project_BN (BatchNormal (None, 28, 28, 32)   128         block_4_project[0][0]            \n",
      "__________________________________________________________________________________________________\n",
      "block_4_add (Add)               (None, 28, 28, 32)   0           block_3_project_BN[0][0]         \n",
      "                                                                 block_4_project_BN[0][0]         \n",
      "__________________________________________________________________________________________________\n",
      "block_5_expand (Conv2D)         (None, 28, 28, 192)  6144        block_4_add[0][0]                \n",
      "__________________________________________________________________________________________________\n",
      "block_5_expand_BN (BatchNormali (None, 28, 28, 192)  768         block_5_expand[0][0]             \n",
      "__________________________________________________________________________________________________\n",
      "block_5_expand_relu (ReLU)      (None, 28, 28, 192)  0           block_5_expand_BN[0][0]          \n",
      "__________________________________________________________________________________________________\n",
      "block_5_depthwise (DepthwiseCon (None, 28, 28, 192)  1728        block_5_expand_relu[0][0]        \n",
      "__________________________________________________________________________________________________\n",
      "block_5_depthwise_BN (BatchNorm (None, 28, 28, 192)  768         block_5_depthwise[0][0]          \n",
      "__________________________________________________________________________________________________\n",
      "block_5_depthwise_relu (ReLU)   (None, 28, 28, 192)  0           block_5_depthwise_BN[0][0]       \n",
      "__________________________________________________________________________________________________\n",
      "block_5_project (Conv2D)        (None, 28, 28, 32)   6144        block_5_depthwise_relu[0][0]     \n",
      "__________________________________________________________________________________________________\n",
      "block_5_project_BN (BatchNormal (None, 28, 28, 32)   128         block_5_project[0][0]            \n",
      "__________________________________________________________________________________________________\n",
      "block_5_add (Add)               (None, 28, 28, 32)   0           block_4_add[0][0]                \n",
      "                                                                 block_5_project_BN[0][0]         \n",
      "__________________________________________________________________________________________________\n",
      "block_6_expand (Conv2D)         (None, 28, 28, 192)  6144        block_5_add[0][0]                \n",
      "__________________________________________________________________________________________________\n",
      "block_6_expand_BN (BatchNormali (None, 28, 28, 192)  768         block_6_expand[0][0]             \n",
      "__________________________________________________________________________________________________\n",
      "block_6_expand_relu (ReLU)      (None, 28, 28, 192)  0           block_6_expand_BN[0][0]          \n",
      "__________________________________________________________________________________________________\n",
      "block_6_pad (ZeroPadding2D)     (None, 29, 29, 192)  0           block_6_expand_relu[0][0]        \n",
      "__________________________________________________________________________________________________\n",
      "block_6_depthwise (DepthwiseCon (None, 14, 14, 192)  1728        block_6_pad[0][0]                \n",
      "__________________________________________________________________________________________________\n",
      "block_6_depthwise_BN (BatchNorm (None, 14, 14, 192)  768         block_6_depthwise[0][0]          \n",
      "__________________________________________________________________________________________________\n",
      "block_6_depthwise_relu (ReLU)   (None, 14, 14, 192)  0           block_6_depthwise_BN[0][0]       \n",
      "__________________________________________________________________________________________________\n",
      "block_6_project (Conv2D)        (None, 14, 14, 64)   12288       block_6_depthwise_relu[0][0]     \n",
      "__________________________________________________________________________________________________\n",
      "block_6_project_BN (BatchNormal (None, 14, 14, 64)   256         block_6_project[0][0]            \n",
      "__________________________________________________________________________________________________\n",
      "block_7_expand (Conv2D)         (None, 14, 14, 384)  24576       block_6_project_BN[0][0]         \n",
      "__________________________________________________________________________________________________\n",
      "block_7_expand_BN (BatchNormali (None, 14, 14, 384)  1536        block_7_expand[0][0]             \n",
      "__________________________________________________________________________________________________\n",
      "block_7_expand_relu (ReLU)      (None, 14, 14, 384)  0           block_7_expand_BN[0][0]          \n",
      "__________________________________________________________________________________________________\n",
      "block_7_depthwise (DepthwiseCon (None, 14, 14, 384)  3456        block_7_expand_relu[0][0]        \n",
      "__________________________________________________________________________________________________\n",
      "block_7_depthwise_BN (BatchNorm (None, 14, 14, 384)  1536        block_7_depthwise[0][0]          \n",
      "__________________________________________________________________________________________________\n",
      "block_7_depthwise_relu (ReLU)   (None, 14, 14, 384)  0           block_7_depthwise_BN[0][0]       \n",
      "__________________________________________________________________________________________________\n",
      "block_7_project (Conv2D)        (None, 14, 14, 64)   24576       block_7_depthwise_relu[0][0]     \n",
      "__________________________________________________________________________________________________\n",
      "block_7_project_BN (BatchNormal (None, 14, 14, 64)   256         block_7_project[0][0]            \n",
      "__________________________________________________________________________________________________\n",
      "block_7_add (Add)               (None, 14, 14, 64)   0           block_6_project_BN[0][0]         \n",
      "                                                                 block_7_project_BN[0][0]         \n",
      "__________________________________________________________________________________________________\n",
      "block_8_expand (Conv2D)         (None, 14, 14, 384)  24576       block_7_add[0][0]                \n",
      "__________________________________________________________________________________________________\n",
      "block_8_expand_BN (BatchNormali (None, 14, 14, 384)  1536        block_8_expand[0][0]             \n",
      "__________________________________________________________________________________________________\n",
      "block_8_expand_relu (ReLU)      (None, 14, 14, 384)  0           block_8_expand_BN[0][0]          \n",
      "__________________________________________________________________________________________________\n",
      "block_8_depthwise (DepthwiseCon (None, 14, 14, 384)  3456        block_8_expand_relu[0][0]        \n",
      "__________________________________________________________________________________________________\n",
      "block_8_depthwise_BN (BatchNorm (None, 14, 14, 384)  1536        block_8_depthwise[0][0]          \n",
      "__________________________________________________________________________________________________\n",
      "block_8_depthwise_relu (ReLU)   (None, 14, 14, 384)  0           block_8_depthwise_BN[0][0]       \n",
      "__________________________________________________________________________________________________\n",
      "block_8_project (Conv2D)        (None, 14, 14, 64)   24576       block_8_depthwise_relu[0][0]     \n",
      "__________________________________________________________________________________________________\n",
      "block_8_project_BN (BatchNormal (None, 14, 14, 64)   256         block_8_project[0][0]            \n",
      "__________________________________________________________________________________________________\n",
      "block_8_add (Add)               (None, 14, 14, 64)   0           block_7_add[0][0]                \n",
      "                                                                 block_8_project_BN[0][0]         \n",
      "__________________________________________________________________________________________________\n",
      "block_9_expand (Conv2D)         (None, 14, 14, 384)  24576       block_8_add[0][0]                \n",
      "__________________________________________________________________________________________________\n",
      "block_9_expand_BN (BatchNormali (None, 14, 14, 384)  1536        block_9_expand[0][0]             \n",
      "__________________________________________________________________________________________________\n",
      "block_9_expand_relu (ReLU)      (None, 14, 14, 384)  0           block_9_expand_BN[0][0]          \n",
      "__________________________________________________________________________________________________\n",
      "block_9_depthwise (DepthwiseCon (None, 14, 14, 384)  3456        block_9_expand_relu[0][0]        \n",
      "__________________________________________________________________________________________________\n",
      "block_9_depthwise_BN (BatchNorm (None, 14, 14, 384)  1536        block_9_depthwise[0][0]          \n",
      "__________________________________________________________________________________________________\n",
      "block_9_depthwise_relu (ReLU)   (None, 14, 14, 384)  0           block_9_depthwise_BN[0][0]       \n",
      "__________________________________________________________________________________________________\n",
      "block_9_project (Conv2D)        (None, 14, 14, 64)   24576       block_9_depthwise_relu[0][0]     \n",
      "__________________________________________________________________________________________________\n",
      "block_9_project_BN (BatchNormal (None, 14, 14, 64)   256         block_9_project[0][0]            \n",
      "__________________________________________________________________________________________________\n",
      "block_9_add (Add)               (None, 14, 14, 64)   0           block_8_add[0][0]                \n",
      "                                                                 block_9_project_BN[0][0]         \n",
      "__________________________________________________________________________________________________\n",
      "block_10_expand (Conv2D)        (None, 14, 14, 384)  24576       block_9_add[0][0]                \n",
      "__________________________________________________________________________________________________\n",
      "block_10_expand_BN (BatchNormal (None, 14, 14, 384)  1536        block_10_expand[0][0]            \n",
      "__________________________________________________________________________________________________\n",
      "block_10_expand_relu (ReLU)     (None, 14, 14, 384)  0           block_10_expand_BN[0][0]         \n",
      "__________________________________________________________________________________________________\n",
      "block_10_depthwise (DepthwiseCo (None, 14, 14, 384)  3456        block_10_expand_relu[0][0]       \n",
      "__________________________________________________________________________________________________\n",
      "block_10_depthwise_BN (BatchNor (None, 14, 14, 384)  1536        block_10_depthwise[0][0]         \n",
      "__________________________________________________________________________________________________\n",
      "block_10_depthwise_relu (ReLU)  (None, 14, 14, 384)  0           block_10_depthwise_BN[0][0]      \n",
      "__________________________________________________________________________________________________\n",
      "block_10_project (Conv2D)       (None, 14, 14, 96)   36864       block_10_depthwise_relu[0][0]    \n",
      "__________________________________________________________________________________________________\n",
      "block_10_project_BN (BatchNorma (None, 14, 14, 96)   384         block_10_project[0][0]           \n",
      "__________________________________________________________________________________________________\n",
      "block_11_expand (Conv2D)        (None, 14, 14, 576)  55296       block_10_project_BN[0][0]        \n",
      "__________________________________________________________________________________________________\n",
      "block_11_expand_BN (BatchNormal (None, 14, 14, 576)  2304        block_11_expand[0][0]            \n",
      "__________________________________________________________________________________________________\n",
      "block_11_expand_relu (ReLU)     (None, 14, 14, 576)  0           block_11_expand_BN[0][0]         \n",
      "__________________________________________________________________________________________________\n",
      "block_11_depthwise (DepthwiseCo (None, 14, 14, 576)  5184        block_11_expand_relu[0][0]       \n",
      "__________________________________________________________________________________________________\n",
      "block_11_depthwise_BN (BatchNor (None, 14, 14, 576)  2304        block_11_depthwise[0][0]         \n",
      "__________________________________________________________________________________________________\n",
      "block_11_depthwise_relu (ReLU)  (None, 14, 14, 576)  0           block_11_depthwise_BN[0][0]      \n",
      "__________________________________________________________________________________________________\n",
      "block_11_project (Conv2D)       (None, 14, 14, 96)   55296       block_11_depthwise_relu[0][0]    \n",
      "__________________________________________________________________________________________________\n",
      "block_11_project_BN (BatchNorma (None, 14, 14, 96)   384         block_11_project[0][0]           \n",
      "__________________________________________________________________________________________________\n",
      "block_11_add (Add)              (None, 14, 14, 96)   0           block_10_project_BN[0][0]        \n",
      "                                                                 block_11_project_BN[0][0]        \n",
      "__________________________________________________________________________________________________\n",
      "block_12_expand (Conv2D)        (None, 14, 14, 576)  55296       block_11_add[0][0]               \n",
      "__________________________________________________________________________________________________\n",
      "block_12_expand_BN (BatchNormal (None, 14, 14, 576)  2304        block_12_expand[0][0]            \n",
      "__________________________________________________________________________________________________\n",
      "block_12_expand_relu (ReLU)     (None, 14, 14, 576)  0           block_12_expand_BN[0][0]         \n",
      "__________________________________________________________________________________________________\n",
      "block_12_depthwise (DepthwiseCo (None, 14, 14, 576)  5184        block_12_expand_relu[0][0]       \n",
      "__________________________________________________________________________________________________\n",
      "block_12_depthwise_BN (BatchNor (None, 14, 14, 576)  2304        block_12_depthwise[0][0]         \n",
      "__________________________________________________________________________________________________\n",
      "block_12_depthwise_relu (ReLU)  (None, 14, 14, 576)  0           block_12_depthwise_BN[0][0]      \n",
      "__________________________________________________________________________________________________\n",
      "block_12_project (Conv2D)       (None, 14, 14, 96)   55296       block_12_depthwise_relu[0][0]    \n",
      "__________________________________________________________________________________________________\n",
      "block_12_project_BN (BatchNorma (None, 14, 14, 96)   384         block_12_project[0][0]           \n",
      "__________________________________________________________________________________________________\n",
      "block_12_add (Add)              (None, 14, 14, 96)   0           block_11_add[0][0]               \n",
      "                                                                 block_12_project_BN[0][0]        \n",
      "__________________________________________________________________________________________________\n",
      "block_13_expand (Conv2D)        (None, 14, 14, 576)  55296       block_12_add[0][0]               \n",
      "__________________________________________________________________________________________________\n",
      "block_13_expand_BN (BatchNormal (None, 14, 14, 576)  2304        block_13_expand[0][0]            \n",
      "__________________________________________________________________________________________________\n",
      "block_13_expand_relu (ReLU)     (None, 14, 14, 576)  0           block_13_expand_BN[0][0]         \n",
      "__________________________________________________________________________________________________\n",
      "block_13_pad (ZeroPadding2D)    (None, 15, 15, 576)  0           block_13_expand_relu[0][0]       \n",
      "__________________________________________________________________________________________________\n",
      "block_13_depthwise (DepthwiseCo (None, 7, 7, 576)    5184        block_13_pad[0][0]               \n",
      "__________________________________________________________________________________________________\n",
      "block_13_depthwise_BN (BatchNor (None, 7, 7, 576)    2304        block_13_depthwise[0][0]         \n",
      "__________________________________________________________________________________________________\n",
      "block_13_depthwise_relu (ReLU)  (None, 7, 7, 576)    0           block_13_depthwise_BN[0][0]      \n",
      "__________________________________________________________________________________________________\n",
      "block_13_project (Conv2D)       (None, 7, 7, 160)    92160       block_13_depthwise_relu[0][0]    \n",
      "__________________________________________________________________________________________________\n",
      "block_13_project_BN (BatchNorma (None, 7, 7, 160)    640         block_13_project[0][0]           \n",
      "__________________________________________________________________________________________________\n",
      "block_14_expand (Conv2D)        (None, 7, 7, 960)    153600      block_13_project_BN[0][0]        \n",
      "__________________________________________________________________________________________________\n",
      "block_14_expand_BN (BatchNormal (None, 7, 7, 960)    3840        block_14_expand[0][0]            \n",
      "__________________________________________________________________________________________________\n",
      "block_14_expand_relu (ReLU)     (None, 7, 7, 960)    0           block_14_expand_BN[0][0]         \n",
      "__________________________________________________________________________________________________\n",
      "block_14_depthwise (DepthwiseCo (None, 7, 7, 960)    8640        block_14_expand_relu[0][0]       \n",
      "__________________________________________________________________________________________________\n",
      "block_14_depthwise_BN (BatchNor (None, 7, 7, 960)    3840        block_14_depthwise[0][0]         \n",
      "__________________________________________________________________________________________________\n",
      "block_14_depthwise_relu (ReLU)  (None, 7, 7, 960)    0           block_14_depthwise_BN[0][0]      \n",
      "__________________________________________________________________________________________________\n",
      "block_14_project (Conv2D)       (None, 7, 7, 160)    153600      block_14_depthwise_relu[0][0]    \n",
      "__________________________________________________________________________________________________\n",
      "block_14_project_BN (BatchNorma (None, 7, 7, 160)    640         block_14_project[0][0]           \n",
      "__________________________________________________________________________________________________\n",
      "block_14_add (Add)              (None, 7, 7, 160)    0           block_13_project_BN[0][0]        \n",
      "                                                                 block_14_project_BN[0][0]        \n",
      "__________________________________________________________________________________________________\n",
      "block_15_expand (Conv2D)        (None, 7, 7, 960)    153600      block_14_add[0][0]               \n",
      "__________________________________________________________________________________________________\n",
      "block_15_expand_BN (BatchNormal (None, 7, 7, 960)    3840        block_15_expand[0][0]            \n",
      "__________________________________________________________________________________________________\n",
      "block_15_expand_relu (ReLU)     (None, 7, 7, 960)    0           block_15_expand_BN[0][0]         \n",
      "__________________________________________________________________________________________________\n",
      "block_15_depthwise (DepthwiseCo (None, 7, 7, 960)    8640        block_15_expand_relu[0][0]       \n",
      "__________________________________________________________________________________________________\n",
      "block_15_depthwise_BN (BatchNor (None, 7, 7, 960)    3840        block_15_depthwise[0][0]         \n",
      "__________________________________________________________________________________________________\n",
      "block_15_depthwise_relu (ReLU)  (None, 7, 7, 960)    0           block_15_depthwise_BN[0][0]      \n",
      "__________________________________________________________________________________________________\n",
      "block_15_project (Conv2D)       (None, 7, 7, 160)    153600      block_15_depthwise_relu[0][0]    \n",
      "__________________________________________________________________________________________________\n",
      "block_15_project_BN (BatchNorma (None, 7, 7, 160)    640         block_15_project[0][0]           \n",
      "__________________________________________________________________________________________________\n",
      "block_15_add (Add)              (None, 7, 7, 160)    0           block_14_add[0][0]               \n",
      "                                                                 block_15_project_BN[0][0]        \n",
      "__________________________________________________________________________________________________\n",
      "block_16_expand (Conv2D)        (None, 7, 7, 960)    153600      block_15_add[0][0]               \n",
      "__________________________________________________________________________________________________\n",
      "block_16_expand_BN (BatchNormal (None, 7, 7, 960)    3840        block_16_expand[0][0]            \n",
      "__________________________________________________________________________________________________\n",
      "block_16_expand_relu (ReLU)     (None, 7, 7, 960)    0           block_16_expand_BN[0][0]         \n",
      "__________________________________________________________________________________________________\n",
      "block_16_depthwise (DepthwiseCo (None, 7, 7, 960)    8640        block_16_expand_relu[0][0]       \n",
      "__________________________________________________________________________________________________\n",
      "block_16_depthwise_BN (BatchNor (None, 7, 7, 960)    3840        block_16_depthwise[0][0]         \n",
      "__________________________________________________________________________________________________\n",
      "block_16_depthwise_relu (ReLU)  (None, 7, 7, 960)    0           block_16_depthwise_BN[0][0]      \n",
      "__________________________________________________________________________________________________\n",
      "block_16_project (Conv2D)       (None, 7, 7, 320)    307200      block_16_depthwise_relu[0][0]    \n",
      "__________________________________________________________________________________________________\n",
      "block_16_project_BN (BatchNorma (None, 7, 7, 320)    1280        block_16_project[0][0]           \n",
      "__________________________________________________________________________________________________\n",
      "Conv_1 (Conv2D)                 (None, 7, 7, 1280)   409600      block_16_project_BN[0][0]        \n",
      "__________________________________________________________________________________________________\n",
      "Conv_1_bn (BatchNormalization)  (None, 7, 7, 1280)   5120        Conv_1[0][0]                     \n",
      "__________________________________________________________________________________________________\n",
      "out_relu (ReLU)                 (None, 7, 7, 1280)   0           Conv_1_bn[0][0]                  \n",
      "==================================================================================================\n",
      "Total params: 2,257,984\n",
      "Trainable params: 2,223,872\n",
      "Non-trainable params: 34,112\n",
      "__________________________________________________________________________________________________\n"
     ]
    }
   ],
   "source": [
    "conv_base.summary()"
   ]
  },
  {
   "cell_type": "code",
   "execution_count": 8,
   "metadata": {
    "id": "H5nPQ3IBDkXr"
   },
   "outputs": [],
   "source": [
    "conv_base.trainable = False"
   ]
  },
  {
   "cell_type": "markdown",
   "metadata": {
    "id": "vWhE7LMaDokI"
   },
   "source": [
    "### Experiment 1\n",
    "In this first experiment we try a simple configuration with a single dense layer before the output layer, without regularization techniques."
   ]
  },
  {
   "cell_type": "code",
   "execution_count": 9,
   "metadata": {
    "colab": {
     "base_uri": "https://localhost:8080/"
    },
    "executionInfo": {
     "elapsed": 794,
     "status": "ok",
     "timestamp": 1641393073795,
     "user": {
      "displayName": "Federica Baldi",
      "photoUrl": "https://lh3.googleusercontent.com/a-/AOh14Gj0eALl9wD-GJPtSTMAFK0DvDlcGWh5ZTpdGFtwCIo=s64",
      "userId": "15726835528723494588"
     },
     "user_tz": -60
    },
    "id": "8aOOWkBnDqWJ",
    "outputId": "5c3d26c5-c8ef-4714-ae9b-1e0839c031cb"
   },
   "outputs": [
    {
     "name": "stdout",
     "output_type": "stream",
     "text": [
      "Model: \"model\"\n",
      "_________________________________________________________________\n",
      "Layer (type)                 Output Shape              Param #   \n",
      "=================================================================\n",
      "input_2 (InputLayer)         [(None, 224, 224, 3)]     0         \n",
      "_________________________________________________________________\n",
      "tf.math.truediv (TFOpLambda) (None, 224, 224, 3)       0         \n",
      "_________________________________________________________________\n",
      "tf.math.subtract (TFOpLambda (None, 224, 224, 3)       0         \n",
      "_________________________________________________________________\n",
      "mobilenetv2_1.00_224 (Functi (None, 7, 7, 1280)        2257984   \n",
      "_________________________________________________________________\n",
      "flatten (Flatten)            (None, 62720)             0         \n",
      "_________________________________________________________________\n",
      "dense (Dense)                (None, 1)                 62721     \n",
      "=================================================================\n",
      "Total params: 2,320,705\n",
      "Trainable params: 62,721\n",
      "Non-trainable params: 2,257,984\n",
      "_________________________________________________________________\n"
     ]
    }
   ],
   "source": [
    "inputs = keras.Input(shape=(IMAGE_HEIGHT, IMAGE_WIDTH, 3))\n",
    "x = tf.keras.applications.mobilenet.preprocess_input(inputs)\n",
    "x = conv_base(x) # feature extraction\n",
    "x = layers.Flatten()(x)\n",
    "outputs = layers.Dense(1, activation='sigmoid')(x)\n",
    "model1 = keras.Model(inputs=inputs, outputs=outputs)\n",
    "compile_model(model1)"
   ]
  },
  {
   "cell_type": "code",
   "execution_count": 10,
   "metadata": {
    "colab": {
     "base_uri": "https://localhost:8080/",
     "height": 1000
    },
    "executionInfo": {
     "elapsed": 274712,
     "status": "ok",
     "timestamp": 1641393351253,
     "user": {
      "displayName": "Federica Baldi",
      "photoUrl": "https://lh3.googleusercontent.com/a-/AOh14Gj0eALl9wD-GJPtSTMAFK0DvDlcGWh5ZTpdGFtwCIo=s64",
      "userId": "15726835528723494588"
     },
     "user_tz": -60
    },
    "id": "AKIa2jE9E3Lf",
    "outputId": "60e7ff09-dd41-4289-b6d2-b6d18d6fc8eb"
   },
   "outputs": [
    {
     "name": "stdout",
     "output_type": "stream",
     "text": [
      "Epoch 1/30\n",
      "200/200 [==============================] - 243s 1s/step - loss: 1.2426 - accuracy: 0.7169 - val_loss: 0.8981 - val_accuracy: 0.7022\n",
      "\n",
      "Epoch 00001: val_loss improved from inf to 0.89807, saving model to content/models/experiment1_feature_extraction.h5\n"
     ]
    },
    {
     "name": "stderr",
     "output_type": "stream",
     "text": [
      "/home/cseb21/.local/lib/python3.6/site-packages/keras/utils/generic_utils.py:497: CustomMaskWarning: Custom mask layers require a config and must override get_config. When loading, the custom mask layer must be passed to the custom_objects argument.\n",
      "  category=CustomMaskWarning)\n"
     ]
    },
    {
     "name": "stdout",
     "output_type": "stream",
     "text": [
      "Epoch 2/30\n",
      "200/200 [==============================] - 264s 1s/step - loss: 0.5928 - accuracy: 0.8124 - val_loss: 2.0036 - val_accuracy: 0.5718\n",
      "\n",
      "Epoch 00002: val_loss did not improve from 0.89807\n",
      "Epoch 3/30\n",
      "200/200 [==============================] - 239s 1s/step - loss: 0.3735 - accuracy: 0.8707 - val_loss: 0.8031 - val_accuracy: 0.8189\n",
      "\n",
      "Epoch 00003: val_loss improved from 0.89807 to 0.80311, saving model to content/models/experiment1_feature_extraction.h5\n",
      "Epoch 4/30\n",
      "200/200 [==============================] - 266s 1s/step - loss: 0.2330 - accuracy: 0.9090 - val_loss: 0.7200 - val_accuracy: 0.7913\n",
      "\n",
      "Epoch 00004: val_loss improved from 0.80311 to 0.71997, saving model to content/models/experiment1_feature_extraction.h5\n",
      "Epoch 5/30\n",
      "200/200 [==============================] - 250s 1s/step - loss: 0.1269 - accuracy: 0.9487 - val_loss: 0.8250 - val_accuracy: 0.7617\n",
      "\n",
      "Epoch 00005: val_loss did not improve from 0.71997\n",
      "Epoch 6/30\n",
      "200/200 [==============================] - 263s 1s/step - loss: 0.2114 - accuracy: 0.9267 - val_loss: 0.8949 - val_accuracy: 0.7659\n",
      "\n",
      "Epoch 00006: val_loss did not improve from 0.71997\n",
      "Epoch 7/30\n",
      "200/200 [==============================] - 243s 1s/step - loss: 0.0883 - accuracy: 0.9644 - val_loss: 0.7761 - val_accuracy: 0.8044\n",
      "\n",
      "Epoch 00007: val_loss did not improve from 0.71997\n",
      "Epoch 8/30\n",
      "200/200 [==============================] - 241s 1s/step - loss: 0.0494 - accuracy: 0.9842 - val_loss: 0.8324 - val_accuracy: 0.7828\n",
      "\n",
      "Epoch 00008: val_loss did not improve from 0.71997\n",
      "Epoch 9/30\n",
      "200/200 [==============================] - 243s 1s/step - loss: 0.0390 - accuracy: 0.9872 - val_loss: 0.7222 - val_accuracy: 0.8269\n",
      "\n",
      "Epoch 00009: val_loss did not improve from 0.71997\n"
     ]
    },
    {
     "data": {
      "image/png": "[encoded data removed]",
      "text/plain": [
       "<Figure size 432x288 with 1 Axes>"
      ]
     },
     "metadata": {
      "needs_background": "light"
     },
     "output_type": "display_data"
    },
    {
     "data": {
      "image/png": "[encoded data removed]",
      "text/plain": [
       "<Figure size 432x288 with 1 Axes>"
      ]
     },
     "metadata": {
      "needs_background": "light"
     },
     "output_type": "display_data"
    }
   ],
   "source": [
    "run_model(model1, 'experiment1_feature_extraction', epochs = 30, patience=5)"
   ]
  },
  {
   "cell_type": "code",
   "execution_count": 11,
   "metadata": {
    "colab": {
     "base_uri": "https://localhost:8080/",
     "height": 730
    },
    "executionInfo": {
     "elapsed": 21918,
     "status": "ok",
     "timestamp": 1642022279884,
     "user": {
      "displayName": "Federica Baldi",
      "photoUrl": "https://lh3.googleusercontent.com/a-/AOh14Gj0eALl9wD-GJPtSTMAFK0DvDlcGWh5ZTpdGFtwCIo=s64",
      "userId": "15726835528723494588"
     },
     "user_tz": -60
    },
    "id": "hHIye421Jlrh",
    "outputId": "7202e8c6-fc24-4955-e6b7-8fbdebb3f340"
   },
   "outputs": [
    {
     "name": "stdout",
     "output_type": "stream",
     "text": [
      "Classification report: \n",
      "              precision    recall  f1-score   support\n",
      "\n",
      "           0     0.6971    0.7471    0.7212       696\n",
      "           1     0.8730    0.8426    0.8575      1436\n",
      "\n",
      "    accuracy                         0.8114      2132\n",
      "   macro avg     0.7850    0.7949    0.7894      2132\n",
      "weighted avg     0.8156    0.8114    0.8130      2132\n",
      "\n"
     ]
    },
    {
     "data": {
      "image/png": "[encoded data removed]",
      "text/plain": [
       "<Figure size 432x288 with 2 Axes>"
      ]
     },
     "metadata": {
      "needs_background": "light"
     },
     "output_type": "display_data"
    },
    {
     "data": {
      "image/png": "[encoded data removed]",
      "text/plain": [
       "<Figure size 432x288 with 1 Axes>"
      ]
     },
     "metadata": {
      "needs_background": "light"
     },
     "output_type": "display_data"
    }
   ],
   "source": [
    "evaluate_model(tf.keras.models.load_model(GLOBAL_MODELS_FOLDER + '/experiment1_feature_extraction.h5'))"
   ]
  },
  {
   "cell_type": "markdown",
   "metadata": {
    "id": "-tODvMNaq9nU"
   },
   "source": [
    "### Experiment 2"
   ]
  },
  {
   "cell_type": "code",
   "execution_count": 12,
   "metadata": {
    "colab": {
     "base_uri": "https://localhost:8080/"
    },
    "executionInfo": {
     "elapsed": 1029,
     "status": "ok",
     "timestamp": 1641393645364,
     "user": {
      "displayName": "Federica Baldi",
      "photoUrl": "https://lh3.googleusercontent.com/a-/AOh14Gj0eALl9wD-GJPtSTMAFK0DvDlcGWh5ZTpdGFtwCIo=s64",
      "userId": "15726835528723494588"
     },
     "user_tz": -60
    },
    "id": "SZYjhBRyrAQN",
    "outputId": "9508b5ab-9857-41f9-d7ff-c9de71604147"
   },
   "outputs": [
    {
     "name": "stdout",
     "output_type": "stream",
     "text": [
      "Model: \"model_1\"\n",
      "_________________________________________________________________\n",
      "Layer (type)                 Output Shape              Param #   \n",
      "=================================================================\n",
      "input_3 (InputLayer)         [(None, 224, 224, 3)]     0         \n",
      "_________________________________________________________________\n",
      "tf.math.truediv_1 (TFOpLambd (None, 224, 224, 3)       0         \n",
      "_________________________________________________________________\n",
      "tf.math.subtract_1 (TFOpLamb (None, 224, 224, 3)       0         \n",
      "_________________________________________________________________\n",
      "mobilenetv2_1.00_224 (Functi (None, 7, 7, 1280)        2257984   \n",
      "_________________________________________________________________\n",
      "global_average_pooling2d (Gl (None, 1280)              0         \n",
      "_________________________________________________________________\n",
      "dense_1 (Dense)              (None, 256)               327936    \n",
      "_________________________________________________________________\n",
      "dropout (Dropout)            (None, 256)               0         \n",
      "_________________________________________________________________\n",
      "dense_2 (Dense)              (None, 1)                 257       \n",
      "=================================================================\n",
      "Total params: 2,586,177\n",
      "Trainable params: 328,193\n",
      "Non-trainable params: 2,257,984\n",
      "_________________________________________________________________\n"
     ]
    }
   ],
   "source": [
    "inputs = keras.Input(shape=(IMAGE_HEIGHT, IMAGE_WIDTH, 3))\n",
    "x = tf.keras.applications.mobilenet.preprocess_input(inputs)\n",
    "x = conv_base(x) # feature extraction\n",
    "x = layers.GlobalAveragePooling2D()(x)\n",
    "x = layers.Dense(256)(x)\n",
    "x = layers.Dropout(0.5)(x)\n",
    "outputs = layers.Dense(1, activation='sigmoid')(x)\n",
    "model2 = keras.Model(inputs=inputs, outputs=outputs)\n",
    "compile_model(model2)"
   ]
  },
  {
   "cell_type": "code",
   "execution_count": 13,
   "metadata": {
    "colab": {
     "base_uri": "https://localhost:8080/",
     "height": 1000
    },
    "executionInfo": {
     "elapsed": 321214,
     "status": "ok",
     "timestamp": 1641394026015,
     "user": {
      "displayName": "Federica Baldi",
      "photoUrl": "https://lh3.googleusercontent.com/a-/AOh14Gj0eALl9wD-GJPtSTMAFK0DvDlcGWh5ZTpdGFtwCIo=s64",
      "userId": "15726835528723494588"
     },
     "user_tz": -60
    },
    "id": "x3w4jhTurogJ",
    "outputId": "cc763ed1-bbfd-4367-b296-3fb043aa4a23"
   },
   "outputs": [
    {
     "name": "stdout",
     "output_type": "stream",
     "text": [
      "Epoch 1/30\n",
      "200/200 [==============================] - 278s 1s/step - loss: 0.7674 - accuracy: 0.7045 - val_loss: 0.4941 - val_accuracy: 0.7683\n",
      "\n",
      "Epoch 00001: val_loss improved from inf to 0.49414, saving model to content/models/experiment2_feature_extraction.h5\n"
     ]
    },
    {
     "name": "stderr",
     "output_type": "stream",
     "text": [
      "/home/cseb21/.local/lib/python3.6/site-packages/keras/utils/generic_utils.py:497: CustomMaskWarning: Custom mask layers require a config and must override get_config. When loading, the custom mask layer must be passed to the custom_objects argument.\n",
      "  category=CustomMaskWarning)\n"
     ]
    },
    {
     "name": "stdout",
     "output_type": "stream",
     "text": [
      "Epoch 2/30\n",
      "200/200 [==============================] - 262s 1s/step - loss: 0.5233 - accuracy: 0.7589 - val_loss: 0.5075 - val_accuracy: 0.7598\n",
      "\n",
      "Epoch 00002: val_loss did not improve from 0.49414\n",
      "Epoch 3/30\n",
      "200/200 [==============================] - 240s 1s/step - loss: 0.4968 - accuracy: 0.7683 - val_loss: 0.4527 - val_accuracy: 0.8021\n",
      "\n",
      "Epoch 00003: val_loss improved from 0.49414 to 0.45265, saving model to content/models/experiment2_feature_extraction.h5\n",
      "Epoch 4/30\n",
      "200/200 [==============================] - 240s 1s/step - loss: 0.4685 - accuracy: 0.7846 - val_loss: 0.4710 - val_accuracy: 0.7852\n",
      "\n",
      "Epoch 00004: val_loss did not improve from 0.45265\n",
      "Epoch 5/30\n",
      "200/200 [==============================] - 240s 1s/step - loss: 0.4532 - accuracy: 0.7853 - val_loss: 0.4845 - val_accuracy: 0.7725\n",
      "\n",
      "Epoch 00005: val_loss did not improve from 0.45265\n",
      "Epoch 6/30\n",
      "200/200 [==============================] - 252s 1s/step - loss: 0.4417 - accuracy: 0.7944 - val_loss: 0.4363 - val_accuracy: 0.8096\n",
      "\n",
      "Epoch 00006: val_loss improved from 0.45265 to 0.43625, saving model to content/models/experiment2_feature_extraction.h5\n",
      "Epoch 7/30\n",
      "200/200 [==============================] - 300s 2s/step - loss: 0.4412 - accuracy: 0.7858 - val_loss: 0.4809 - val_accuracy: 0.7749\n",
      "\n",
      "Epoch 00007: val_loss did not improve from 0.43625\n",
      "Epoch 8/30\n",
      "200/200 [==============================] - 311s 2s/step - loss: 0.4336 - accuracy: 0.7949 - val_loss: 0.4557 - val_accuracy: 0.7974\n",
      "\n",
      "Epoch 00008: val_loss did not improve from 0.43625\n",
      "Epoch 9/30\n",
      "200/200 [==============================] - 291s 1s/step - loss: 0.4325 - accuracy: 0.7955 - val_loss: 0.5625 - val_accuracy: 0.7144\n",
      "\n",
      "Epoch 00009: val_loss did not improve from 0.43625\n",
      "Epoch 10/30\n",
      "200/200 [==============================] - 308s 2s/step - loss: 0.4295 - accuracy: 0.7994 - val_loss: 0.4918 - val_accuracy: 0.7706\n",
      "\n",
      "Epoch 00010: val_loss did not improve from 0.43625\n",
      "Epoch 11/30\n",
      "200/200 [==============================] - 290s 1s/step - loss: 0.4297 - accuracy: 0.8005 - val_loss: 0.4878 - val_accuracy: 0.7720\n",
      "\n",
      "Epoch 00011: val_loss did not improve from 0.43625\n"
     ]
    },
    {
     "data": {
      "image/png": "[encoded data removed]",
      "text/plain": [
       "<Figure size 432x288 with 1 Axes>"
      ]
     },
     "metadata": {
      "needs_background": "light"
     },
     "output_type": "display_data"
    },
    {
     "data": {
      "image/png": "[encoded data removed]",
      "text/plain": [
       "<Figure size 432x288 with 1 Axes>"
      ]
     },
     "metadata": {
      "needs_background": "light"
     },
     "output_type": "display_data"
    }
   ],
   "source": [
    "run_model(model2, 'experiment2_feature_extraction', epochs = 30, patience=5)"
   ]
  },
  {
   "cell_type": "code",
   "execution_count": null,
   "metadata": {
    "colab": {
     "base_uri": "https://localhost:8080/",
     "height": 730
    },
    "executionInfo": {
     "elapsed": 12515,
     "status": "ok",
     "timestamp": 1642022292394,
     "user": {
      "displayName": "Federica Baldi",
      "photoUrl": "https://lh3.googleusercontent.com/a-/AOh14Gj0eALl9wD-GJPtSTMAFK0DvDlcGWh5ZTpdGFtwCIo=s64",
      "userId": "15726835528723494588"
     },
     "user_tz": -60
    },
    "id": "k5D5ngJXJo98",
    "outputId": "80edc1b4-7257-4b04-b964-20a8190f4ab5"
   },
   "outputs": [],
   "source": [
    "evaluate_model(tf.keras.models.load_model(GLOBAL_MODELS_FOLDER + '/experiment2_feature_extraction.h5'))"
   ]
  },
  {
   "cell_type": "markdown",
   "metadata": {
    "id": "-37iw3LHywAO"
   },
   "source": [
    "### Experiment 3"
   ]
  },
  {
   "cell_type": "code",
   "execution_count": 15,
   "metadata": {
    "colab": {
     "base_uri": "https://localhost:8080/"
    },
    "executionInfo": {
     "elapsed": 1286,
     "status": "ok",
     "timestamp": 1641395451237,
     "user": {
      "displayName": "Federica Baldi",
      "photoUrl": "https://lh3.googleusercontent.com/a-/AOh14Gj0eALl9wD-GJPtSTMAFK0DvDlcGWh5ZTpdGFtwCIo=s64",
      "userId": "15726835528723494588"
     },
     "user_tz": -60
    },
    "id": "RVaPklsjyo86",
    "outputId": "d9961a04-9504-4c72-f798-2872467179fc"
   },
   "outputs": [
    {
     "name": "stdout",
     "output_type": "stream",
     "text": [
      "Model: \"model_2\"\n",
      "_________________________________________________________________\n",
      "Layer (type)                 Output Shape              Param #   \n",
      "=================================================================\n",
      "input_4 (InputLayer)         [(None, 224, 224, 3)]     0         \n",
      "_________________________________________________________________\n",
      "tf.math.truediv_2 (TFOpLambd (None, 224, 224, 3)       0         \n",
      "_________________________________________________________________\n",
      "tf.math.subtract_2 (TFOpLamb (None, 224, 224, 3)       0         \n",
      "_________________________________________________________________\n",
      "mobilenetv2_1.00_224 (Functi (None, 7, 7, 1280)        2257984   \n",
      "_________________________________________________________________\n",
      "global_average_pooling2d_1 ( (None, 1280)              0         \n",
      "_________________________________________________________________\n",
      "dropout_1 (Dropout)          (None, 1280)              0         \n",
      "_________________________________________________________________\n",
      "dense_3 (Dense)              (None, 1)                 1281      \n",
      "=================================================================\n",
      "Total params: 2,259,265\n",
      "Trainable params: 1,281\n",
      "Non-trainable params: 2,257,984\n",
      "_________________________________________________________________\n"
     ]
    }
   ],
   "source": [
    "inputs = keras.Input(shape=(IMAGE_HEIGHT, IMAGE_WIDTH, 3))\n",
    "x = tf.keras.applications.mobilenet.preprocess_input(inputs)\n",
    "x = conv_base(x) # feature extraction\n",
    "x = layers.GlobalAveragePooling2D()(x)\n",
    "x = layers.Dropout(0.5)(x)\n",
    "outputs = layers.Dense(1, activation='sigmoid')(x)\n",
    "model3 = keras.Model(inputs=inputs, outputs=outputs)\n",
    "compile_model(model3)"
   ]
  },
  {
   "cell_type": "code",
   "execution_count": 16,
   "metadata": {
    "colab": {
     "base_uri": "https://localhost:8080/",
     "height": 1000
    },
    "executionInfo": {
     "elapsed": 538401,
     "status": "ok",
     "timestamp": 1641396011472,
     "user": {
      "displayName": "Federica Baldi",
      "photoUrl": "https://lh3.googleusercontent.com/a-/AOh14Gj0eALl9wD-GJPtSTMAFK0DvDlcGWh5ZTpdGFtwCIo=s64",
      "userId": "15726835528723494588"
     },
     "user_tz": -60
    },
    "id": "LGsJme8JytZO",
    "outputId": "12569c73-1a6f-46d4-b83c-95022ba4bee5"
   },
   "outputs": [
    {
     "name": "stdout",
     "output_type": "stream",
     "text": [
      "Epoch 1/50\n",
      "200/200 [==============================] - 143s 689ms/step - loss: 0.6506 - accuracy: 0.6649 - val_loss: 0.5899 - val_accuracy: 0.6937\n",
      "\n",
      "Epoch 00001: val_loss improved from inf to 0.58994, saving model to content/models/experiment3_feature_extraction.h5\n"
     ]
    },
    {
     "name": "stderr",
     "output_type": "stream",
     "text": [
      "/home/cseb21/.local/lib/python3.6/site-packages/keras/utils/generic_utils.py:497: CustomMaskWarning: Custom mask layers require a config and must override get_config. When loading, the custom mask layer must be passed to the custom_objects argument.\n",
      "  category=CustomMaskWarning)\n"
     ]
    },
    {
     "name": "stdout",
     "output_type": "stream",
     "text": [
      "Epoch 2/50\n",
      "200/200 [==============================] - 136s 682ms/step - loss: 0.5475 - accuracy: 0.7239 - val_loss: 0.5194 - val_accuracy: 0.7467\n",
      "\n",
      "Epoch 00002: val_loss improved from 0.58994 to 0.51945, saving model to content/models/experiment3_feature_extraction.h5\n",
      "Epoch 3/50\n",
      "200/200 [==============================] - 136s 681ms/step - loss: 0.5252 - accuracy: 0.7417 - val_loss: 0.4964 - val_accuracy: 0.7598\n",
      "\n",
      "Epoch 00003: val_loss improved from 0.51945 to 0.49644, saving model to content/models/experiment3_feature_extraction.h5\n",
      "Epoch 4/50\n",
      "200/200 [==============================] - 139s 694ms/step - loss: 0.5140 - accuracy: 0.7461 - val_loss: 0.5188 - val_accuracy: 0.7462\n",
      "\n",
      "Epoch 00004: val_loss did not improve from 0.49644\n",
      "Epoch 5/50\n",
      "200/200 [==============================] - 139s 695ms/step - loss: 0.5111 - accuracy: 0.7503 - val_loss: 0.5170 - val_accuracy: 0.7444\n",
      "\n",
      "Epoch 00005: val_loss did not improve from 0.49644\n",
      "Epoch 6/50\n",
      "200/200 [==============================] - 139s 694ms/step - loss: 0.5056 - accuracy: 0.7469 - val_loss: 0.5105 - val_accuracy: 0.7505\n",
      "\n",
      "Epoch 00006: val_loss did not improve from 0.49644\n",
      "Epoch 7/50\n",
      "200/200 [==============================] - 137s 683ms/step - loss: 0.5018 - accuracy: 0.7573 - val_loss: 0.5891 - val_accuracy: 0.6932\n",
      "\n",
      "Epoch 00007: val_loss did not improve from 0.49644\n",
      "Epoch 8/50\n",
      "200/200 [==============================] - 137s 688ms/step - loss: 0.5037 - accuracy: 0.7556 - val_loss: 0.5151 - val_accuracy: 0.7495\n",
      "\n",
      "Epoch 00008: val_loss did not improve from 0.49644\n"
     ]
    },
    {
     "data": {
      "image/png": "[encoded data removed]",
      "text/plain": [
       "<Figure size 432x288 with 1 Axes>"
      ]
     },
     "metadata": {
      "needs_background": "light"
     },
     "output_type": "display_data"
    },
    {
     "data": {
      "image/png": "[encoded data removed]",
      "text/plain": [
       "<Figure size 432x288 with 1 Axes>"
      ]
     },
     "metadata": {
      "needs_background": "light"
     },
     "output_type": "display_data"
    }
   ],
   "source": [
    "run_model(model3, 'experiment3_feature_extraction', epochs = 50, patience=5)"
   ]
  },
  {
   "cell_type": "code",
   "execution_count": 17,
   "metadata": {
    "colab": {
     "base_uri": "https://localhost:8080/",
     "height": 730
    },
    "executionInfo": {
     "elapsed": 13524,
     "status": "ok",
     "timestamp": 1641925837690,
     "user": {
      "displayName": "Federica Baldi",
      "photoUrl": "https://lh3.googleusercontent.com/a-/AOh14Gj0eALl9wD-GJPtSTMAFK0DvDlcGWh5ZTpdGFtwCIo=s64",
      "userId": "15726835528723494588"
     },
     "user_tz": -60
    },
    "id": "eHRObPfJZ6v-",
    "outputId": "f1828a4f-674b-4f94-9b4b-8dc683d6e9c7"
   },
   "outputs": [
    {
     "name": "stdout",
     "output_type": "stream",
     "text": [
      "Classification report: \n",
      "              precision    recall  f1-score   support\n",
      "\n",
      "           0     0.6127    0.7227    0.6632       696\n",
      "           1     0.8528    0.7786    0.8140      1436\n",
      "\n",
      "    accuracy                         0.7603      2132\n",
      "   macro avg     0.7327    0.7506    0.7386      2132\n",
      "weighted avg     0.7744    0.7603    0.7647      2132\n",
      "\n"
     ]
    },
    {
     "data": {
      "image/png": "[encoded data removed]",
      "text/plain": [
       "<Figure size 432x288 with 2 Axes>"
      ]
     },
     "metadata": {
      "needs_background": "light"
     },
     "output_type": "display_data"
    },
    {
     "data": {
      "image/png": "[encoded data removed]",
      "text/plain": [
       "<Figure size 432x288 with 1 Axes>"
      ]
     },
     "metadata": {
      "needs_background": "light"
     },
     "output_type": "display_data"
    }
   ],
   "source": [
    "evaluate_model(tf.keras.models.load_model(GLOBAL_MODELS_FOLDER + '/experiment3_feature_extraction.h5'))"
   ]
  },
  {
   "cell_type": "markdown",
   "metadata": {
    "id": "m339vakHgaSZ"
   },
   "source": [
    "### Experiment 4"
   ]
  },
  {
   "cell_type": "code",
   "execution_count": 18,
   "metadata": {
    "colab": {
     "base_uri": "https://localhost:8080/"
    },
    "executionInfo": {
     "elapsed": 809,
     "status": "ok",
     "timestamp": 1641894248466,
     "user": {
      "displayName": "DANIELE CIOFFO",
      "photoUrl": "https://lh3.googleusercontent.com/a/default-user=s64",
      "userId": "10062146559806518037"
     },
     "user_tz": -60
    },
    "id": "QXrFLiJ9gcqB",
    "outputId": "dc17511f-f7d2-4cad-8953-1e6ad2353be3"
   },
   "outputs": [
    {
     "name": "stdout",
     "output_type": "stream",
     "text": [
      "Model: \"model_3\"\n",
      "_________________________________________________________________\n",
      "Layer (type)                 Output Shape              Param #   \n",
      "=================================================================\n",
      "input_5 (InputLayer)         [(None, 224, 224, 3)]     0         \n",
      "_________________________________________________________________\n",
      "tf.math.truediv_3 (TFOpLambd (None, 224, 224, 3)       0         \n",
      "_________________________________________________________________\n",
      "tf.math.subtract_3 (TFOpLamb (None, 224, 224, 3)       0         \n",
      "_________________________________________________________________\n",
      "mobilenetv2_1.00_224 (Functi (None, 7, 7, 1280)        2257984   \n",
      "_________________________________________________________________\n",
      "global_average_pooling2d_2 ( (None, 1280)              0         \n",
      "_________________________________________________________________\n",
      "dense_4 (Dense)              (None, 512)               655872    \n",
      "_________________________________________________________________\n",
      "dense_5 (Dense)              (None, 512)               262656    \n",
      "_________________________________________________________________\n",
      "dense_6 (Dense)              (None, 1)                 513       \n",
      "=================================================================\n",
      "Total params: 3,177,025\n",
      "Trainable params: 919,041\n",
      "Non-trainable params: 2,257,984\n",
      "_________________________________________________________________\n"
     ]
    }
   ],
   "source": [
    "inputs = keras.Input(shape=(IMAGE_HEIGHT, IMAGE_WIDTH, 3))\n",
    "x = tf.keras.applications.mobilenet.preprocess_input(inputs)\n",
    "x = conv_base(x)\n",
    "x = layers.GlobalAveragePooling2D()(x)\n",
    "x = layers.Dense(512, activation='relu')(x)\n",
    "x = layers.Dense(512, activation='relu')(x)\n",
    "outputs = layers.Dense(1, activation='sigmoid')(x)\n",
    "model4 = keras.Model(inputs=inputs, outputs=outputs)\n",
    "compile_model(model4, optimizer='rmsprop')"
   ]
  },
  {
   "cell_type": "code",
   "execution_count": 19,
   "metadata": {
    "colab": {
     "base_uri": "https://localhost:8080/",
     "height": 1000
    },
    "executionInfo": {
     "elapsed": 430595,
     "status": "ok",
     "timestamp": 1641894715586,
     "user": {
      "displayName": "DANIELE CIOFFO",
      "photoUrl": "https://lh3.googleusercontent.com/a/default-user=s64",
      "userId": "10062146559806518037"
     },
     "user_tz": -60
    },
    "id": "Ka3WzZGChhI4",
    "outputId": "796ef03b-4c13-4054-c46a-21292ba0333e"
   },
   "outputs": [
    {
     "name": "stdout",
     "output_type": "stream",
     "text": [
      "Epoch 1/50\n",
      "200/200 [==============================] - 154s 744ms/step - loss: 0.6102 - accuracy: 0.7064 - val_loss: 0.4628 - val_accuracy: 0.7927\n",
      "\n",
      "Epoch 00001: val_loss improved from inf to 0.46276, saving model to content/models/Experiment4_feature_extraction.h5\n"
     ]
    },
    {
     "name": "stderr",
     "output_type": "stream",
     "text": [
      "/home/cseb21/.local/lib/python3.6/site-packages/keras/utils/generic_utils.py:497: CustomMaskWarning: Custom mask layers require a config and must override get_config. When loading, the custom mask layer must be passed to the custom_objects argument.\n",
      "  category=CustomMaskWarning)\n"
     ]
    },
    {
     "name": "stdout",
     "output_type": "stream",
     "text": [
      "Epoch 2/50\n",
      "200/200 [==============================] - 141s 707ms/step - loss: 0.4984 - accuracy: 0.7620 - val_loss: 0.4470 - val_accuracy: 0.8091\n",
      "\n",
      "Epoch 00002: val_loss improved from 0.46276 to 0.44695, saving model to content/models/Experiment4_feature_extraction.h5\n",
      "Epoch 3/50\n",
      "200/200 [==============================] - 139s 698ms/step - loss: 0.4670 - accuracy: 0.7781 - val_loss: 0.4708 - val_accuracy: 0.8035\n",
      "\n",
      "Epoch 00003: val_loss did not improve from 0.44695\n",
      "Epoch 4/50\n",
      "200/200 [==============================] - 142s 710ms/step - loss: 0.4531 - accuracy: 0.7874 - val_loss: 0.4730 - val_accuracy: 0.7917\n",
      "\n",
      "Epoch 00004: val_loss did not improve from 0.44695\n",
      "Epoch 5/50\n",
      "200/200 [==============================] - 146s 731ms/step - loss: 0.4331 - accuracy: 0.7939 - val_loss: 0.6076 - val_accuracy: 0.7866\n",
      "\n",
      "Epoch 00005: val_loss did not improve from 0.44695\n",
      "Epoch 6/50\n",
      "200/200 [==============================] - 141s 703ms/step - loss: 0.4200 - accuracy: 0.8052 - val_loss: 0.4540 - val_accuracy: 0.8222\n",
      "\n",
      "Epoch 00006: val_loss did not improve from 0.44695\n",
      "Epoch 7/50\n",
      "200/200 [==============================] - 141s 707ms/step - loss: 0.3998 - accuracy: 0.8166 - val_loss: 0.4948 - val_accuracy: 0.7983\n",
      "\n",
      "Epoch 00007: val_loss did not improve from 0.44695\n"
     ]
    },
    {
     "data": {
      "image/png": "[encoded data removed]",
      "text/plain": [
       "<Figure size 432x288 with 1 Axes>"
      ]
     },
     "metadata": {
      "needs_background": "light"
     },
     "output_type": "display_data"
    },
    {
     "data": {
      "image/png": "[encoded data removed]",
      "text/plain": [
       "<Figure size 432x288 with 1 Axes>"
      ]
     },
     "metadata": {
      "needs_background": "light"
     },
     "output_type": "display_data"
    }
   ],
   "source": [
    "run_model(model4, \"Experiment4_feature_extraction\", epochs=50)"
   ]
  },
  {
   "cell_type": "code",
   "execution_count": 20,
   "metadata": {
    "colab": {
     "base_uri": "https://localhost:8080/",
     "height": 730
    },
    "executionInfo": {
     "elapsed": 18025,
     "status": "ok",
     "timestamp": 1642022310371,
     "user": {
      "displayName": "Federica Baldi",
      "photoUrl": "https://lh3.googleusercontent.com/a-/AOh14Gj0eALl9wD-GJPtSTMAFK0DvDlcGWh5ZTpdGFtwCIo=s64",
      "userId": "15726835528723494588"
     },
     "user_tz": -60
    },
    "id": "akT3ONLXJu2Q",
    "outputId": "6780366c-7e01-4470-9b45-7a9c60f8cbfd"
   },
   "outputs": [
    {
     "name": "stdout",
     "output_type": "stream",
     "text": [
      "Classification report: \n",
      "              precision    recall  f1-score   support\n",
      "\n",
      "           0     0.7550    0.6552    0.7015       696\n",
      "           1     0.8429    0.8969    0.8691      1436\n",
      "\n",
      "    accuracy                         0.8180      2132\n",
      "   macro avg     0.7989    0.7761    0.7853      2132\n",
      "weighted avg     0.8142    0.8180    0.8144      2132\n",
      "\n"
     ]
    },
    {
     "data": {
      "image/png": "[encoded data removed]",
      "text/plain": [
       "<Figure size 432x288 with 2 Axes>"
      ]
     },
     "metadata": {
      "needs_background": "light"
     },
     "output_type": "display_data"
    },
    {
     "data": {
      "image/png": "[encoded data removed]",
      "text/plain": [
       "<Figure size 432x288 with 1 Axes>"
      ]
     },
     "metadata": {
      "needs_background": "light"
     },
     "output_type": "display_data"
    }
   ],
   "source": [
    "evaluate_model(tf.keras.models.load_model(GLOBAL_MODELS_FOLDER + '/Experiment4_feature_extraction.h5'))"
   ]
  },
  {
   "cell_type": "markdown",
   "metadata": {
    "id": "5ne7nBKrtD3O"
   },
   "source": [
    "## Fine tuning"
   ]
  },
  {
   "cell_type": "markdown",
   "metadata": {
    "id": "UxIuUuLvgydG"
   },
   "source": [
    "### Experiment 5"
   ]
  },
  {
   "cell_type": "code",
   "execution_count": 21,
   "metadata": {
    "colab": {
     "base_uri": "https://localhost:8080/"
    },
    "executionInfo": {
     "elapsed": 2287,
     "status": "ok",
     "timestamp": 1641810203171,
     "user": {
      "displayName": "Federica Baldi",
      "photoUrl": "https://lh3.googleusercontent.com/a-/AOh14Gj0eALl9wD-GJPtSTMAFK0DvDlcGWh5ZTpdGFtwCIo=s64",
      "userId": "15726835528723494588"
     },
     "user_tz": -60
    },
    "id": "aWw8In3FgydM",
    "outputId": "1813f23f-4ab8-4858-eb7c-e926f9f9ba95"
   },
   "outputs": [
    {
     "name": "stdout",
     "output_type": "stream",
     "text": [
      "Model: \"model_2\"\n",
      "_________________________________________________________________\n",
      "Layer (type)                 Output Shape              Param #   \n",
      "=================================================================\n",
      "input_4 (InputLayer)         [(None, 224, 224, 3)]     0         \n",
      "_________________________________________________________________\n",
      "tf.math.truediv_2 (TFOpLambd (None, 224, 224, 3)       0         \n",
      "_________________________________________________________________\n",
      "tf.math.subtract_2 (TFOpLamb (None, 224, 224, 3)       0         \n",
      "_________________________________________________________________\n",
      "mobilenetv2_1.00_224 (Functi (None, 7, 7, 1280)        2257984   \n",
      "_________________________________________________________________\n",
      "global_average_pooling2d_1 ( (None, 1280)              0         \n",
      "_________________________________________________________________\n",
      "dropout_1 (Dropout)          (None, 1280)              0         \n",
      "_________________________________________________________________\n",
      "dense_3 (Dense)              (None, 1)                 1281      \n",
      "=================================================================\n",
      "Total params: 2,259,265\n",
      "Trainable params: 887,361\n",
      "Non-trainable params: 1,371,904\n",
      "_________________________________________________________________\n",
      "0 input_1 False\n",
      "1 Conv1 False\n",
      "2 bn_Conv1 False\n",
      "3 Conv1_relu False\n",
      "4 expanded_conv_depthwise False\n",
      "5 expanded_conv_depthwise_BN False\n",
      "6 expanded_conv_depthwise_relu False\n",
      "7 expanded_conv_project False\n",
      "8 expanded_conv_project_BN False\n",
      "9 block_1_expand False\n",
      "10 block_1_expand_BN False\n",
      "11 block_1_expand_relu False\n",
      "12 block_1_pad False\n",
      "13 block_1_depthwise False\n",
      "14 block_1_depthwise_BN False\n",
      "15 block_1_depthwise_relu False\n",
      "16 block_1_project False\n",
      "17 block_1_project_BN False\n",
      "18 block_2_expand False\n",
      "19 block_2_expand_BN False\n",
      "20 block_2_expand_relu False\n",
      "21 block_2_depthwise False\n",
      "22 block_2_depthwise_BN False\n",
      "23 block_2_depthwise_relu False\n",
      "24 block_2_project False\n",
      "25 block_2_project_BN False\n",
      "26 block_2_add False\n",
      "27 block_3_expand False\n",
      "28 block_3_expand_BN False\n",
      "29 block_3_expand_relu False\n",
      "30 block_3_pad False\n",
      "31 block_3_depthwise False\n",
      "32 block_3_depthwise_BN False\n",
      "33 block_3_depthwise_relu False\n",
      "34 block_3_project False\n",
      "35 block_3_project_BN False\n",
      "36 block_4_expand False\n",
      "37 block_4_expand_BN False\n",
      "38 block_4_expand_relu False\n",
      "39 block_4_depthwise False\n",
      "40 block_4_depthwise_BN False\n",
      "41 block_4_depthwise_relu False\n",
      "42 block_4_project False\n",
      "43 block_4_project_BN False\n",
      "44 block_4_add False\n",
      "45 block_5_expand False\n",
      "46 block_5_expand_BN False\n",
      "47 block_5_expand_relu False\n",
      "48 block_5_depthwise False\n",
      "49 block_5_depthwise_BN False\n",
      "50 block_5_depthwise_relu False\n",
      "51 block_5_project False\n",
      "52 block_5_project_BN False\n",
      "53 block_5_add False\n",
      "54 block_6_expand False\n",
      "55 block_6_expand_BN False\n",
      "56 block_6_expand_relu False\n",
      "57 block_6_pad False\n",
      "58 block_6_depthwise False\n",
      "59 block_6_depthwise_BN False\n",
      "60 block_6_depthwise_relu False\n",
      "61 block_6_project False\n",
      "62 block_6_project_BN False\n",
      "63 block_7_expand False\n",
      "64 block_7_expand_BN False\n",
      "65 block_7_expand_relu False\n",
      "66 block_7_depthwise False\n",
      "67 block_7_depthwise_BN False\n",
      "68 block_7_depthwise_relu False\n",
      "69 block_7_project False\n",
      "70 block_7_project_BN False\n",
      "71 block_7_add False\n",
      "72 block_8_expand False\n",
      "73 block_8_expand_BN False\n",
      "74 block_8_expand_relu False\n",
      "75 block_8_depthwise False\n",
      "76 block_8_depthwise_BN False\n",
      "77 block_8_depthwise_relu False\n",
      "78 block_8_project False\n",
      "79 block_8_project_BN False\n",
      "80 block_8_add False\n",
      "81 block_9_expand False\n",
      "82 block_9_expand_BN False\n",
      "83 block_9_expand_relu False\n",
      "84 block_9_depthwise False\n",
      "85 block_9_depthwise_BN False\n",
      "86 block_9_depthwise_relu False\n",
      "87 block_9_project False\n",
      "88 block_9_project_BN False\n",
      "89 block_9_add False\n",
      "90 block_10_expand False\n",
      "91 block_10_expand_BN False\n",
      "92 block_10_expand_relu False\n",
      "93 block_10_depthwise False\n",
      "94 block_10_depthwise_BN False\n",
      "95 block_10_depthwise_relu False\n",
      "96 block_10_project False\n",
      "97 block_10_project_BN False\n",
      "98 block_11_expand False\n",
      "99 block_11_expand_BN False\n",
      "100 block_11_expand_relu False\n",
      "101 block_11_depthwise False\n",
      "102 block_11_depthwise_BN False\n",
      "103 block_11_depthwise_relu False\n",
      "104 block_11_project False\n",
      "105 block_11_project_BN False\n",
      "106 block_11_add False\n",
      "107 block_12_expand False\n",
      "108 block_12_expand_BN False\n",
      "109 block_12_expand_relu False\n",
      "110 block_12_depthwise False\n",
      "111 block_12_depthwise_BN False\n",
      "112 block_12_depthwise_relu False\n",
      "113 block_12_project False\n",
      "114 block_12_project_BN False\n",
      "115 block_12_add False\n",
      "116 block_13_expand False\n",
      "117 block_13_expand_BN False\n",
      "118 block_13_expand_relu False\n",
      "119 block_13_pad False\n",
      "120 block_13_depthwise False\n",
      "121 block_13_depthwise_BN False\n",
      "122 block_13_depthwise_relu False\n",
      "123 block_13_project False\n",
      "124 block_13_project_BN False\n",
      "125 block_14_expand False\n",
      "126 block_14_expand_BN False\n",
      "127 block_14_expand_relu False\n",
      "128 block_14_depthwise False\n",
      "129 block_14_depthwise_BN False\n",
      "130 block_14_depthwise_relu False\n",
      "131 block_14_project False\n",
      "132 block_14_project_BN False\n",
      "133 block_14_add False\n",
      "134 block_15_expand False\n",
      "135 block_15_expand_BN False\n",
      "136 block_15_expand_relu False\n",
      "137 block_15_depthwise False\n",
      "138 block_15_depthwise_BN False\n",
      "139 block_15_depthwise_relu False\n",
      "140 block_15_project False\n",
      "141 block_15_project_BN False\n",
      "142 block_15_add False\n",
      "143 block_16_expand True\n",
      "144 block_16_expand_BN True\n",
      "145 block_16_expand_relu True\n",
      "146 block_16_depthwise True\n",
      "147 block_16_depthwise_BN True\n",
      "148 block_16_depthwise_relu True\n",
      "149 block_16_project True\n",
      "150 block_16_project_BN True\n",
      "151 Conv_1 True\n",
      "152 Conv_1_bn True\n",
      "153 out_relu True\n"
     ]
    }
   ],
   "source": [
    "fine_tuning = models.load_model(os.path.join(GLOBAL_MODELS_FOLDER, 'experiment3_feature_extraction.h5'))\n",
    "\n",
    "setTrainable = False\n",
    "for layer in fine_tuning.get_layer('mobilenetv2_1.00_224').layers:\n",
    "    if layer.name in ('block_16_expand'):\n",
    "        setTrainable = True\n",
    "    if setTrainable == True:\n",
    "        layer.trainable = True\n",
    "    else:\n",
    "      layer.trainable = False\n",
    "\n",
    "compile_model(fine_tuning, learning_rate=1e-5)\n",
    "\n",
    "for i, layer in enumerate(fine_tuning.get_layer('mobilenetv2_1.00_224').layers):\n",
    "    print(i, layer.name, layer.trainable)"
   ]
  },
  {
   "cell_type": "code",
   "execution_count": 22,
   "metadata": {
    "colab": {
     "base_uri": "https://localhost:8080/",
     "height": 1000
    },
    "executionInfo": {
     "elapsed": 1090411,
     "status": "ok",
     "timestamp": 1641811299742,
     "user": {
      "displayName": "Federica Baldi",
      "photoUrl": "https://lh3.googleusercontent.com/a-/AOh14Gj0eALl9wD-GJPtSTMAFK0DvDlcGWh5ZTpdGFtwCIo=s64",
      "userId": "15726835528723494588"
     },
     "user_tz": -60
    },
    "id": "8q5kMie1gydN",
    "outputId": "e3ddd6c3-48c7-4b90-da38-d5027b28506a"
   },
   "outputs": [
    {
     "name": "stdout",
     "output_type": "stream",
     "text": [
      "Epoch 1/100\n",
      "200/200 [==============================] - 163s 788ms/step - loss: 0.5683 - accuracy: 0.7145 - val_loss: 0.5962 - val_accuracy: 0.6998\n",
      "\n",
      "Epoch 00001: val_loss improved from inf to 0.59622, saving model to content/models/experiment5_finetuning.h5\n"
     ]
    },
    {
     "name": "stderr",
     "output_type": "stream",
     "text": [
      "/home/cseb21/.local/lib/python3.6/site-packages/keras/utils/generic_utils.py:497: CustomMaskWarning: Custom mask layers require a config and must override get_config. When loading, the custom mask layer must be passed to the custom_objects argument.\n",
      "  category=CustomMaskWarning)\n"
     ]
    },
    {
     "name": "stdout",
     "output_type": "stream",
     "text": [
      "Epoch 2/100\n",
      "200/200 [==============================] - 155s 777ms/step - loss: 0.5142 - accuracy: 0.7481 - val_loss: 0.5922 - val_accuracy: 0.7026\n",
      "\n",
      "Epoch 00002: val_loss improved from 0.59622 to 0.59220, saving model to content/models/experiment5_finetuning.h5\n",
      "Epoch 3/100\n",
      "200/200 [==============================] - 154s 769ms/step - loss: 0.5009 - accuracy: 0.7525 - val_loss: 0.6122 - val_accuracy: 0.6895\n",
      "\n",
      "Epoch 00003: val_loss did not improve from 0.59220\n",
      "Epoch 4/100\n",
      "200/200 [==============================] - 154s 770ms/step - loss: 0.4755 - accuracy: 0.7636 - val_loss: 0.5980 - val_accuracy: 0.7012\n",
      "\n",
      "Epoch 00004: val_loss did not improve from 0.59220\n",
      "Epoch 5/100\n",
      "200/200 [==============================] - 153s 766ms/step - loss: 0.4570 - accuracy: 0.7856 - val_loss: 0.6212 - val_accuracy: 0.6843\n",
      "\n",
      "Epoch 00005: val_loss did not improve from 0.59220\n",
      "Epoch 6/100\n",
      "200/200 [==============================] - 160s 799ms/step - loss: 0.4497 - accuracy: 0.7846 - val_loss: 0.6407 - val_accuracy: 0.6707\n",
      "\n",
      "Epoch 00006: val_loss did not improve from 0.59220\n",
      "Epoch 7/100\n",
      "200/200 [==============================] - 154s 772ms/step - loss: 0.4388 - accuracy: 0.7935 - val_loss: 0.6143 - val_accuracy: 0.6848\n",
      "\n",
      "Epoch 00007: val_loss did not improve from 0.59220\n"
     ]
    },
    {
     "data": {
      "image/png": "[encoded data removed]",
      "text/plain": [
       "<Figure size 432x288 with 1 Axes>"
      ]
     },
     "metadata": {
      "needs_background": "light"
     },
     "output_type": "display_data"
    },
    {
     "data": {
      "image/png": "[encoded data removed]",
      "text/plain": [
       "<Figure size 432x288 with 1 Axes>"
      ]
     },
     "metadata": {
      "needs_background": "light"
     },
     "output_type": "display_data"
    }
   ],
   "source": [
    "run_model(fine_tuning, 'experiment5_finetuning', epochs = 100, patience=5)"
   ]
  },
  {
   "cell_type": "code",
   "execution_count": 23,
   "metadata": {
    "colab": {
     "base_uri": "https://localhost:8080/",
     "height": 730
    },
    "executionInfo": {
     "elapsed": 11410,
     "status": "ok",
     "timestamp": 1641811988653,
     "user": {
      "displayName": "Federica Baldi",
      "photoUrl": "https://lh3.googleusercontent.com/a-/AOh14Gj0eALl9wD-GJPtSTMAFK0DvDlcGWh5ZTpdGFtwCIo=s64",
      "userId": "15726835528723494588"
     },
     "user_tz": -60
    },
    "id": "W4RpLJxLnm_r",
    "outputId": "dabac846-fbd7-4199-af27-22d3060626e9"
   },
   "outputs": [
    {
     "name": "stdout",
     "output_type": "stream",
     "text": [
      "Classification report: \n",
      "              precision    recall  f1-score   support\n",
      "\n",
      "           0     0.5380    0.8132    0.6476       696\n",
      "           1     0.8796    0.6616    0.7552      1436\n",
      "\n",
      "    accuracy                         0.7111      2132\n",
      "   macro avg     0.7088    0.7374    0.7014      2132\n",
      "weighted avg     0.7681    0.7111    0.7201      2132\n",
      "\n"
     ]
    },
    {
     "data": {
      "image/png": "[encoded data removed]",
      "text/plain": [
       "<Figure size 432x288 with 2 Axes>"
      ]
     },
     "metadata": {
      "needs_background": "light"
     },
     "output_type": "display_data"
    },
    {
     "data": {
      "image/png": "[encoded data removed]",
      "text/plain": [
       "<Figure size 432x288 with 1 Axes>"
      ]
     },
     "metadata": {
      "needs_background": "light"
     },
     "output_type": "display_data"
    }
   ],
   "source": [
    "evaluate_model(tf.keras.models.load_model(GLOBAL_MODELS_FOLDER + '/experiment5_finetuning.h5'))"
   ]
  },
  {
   "cell_type": "markdown",
   "metadata": {
    "id": "PHd09dzI2vzP"
   },
   "source": [
    "### Experiment 6"
   ]
  },
  {
   "cell_type": "code",
   "execution_count": 24,
   "metadata": {
    "colab": {
     "base_uri": "https://localhost:8080/"
    },
    "executionInfo": {
     "elapsed": 2649,
     "status": "ok",
     "timestamp": 1641394425680,
     "user": {
      "displayName": "Federica Baldi",
      "photoUrl": "https://lh3.googleusercontent.com/a-/AOh14Gj0eALl9wD-GJPtSTMAFK0DvDlcGWh5ZTpdGFtwCIo=s64",
      "userId": "15726835528723494588"
     },
     "user_tz": -60
    },
    "id": "YBbGtnGFtF51",
    "outputId": "80d3dff1-bb59-4687-c62c-0a3e892b98ac"
   },
   "outputs": [
    {
     "name": "stdout",
     "output_type": "stream",
     "text": [
      "Model: \"model_1\"\n",
      "_________________________________________________________________\n",
      "Layer (type)                 Output Shape              Param #   \n",
      "=================================================================\n",
      "input_3 (InputLayer)         [(None, 224, 224, 3)]     0         \n",
      "_________________________________________________________________\n",
      "tf.math.truediv_1 (TFOpLambd (None, 224, 224, 3)       0         \n",
      "_________________________________________________________________\n",
      "tf.math.subtract_1 (TFOpLamb (None, 224, 224, 3)       0         \n",
      "_________________________________________________________________\n",
      "mobilenetv2_1.00_224 (Functi (None, 7, 7, 1280)        2257984   \n",
      "_________________________________________________________________\n",
      "global_average_pooling2d (Gl (None, 1280)              0         \n",
      "_________________________________________________________________\n",
      "dense_1 (Dense)              (None, 256)               327936    \n",
      "_________________________________________________________________\n",
      "dropout (Dropout)            (None, 256)               0         \n",
      "_________________________________________________________________\n",
      "dense_2 (Dense)              (None, 1)                 257       \n",
      "=================================================================\n",
      "Total params: 2,586,177\n",
      "Trainable params: 2,312,705\n",
      "Non-trainable params: 273,472\n",
      "_________________________________________________________________\n",
      "0 input_1 False\n",
      "1 Conv1 False\n",
      "2 bn_Conv1 False\n",
      "3 Conv1_relu False\n",
      "4 expanded_conv_depthwise False\n",
      "5 expanded_conv_depthwise_BN False\n",
      "6 expanded_conv_depthwise_relu False\n",
      "7 expanded_conv_project False\n",
      "8 expanded_conv_project_BN False\n",
      "9 block_1_expand False\n",
      "10 block_1_expand_BN False\n",
      "11 block_1_expand_relu False\n",
      "12 block_1_pad False\n",
      "13 block_1_depthwise False\n",
      "14 block_1_depthwise_BN False\n",
      "15 block_1_depthwise_relu False\n",
      "16 block_1_project False\n",
      "17 block_1_project_BN False\n",
      "18 block_2_expand False\n",
      "19 block_2_expand_BN False\n",
      "20 block_2_expand_relu False\n",
      "21 block_2_depthwise False\n",
      "22 block_2_depthwise_BN False\n",
      "23 block_2_depthwise_relu False\n",
      "24 block_2_project False\n",
      "25 block_2_project_BN False\n",
      "26 block_2_add False\n",
      "27 block_3_expand False\n",
      "28 block_3_expand_BN False\n",
      "29 block_3_expand_relu False\n",
      "30 block_3_pad False\n",
      "31 block_3_depthwise False\n",
      "32 block_3_depthwise_BN False\n",
      "33 block_3_depthwise_relu False\n",
      "34 block_3_project False\n",
      "35 block_3_project_BN False\n",
      "36 block_4_expand False\n",
      "37 block_4_expand_BN False\n",
      "38 block_4_expand_relu False\n",
      "39 block_4_depthwise False\n",
      "40 block_4_depthwise_BN False\n",
      "41 block_4_depthwise_relu False\n",
      "42 block_4_project False\n",
      "43 block_4_project_BN False\n",
      "44 block_4_add False\n",
      "45 block_5_expand False\n",
      "46 block_5_expand_BN False\n",
      "47 block_5_expand_relu False\n",
      "48 block_5_depthwise False\n",
      "49 block_5_depthwise_BN False\n",
      "50 block_5_depthwise_relu False\n",
      "51 block_5_project False\n",
      "52 block_5_project_BN False\n",
      "53 block_5_add False\n",
      "54 block_6_expand False\n",
      "55 block_6_expand_BN False\n",
      "56 block_6_expand_relu False\n",
      "57 block_6_pad False\n",
      "58 block_6_depthwise False\n",
      "59 block_6_depthwise_BN False\n",
      "60 block_6_depthwise_relu False\n",
      "61 block_6_project False\n",
      "62 block_6_project_BN False\n",
      "63 block_7_expand False\n",
      "64 block_7_expand_BN False\n",
      "65 block_7_expand_relu False\n",
      "66 block_7_depthwise False\n",
      "67 block_7_depthwise_BN False\n",
      "68 block_7_depthwise_relu False\n",
      "69 block_7_project False\n",
      "70 block_7_project_BN False\n",
      "71 block_7_add False\n",
      "72 block_8_expand False\n",
      "73 block_8_expand_BN False\n",
      "74 block_8_expand_relu False\n",
      "75 block_8_depthwise False\n",
      "76 block_8_depthwise_BN False\n",
      "77 block_8_depthwise_relu False\n",
      "78 block_8_project False\n",
      "79 block_8_project_BN False\n",
      "80 block_8_add False\n",
      "81 block_9_expand False\n",
      "82 block_9_expand_BN False\n",
      "83 block_9_expand_relu False\n",
      "84 block_9_depthwise False\n",
      "85 block_9_depthwise_BN False\n",
      "86 block_9_depthwise_relu False\n",
      "87 block_9_project False\n",
      "88 block_9_project_BN False\n",
      "89 block_9_add False\n",
      "90 block_10_expand True\n",
      "91 block_10_expand_BN True\n",
      "92 block_10_expand_relu True\n",
      "93 block_10_depthwise True\n",
      "94 block_10_depthwise_BN True\n",
      "95 block_10_depthwise_relu True\n",
      "96 block_10_project True\n",
      "97 block_10_project_BN True\n",
      "98 block_11_expand True\n",
      "99 block_11_expand_BN True\n",
      "100 block_11_expand_relu True\n",
      "101 block_11_depthwise True\n",
      "102 block_11_depthwise_BN True\n",
      "103 block_11_depthwise_relu True\n",
      "104 block_11_project True\n",
      "105 block_11_project_BN True\n",
      "106 block_11_add True\n",
      "107 block_12_expand True\n",
      "108 block_12_expand_BN True\n",
      "109 block_12_expand_relu True\n",
      "110 block_12_depthwise True\n",
      "111 block_12_depthwise_BN True\n",
      "112 block_12_depthwise_relu True\n",
      "113 block_12_project True\n",
      "114 block_12_project_BN True\n",
      "115 block_12_add True\n",
      "116 block_13_expand True\n",
      "117 block_13_expand_BN True\n",
      "118 block_13_expand_relu True\n",
      "119 block_13_pad True\n",
      "120 block_13_depthwise True\n",
      "121 block_13_depthwise_BN True\n",
      "122 block_13_depthwise_relu True\n",
      "123 block_13_project True\n",
      "124 block_13_project_BN True\n",
      "125 block_14_expand True\n",
      "126 block_14_expand_BN True\n",
      "127 block_14_expand_relu True\n",
      "128 block_14_depthwise True\n",
      "129 block_14_depthwise_BN True\n",
      "130 block_14_depthwise_relu True\n",
      "131 block_14_project True\n",
      "132 block_14_project_BN True\n",
      "133 block_14_add True\n",
      "134 block_15_expand True\n",
      "135 block_15_expand_BN True\n",
      "136 block_15_expand_relu True\n",
      "137 block_15_depthwise True\n",
      "138 block_15_depthwise_BN True\n",
      "139 block_15_depthwise_relu True\n",
      "140 block_15_project True\n",
      "141 block_15_project_BN True\n",
      "142 block_15_add True\n",
      "143 block_16_expand True\n",
      "144 block_16_expand_BN True\n",
      "145 block_16_expand_relu True\n",
      "146 block_16_depthwise True\n",
      "147 block_16_depthwise_BN True\n",
      "148 block_16_depthwise_relu True\n",
      "149 block_16_project True\n",
      "150 block_16_project_BN True\n",
      "151 Conv_1 True\n",
      "152 Conv_1_bn True\n",
      "153 out_relu True\n"
     ]
    }
   ],
   "source": [
    "fine_tuning = models.load_model(os.path.join(GLOBAL_MODELS_FOLDER, 'experiment2_feature_extraction.h5'))\n",
    "\n",
    "setTrainable = False\n",
    "for layer in fine_tuning.get_layer('mobilenetv2_1.00_224').layers:\n",
    "    if layer.name in ('block_10_expand'):\n",
    "        setTrainable = True\n",
    "    if setTrainable == True:\n",
    "        layer.trainable = True\n",
    "    else:\n",
    "      layer.trainable = False\n",
    "\n",
    "compile_model(fine_tuning, learning_rate=1e-5)\n",
    "\n",
    "for i, layer in enumerate(fine_tuning.get_layer('mobilenetv2_1.00_224').layers):\n",
    "    print(i, layer.name, layer.trainable)"
   ]
  },
  {
   "cell_type": "code",
   "execution_count": 26,
   "metadata": {
    "colab": {
     "base_uri": "https://localhost:8080/",
     "height": 1000
    },
    "executionInfo": {
     "elapsed": 756562,
     "status": "ok",
     "timestamp": 1641395235182,
     "user": {
      "displayName": "Federica Baldi",
      "photoUrl": "https://lh3.googleusercontent.com/a-/AOh14Gj0eALl9wD-GJPtSTMAFK0DvDlcGWh5ZTpdGFtwCIo=s64",
      "userId": "15726835528723494588"
     },
     "user_tz": -60
    },
    "id": "wZ8YcYctu6y3",
    "outputId": "6c2839fa-514b-45f3-9df3-2d067dad2d32"
   },
   "outputs": [
    {
     "name": "stdout",
     "output_type": "stream",
     "text": [
      "Epoch 1/100\n",
      "200/200 [==============================] - 327s 2s/step - loss: 0.0082 - accuracy: 0.9980 - val_loss: 0.5643 - val_accuracy: 0.8466\n",
      "\n",
      "Epoch 00001: val_loss improved from inf to 0.56429, saving model to content/models/experiment6_finetuning.h5\n",
      "Epoch 2/100\n",
      "200/200 [==============================] - 326s 2s/step - loss: 0.0082 - accuracy: 0.9983 - val_loss: 0.5368 - val_accuracy: 0.8565\n",
      "\n",
      "Epoch 00002: val_loss improved from 0.56429 to 0.53678, saving model to content/models/experiment6_finetuning.h5\n",
      "Epoch 3/100\n",
      "200/200 [==============================] - 329s 2s/step - loss: 0.0054 - accuracy: 0.9998 - val_loss: 0.5237 - val_accuracy: 0.8677\n",
      "\n",
      "Epoch 00003: val_loss improved from 0.53678 to 0.52365, saving model to content/models/experiment6_finetuning.h5\n",
      "Epoch 4/100\n",
      "200/200 [==============================] - 329s 2s/step - loss: 0.0065 - accuracy: 0.9989 - val_loss: 0.5401 - val_accuracy: 0.8616\n",
      "\n",
      "Epoch 00004: val_loss did not improve from 0.52365\n",
      "Epoch 5/100\n",
      "200/200 [==============================] - 339s 2s/step - loss: 0.0046 - accuracy: 0.9998 - val_loss: 0.5460 - val_accuracy: 0.8644\n",
      "\n",
      "Epoch 00005: val_loss did not improve from 0.52365\n",
      "Epoch 6/100\n",
      "200/200 [==============================] - 332s 2s/step - loss: 0.0054 - accuracy: 0.9991 - val_loss: 0.5399 - val_accuracy: 0.8701\n",
      "\n",
      "Epoch 00006: val_loss did not improve from 0.52365\n",
      "Epoch 7/100\n",
      "200/200 [==============================] - 337s 2s/step - loss: 0.0056 - accuracy: 0.9994 - val_loss: 0.5487 - val_accuracy: 0.8673\n",
      "\n",
      "Epoch 00007: val_loss did not improve from 0.52365\n",
      "Epoch 8/100\n",
      "200/200 [==============================] - 336s 2s/step - loss: 0.0062 - accuracy: 0.9987 - val_loss: 0.5735 - val_accuracy: 0.8621\n",
      "\n",
      "Epoch 00008: val_loss did not improve from 0.52365\n"
     ]
    },
    {
     "data": {
      "image/png": "[encoded data removed]",
      "text/plain": [
       "<Figure size 432x288 with 1 Axes>"
      ]
     },
     "metadata": {
      "needs_background": "light"
     },
     "output_type": "display_data"
    },
    {
     "data": {
      "image/png": "[encoded data removed]",
      "text/plain": [
       "<Figure size 432x288 with 1 Axes>"
      ]
     },
     "metadata": {
      "needs_background": "light"
     },
     "output_type": "display_data"
    }
   ],
   "source": [
    "run_model(fine_tuning, 'experiment6_finetuning', epochs = 100, patience=5)"
   ]
  },
  {
   "cell_type": "code",
   "execution_count": 27,
   "metadata": {
    "colab": {
     "base_uri": "https://localhost:8080/",
     "height": 730
    },
    "executionInfo": {
     "elapsed": 12196,
     "status": "ok",
     "timestamp": 1642022447190,
     "user": {
      "displayName": "Federica Baldi",
      "photoUrl": "https://lh3.googleusercontent.com/a-/AOh14Gj0eALl9wD-GJPtSTMAFK0DvDlcGWh5ZTpdGFtwCIo=s64",
      "userId": "15726835528723494588"
     },
     "user_tz": -60
    },
    "id": "CXjtLNlDKanH",
    "outputId": "4566d289-4fe3-4c28-f321-a105e106b7a7"
   },
   "outputs": [
    {
     "name": "stdout",
     "output_type": "stream",
     "text": [
      "Classification report: \n",
      "              precision    recall  f1-score   support\n",
      "\n",
      "           0     0.7901    0.8060    0.7980       696\n",
      "           1     0.9051    0.8962    0.9006      1436\n",
      "\n",
      "    accuracy                         0.8668      2132\n",
      "   macro avg     0.8476    0.8511    0.8493      2132\n",
      "weighted avg     0.8675    0.8668    0.8671      2132\n",
      "\n"
     ]
    },
    {
     "data": {
      "image/png": "[encoded data removed]",
      "text/plain": [
       "<Figure size 432x288 with 2 Axes>"
      ]
     },
     "metadata": {
      "needs_background": "light"
     },
     "output_type": "display_data"
    },
    {
     "data": {
      "image/png": "[encoded data removed]",
      "text/plain": [
       "<Figure size 432x288 with 1 Axes>"
      ]
     },
     "metadata": {
      "needs_background": "light"
     },
     "output_type": "display_data"
    }
   ],
   "source": [
    "evaluate_model(tf.keras.models.load_model(GLOBAL_MODELS_FOLDER + '/experiment6_finetuning.h5'))"
   ]
  },
  {
   "cell_type": "markdown",
   "metadata": {
    "id": "vbmnB_mf2poo"
   },
   "source": [
    "### Experiment 7"
   ]
  },
  {
   "cell_type": "code",
   "execution_count": 28,
   "metadata": {
    "colab": {
     "base_uri": "https://localhost:8080/"
    },
    "executionInfo": {
     "elapsed": 2204,
     "status": "ok",
     "timestamp": 1641396513111,
     "user": {
      "displayName": "Federica Baldi",
      "photoUrl": "https://lh3.googleusercontent.com/a-/AOh14Gj0eALl9wD-GJPtSTMAFK0DvDlcGWh5ZTpdGFtwCIo=s64",
      "userId": "15726835528723494588"
     },
     "user_tz": -60
    },
    "id": "BvUKpI0K2nw3",
    "outputId": "6504d286-5d84-4767-8532-8571177a2f3b"
   },
   "outputs": [
    {
     "name": "stdout",
     "output_type": "stream",
     "text": [
      "Model: \"model_2\"\n",
      "_________________________________________________________________\n",
      "Layer (type)                 Output Shape              Param #   \n",
      "=================================================================\n",
      "input_4 (InputLayer)         [(None, 224, 224, 3)]     0         \n",
      "_________________________________________________________________\n",
      "tf.math.truediv_2 (TFOpLambd (None, 224, 224, 3)       0         \n",
      "_________________________________________________________________\n",
      "tf.math.subtract_2 (TFOpLamb (None, 224, 224, 3)       0         \n",
      "_________________________________________________________________\n",
      "mobilenetv2_1.00_224 (Functi (None, 7, 7, 1280)        2257984   \n",
      "_________________________________________________________________\n",
      "global_average_pooling2d_1 ( (None, 1280)              0         \n",
      "_________________________________________________________________\n",
      "dropout_1 (Dropout)          (None, 1280)              0         \n",
      "_________________________________________________________________\n",
      "dense_3 (Dense)              (None, 1)                 1281      \n",
      "=================================================================\n",
      "Total params: 2,259,265\n",
      "Trainable params: 1,985,793\n",
      "Non-trainable params: 273,472\n",
      "_________________________________________________________________\n",
      "0 input_1 False\n",
      "1 Conv1 False\n",
      "2 bn_Conv1 False\n",
      "3 Conv1_relu False\n",
      "4 expanded_conv_depthwise False\n",
      "5 expanded_conv_depthwise_BN False\n",
      "6 expanded_conv_depthwise_relu False\n",
      "7 expanded_conv_project False\n",
      "8 expanded_conv_project_BN False\n",
      "9 block_1_expand False\n",
      "10 block_1_expand_BN False\n",
      "11 block_1_expand_relu False\n",
      "12 block_1_pad False\n",
      "13 block_1_depthwise False\n",
      "14 block_1_depthwise_BN False\n",
      "15 block_1_depthwise_relu False\n",
      "16 block_1_project False\n",
      "17 block_1_project_BN False\n",
      "18 block_2_expand False\n",
      "19 block_2_expand_BN False\n",
      "20 block_2_expand_relu False\n",
      "21 block_2_depthwise False\n",
      "22 block_2_depthwise_BN False\n",
      "23 block_2_depthwise_relu False\n",
      "24 block_2_project False\n",
      "25 block_2_project_BN False\n",
      "26 block_2_add False\n",
      "27 block_3_expand False\n",
      "28 block_3_expand_BN False\n",
      "29 block_3_expand_relu False\n",
      "30 block_3_pad False\n",
      "31 block_3_depthwise False\n",
      "32 block_3_depthwise_BN False\n",
      "33 block_3_depthwise_relu False\n",
      "34 block_3_project False\n",
      "35 block_3_project_BN False\n",
      "36 block_4_expand False\n",
      "37 block_4_expand_BN False\n",
      "38 block_4_expand_relu False\n",
      "39 block_4_depthwise False\n",
      "40 block_4_depthwise_BN False\n",
      "41 block_4_depthwise_relu False\n",
      "42 block_4_project False\n",
      "43 block_4_project_BN False\n",
      "44 block_4_add False\n",
      "45 block_5_expand False\n",
      "46 block_5_expand_BN False\n",
      "47 block_5_expand_relu False\n",
      "48 block_5_depthwise False\n",
      "49 block_5_depthwise_BN False\n",
      "50 block_5_depthwise_relu False\n",
      "51 block_5_project False\n",
      "52 block_5_project_BN False\n",
      "53 block_5_add False\n",
      "54 block_6_expand False\n",
      "55 block_6_expand_BN False\n",
      "56 block_6_expand_relu False\n",
      "57 block_6_pad False\n",
      "58 block_6_depthwise False\n",
      "59 block_6_depthwise_BN False\n",
      "60 block_6_depthwise_relu False\n",
      "61 block_6_project False\n",
      "62 block_6_project_BN False\n",
      "63 block_7_expand False\n",
      "64 block_7_expand_BN False\n",
      "65 block_7_expand_relu False\n",
      "66 block_7_depthwise False\n",
      "67 block_7_depthwise_BN False\n",
      "68 block_7_depthwise_relu False\n",
      "69 block_7_project False\n",
      "70 block_7_project_BN False\n",
      "71 block_7_add False\n",
      "72 block_8_expand False\n",
      "73 block_8_expand_BN False\n",
      "74 block_8_expand_relu False\n",
      "75 block_8_depthwise False\n",
      "76 block_8_depthwise_BN False\n",
      "77 block_8_depthwise_relu False\n",
      "78 block_8_project False\n",
      "79 block_8_project_BN False\n",
      "80 block_8_add False\n",
      "81 block_9_expand False\n",
      "82 block_9_expand_BN False\n",
      "83 block_9_expand_relu False\n",
      "84 block_9_depthwise False\n",
      "85 block_9_depthwise_BN False\n",
      "86 block_9_depthwise_relu False\n",
      "87 block_9_project False\n",
      "88 block_9_project_BN False\n",
      "89 block_9_add False\n",
      "90 block_10_expand True\n",
      "91 block_10_expand_BN True\n",
      "92 block_10_expand_relu True\n",
      "93 block_10_depthwise True\n",
      "94 block_10_depthwise_BN True\n",
      "95 block_10_depthwise_relu True\n",
      "96 block_10_project True\n",
      "97 block_10_project_BN True\n",
      "98 block_11_expand True\n",
      "99 block_11_expand_BN True\n",
      "100 block_11_expand_relu True\n",
      "101 block_11_depthwise True\n",
      "102 block_11_depthwise_BN True\n",
      "103 block_11_depthwise_relu True\n",
      "104 block_11_project True\n",
      "105 block_11_project_BN True\n",
      "106 block_11_add True\n",
      "107 block_12_expand True\n",
      "108 block_12_expand_BN True\n",
      "109 block_12_expand_relu True\n",
      "110 block_12_depthwise True\n",
      "111 block_12_depthwise_BN True\n",
      "112 block_12_depthwise_relu True\n",
      "113 block_12_project True\n",
      "114 block_12_project_BN True\n",
      "115 block_12_add True\n",
      "116 block_13_expand True\n",
      "117 block_13_expand_BN True\n",
      "118 block_13_expand_relu True\n",
      "119 block_13_pad True\n",
      "120 block_13_depthwise True\n",
      "121 block_13_depthwise_BN True\n",
      "122 block_13_depthwise_relu True\n",
      "123 block_13_project True\n",
      "124 block_13_project_BN True\n",
      "125 block_14_expand True\n",
      "126 block_14_expand_BN True\n",
      "127 block_14_expand_relu True\n",
      "128 block_14_depthwise True\n",
      "129 block_14_depthwise_BN True\n",
      "130 block_14_depthwise_relu True\n",
      "131 block_14_project True\n",
      "132 block_14_project_BN True\n",
      "133 block_14_add True\n",
      "134 block_15_expand True\n",
      "135 block_15_expand_BN True\n",
      "136 block_15_expand_relu True\n",
      "137 block_15_depthwise True\n",
      "138 block_15_depthwise_BN True\n",
      "139 block_15_depthwise_relu True\n",
      "140 block_15_project True\n",
      "141 block_15_project_BN True\n",
      "142 block_15_add True\n",
      "143 block_16_expand True\n",
      "144 block_16_expand_BN True\n",
      "145 block_16_expand_relu True\n",
      "146 block_16_depthwise True\n",
      "147 block_16_depthwise_BN True\n",
      "148 block_16_depthwise_relu True\n",
      "149 block_16_project True\n",
      "150 block_16_project_BN True\n",
      "151 Conv_1 True\n",
      "152 Conv_1_bn True\n",
      "153 out_relu True\n"
     ]
    }
   ],
   "source": [
    "fine_tuning = models.load_model(os.path.join(GLOBAL_MODELS_FOLDER, 'experiment3_feature_extraction.h5'))\n",
    "\n",
    "setTrainable = False\n",
    "for layer in fine_tuning.get_layer('mobilenetv2_1.00_224').layers:\n",
    "    if layer.name in ('block_10_expand'):\n",
    "        setTrainable = True\n",
    "    if setTrainable == True:\n",
    "        layer.trainable = True\n",
    "    else:\n",
    "      layer.trainable = False\n",
    "\n",
    "compile_model(fine_tuning, learning_rate=1e-5)\n",
    "\n",
    "for i, layer in enumerate(fine_tuning.get_layer('mobilenetv2_1.00_224').layers):\n",
    "    print(i, layer.name, layer.trainable)"
   ]
  },
  {
   "cell_type": "code",
   "execution_count": 30,
   "metadata": {
    "colab": {
     "base_uri": "https://localhost:8080/",
     "height": 1000
    },
    "executionInfo": {
     "elapsed": 804713,
     "status": "ok",
     "timestamp": 1641397348565,
     "user": {
      "displayName": "Federica Baldi",
      "photoUrl": "https://lh3.googleusercontent.com/a-/AOh14Gj0eALl9wD-GJPtSTMAFK0DvDlcGWh5ZTpdGFtwCIo=s64",
      "userId": "15726835528723494588"
     },
     "user_tz": -60
    },
    "id": "HLHeRE6E21HC",
    "outputId": "d01e3c03-5729-4c46-fa7a-30125238f44d"
   },
   "outputs": [
    {
     "name": "stdout",
     "output_type": "stream",
     "text": [
      "Epoch 1/100\n",
      "200/200 [==============================] - 296s 1s/step - loss: 0.0207 - accuracy: 0.9962 - val_loss: 0.3753 - val_accuracy: 0.8780\n",
      "\n",
      "Epoch 00001: val_loss improved from inf to 0.37534, saving model to content/models/experiment7_finetuning.h5\n",
      "Epoch 2/100\n",
      "200/200 [==============================] - 299s 1s/step - loss: 0.0193 - accuracy: 0.9958 - val_loss: 0.3797 - val_accuracy: 0.8832\n",
      "\n",
      "Epoch 00002: val_loss did not improve from 0.37534\n",
      "Epoch 3/100\n",
      "200/200 [==============================] - 330s 2s/step - loss: 0.0140 - accuracy: 0.9975 - val_loss: 0.3899 - val_accuracy: 0.8841\n",
      "\n",
      "Epoch 00003: val_loss did not improve from 0.37534\n",
      "Epoch 4/100\n",
      "200/200 [==============================] - 297s 1s/step - loss: 0.0127 - accuracy: 0.9984 - val_loss: 0.3953 - val_accuracy: 0.8841\n",
      "\n",
      "Epoch 00004: val_loss did not improve from 0.37534\n",
      "Epoch 5/100\n",
      "200/200 [==============================] - 290s 1s/step - loss: 0.0135 - accuracy: 0.9978 - val_loss: 0.4144 - val_accuracy: 0.8827\n",
      "\n",
      "Epoch 00005: val_loss did not improve from 0.37534\n",
      "Epoch 6/100\n",
      "200/200 [==============================] - 291s 1s/step - loss: 0.0127 - accuracy: 0.9980 - val_loss: 0.4085 - val_accuracy: 0.8902\n",
      "\n",
      "Epoch 00006: val_loss did not improve from 0.37534\n"
     ]
    },
    {
     "data": {
      "image/png": "[encoded data removed]",
      "text/plain": [
       "<Figure size 432x288 with 1 Axes>"
      ]
     },
     "metadata": {
      "needs_background": "light"
     },
     "output_type": "display_data"
    },
    {
     "data": {
      "image/png": "[encoded data removed]",
      "text/plain": [
       "<Figure size 432x288 with 1 Axes>"
      ]
     },
     "metadata": {
      "needs_background": "light"
     },
     "output_type": "display_data"
    }
   ],
   "source": [
    "run_model(fine_tuning, 'experiment7_finetuning', epochs = 100, patience=5)"
   ]
  },
  {
   "cell_type": "code",
   "execution_count": 31,
   "metadata": {
    "colab": {
     "base_uri": "https://localhost:8080/",
     "height": 730
    },
    "executionInfo": {
     "elapsed": 10074,
     "status": "ok",
     "timestamp": 1641397509290,
     "user": {
      "displayName": "Federica Baldi",
      "photoUrl": "https://lh3.googleusercontent.com/a-/AOh14Gj0eALl9wD-GJPtSTMAFK0DvDlcGWh5ZTpdGFtwCIo=s64",
      "userId": "15726835528723494588"
     },
     "user_tz": -60
    },
    "id": "RMdgc5626d-T",
    "outputId": "b2121628-4ee0-4c85-fa61-f5403dcf8386"
   },
   "outputs": [
    {
     "name": "stdout",
     "output_type": "stream",
     "text": [
      "Classification report: \n",
      "              precision    recall  f1-score   support\n",
      "\n",
      "           0     0.7848    0.8434    0.8130       696\n",
      "           1     0.9212    0.8879    0.9043      1436\n",
      "\n",
      "    accuracy                         0.8734      2132\n",
      "   macro avg     0.8530    0.8656    0.8586      2132\n",
      "weighted avg     0.8767    0.8734    0.8745      2132\n",
      "\n"
     ]
    },
    {
     "data": {
      "image/png": "[encoded data removed]",
      "text/plain": [
       "<Figure size 432x288 with 2 Axes>"
      ]
     },
     "metadata": {
      "needs_background": "light"
     },
     "output_type": "display_data"
    },
    {
     "data": {
      "image/png": "[encoded data removed]",
      "text/plain": [
       "<Figure size 432x288 with 1 Axes>"
      ]
     },
     "metadata": {
      "needs_background": "light"
     },
     "output_type": "display_data"
    }
   ],
   "source": [
    "evaluate_model(tf.keras.models.load_model(GLOBAL_MODELS_FOLDER + '/experiment7_finetuning.h5'))"
   ]
  },
  {
   "cell_type": "markdown",
   "metadata": {
    "id": "MsfqX3PU_dX6"
   },
   "source": [
    "## Remove last block"
   ]
  },
  {
   "cell_type": "code",
   "execution_count": 32,
   "metadata": {
    "id": "6XJywktEWESX"
   },
   "outputs": [],
   "source": [
    "def get_index_by_layer_name(model, layer_name):\n",
    "  '''\n",
    "  get_index_by_layer_name is used to retrieve the index of a specific layer\n",
    "  :param model: model to check\n",
    "  :param layer_name: name of the layer we want to get the index of\n",
    "  :return: the index of the layer named as defined in layer_name\n",
    "  '''\n",
    "  for index, layer in enumerate(model.layers):\n",
    "      if layer.name == layer_name:\n",
    "          return index"
   ]
  },
  {
   "cell_type": "code",
   "execution_count": 33,
   "metadata": {
    "id": "xsprMjyzAXZB"
   },
   "outputs": [],
   "source": [
    "conv_base = tf.keras.applications.MobileNetV2(\n",
    "    input_shape=(IMAGE_HEIGHT,IMAGE_WIDTH,3),\n",
    "    alpha=1,\n",
    "    include_top= False,\n",
    "    weights=\"imagenet\",\n",
    ")"
   ]
  },
  {
   "cell_type": "code",
   "execution_count": 34,
   "metadata": {
    "colab": {
     "base_uri": "https://localhost:8080/"
    },
    "executionInfo": {
     "elapsed": 590,
     "status": "ok",
     "timestamp": 1642021015116,
     "user": {
      "displayName": "DANIELE CIOFFO",
      "photoUrl": "https://lh3.googleusercontent.com/a/default-user=s64",
      "userId": "10062146559806518037"
     },
     "user_tz": -60
    },
    "id": "aUdVNHXdAacc",
    "outputId": "9eb6f8a0-64f0-4695-99b6-c71286881689"
   },
   "outputs": [
    {
     "name": "stdout",
     "output_type": "stream",
     "text": [
      "Model: \"base\"\n",
      "__________________________________________________________________________________________________\n",
      "Layer (type)                    Output Shape         Param #     Connected to                     \n",
      "==================================================================================================\n",
      "input_6 (InputLayer)            [(None, 224, 224, 3) 0                                            \n",
      "__________________________________________________________________________________________________\n",
      "Conv1 (Conv2D)                  (None, 112, 112, 32) 864         input_6[0][0]                    \n",
      "__________________________________________________________________________________________________\n",
      "bn_Conv1 (BatchNormalization)   (None, 112, 112, 32) 128         Conv1[0][0]                      \n",
      "__________________________________________________________________________________________________\n",
      "Conv1_relu (ReLU)               (None, 112, 112, 32) 0           bn_Conv1[0][0]                   \n",
      "__________________________________________________________________________________________________\n",
      "expanded_conv_depthwise (Depthw (None, 112, 112, 32) 288         Conv1_relu[0][0]                 \n",
      "__________________________________________________________________________________________________\n",
      "expanded_conv_depthwise_BN (Bat (None, 112, 112, 32) 128         expanded_conv_depthwise[0][0]    \n",
      "__________________________________________________________________________________________________\n",
      "expanded_conv_depthwise_relu (R (None, 112, 112, 32) 0           expanded_conv_depthwise_BN[0][0] \n",
      "__________________________________________________________________________________________________\n",
      "expanded_conv_project (Conv2D)  (None, 112, 112, 16) 512         expanded_conv_depthwise_relu[0][0\n",
      "__________________________________________________________________________________________________\n",
      "expanded_conv_project_BN (Batch (None, 112, 112, 16) 64          expanded_conv_project[0][0]      \n",
      "__________________________________________________________________________________________________\n",
      "block_1_expand (Conv2D)         (None, 112, 112, 96) 1536        expanded_conv_project_BN[0][0]   \n",
      "__________________________________________________________________________________________________\n",
      "block_1_expand_BN (BatchNormali (None, 112, 112, 96) 384         block_1_expand[0][0]             \n",
      "__________________________________________________________________________________________________\n",
      "block_1_expand_relu (ReLU)      (None, 112, 112, 96) 0           block_1_expand_BN[0][0]          \n",
      "__________________________________________________________________________________________________\n",
      "block_1_pad (ZeroPadding2D)     (None, 113, 113, 96) 0           block_1_expand_relu[0][0]        \n",
      "__________________________________________________________________________________________________\n",
      "block_1_depthwise (DepthwiseCon (None, 56, 56, 96)   864         block_1_pad[0][0]                \n",
      "__________________________________________________________________________________________________\n",
      "block_1_depthwise_BN (BatchNorm (None, 56, 56, 96)   384         block_1_depthwise[0][0]          \n",
      "__________________________________________________________________________________________________\n",
      "block_1_depthwise_relu (ReLU)   (None, 56, 56, 96)   0           block_1_depthwise_BN[0][0]       \n",
      "__________________________________________________________________________________________________\n",
      "block_1_project (Conv2D)        (None, 56, 56, 24)   2304        block_1_depthwise_relu[0][0]     \n",
      "__________________________________________________________________________________________________\n",
      "block_1_project_BN (BatchNormal (None, 56, 56, 24)   96          block_1_project[0][0]            \n",
      "__________________________________________________________________________________________________\n",
      "block_2_expand (Conv2D)         (None, 56, 56, 144)  3456        block_1_project_BN[0][0]         \n",
      "__________________________________________________________________________________________________\n",
      "block_2_expand_BN (BatchNormali (None, 56, 56, 144)  576         block_2_expand[0][0]             \n",
      "__________________________________________________________________________________________________\n",
      "block_2_expand_relu (ReLU)      (None, 56, 56, 144)  0           block_2_expand_BN[0][0]          \n",
      "__________________________________________________________________________________________________\n",
      "block_2_depthwise (DepthwiseCon (None, 56, 56, 144)  1296        block_2_expand_relu[0][0]        \n",
      "__________________________________________________________________________________________________\n",
      "block_2_depthwise_BN (BatchNorm (None, 56, 56, 144)  576         block_2_depthwise[0][0]          \n",
      "__________________________________________________________________________________________________\n",
      "block_2_depthwise_relu (ReLU)   (None, 56, 56, 144)  0           block_2_depthwise_BN[0][0]       \n",
      "__________________________________________________________________________________________________\n",
      "block_2_project (Conv2D)        (None, 56, 56, 24)   3456        block_2_depthwise_relu[0][0]     \n",
      "__________________________________________________________________________________________________\n",
      "block_2_project_BN (BatchNormal (None, 56, 56, 24)   96          block_2_project[0][0]            \n",
      "__________________________________________________________________________________________________\n",
      "block_2_add (Add)               (None, 56, 56, 24)   0           block_1_project_BN[0][0]         \n",
      "                                                                 block_2_project_BN[0][0]         \n",
      "__________________________________________________________________________________________________\n",
      "block_3_expand (Conv2D)         (None, 56, 56, 144)  3456        block_2_add[0][0]                \n",
      "__________________________________________________________________________________________________\n",
      "block_3_expand_BN (BatchNormali (None, 56, 56, 144)  576         block_3_expand[0][0]             \n",
      "__________________________________________________________________________________________________\n",
      "block_3_expand_relu (ReLU)      (None, 56, 56, 144)  0           block_3_expand_BN[0][0]          \n",
      "__________________________________________________________________________________________________\n",
      "block_3_pad (ZeroPadding2D)     (None, 57, 57, 144)  0           block_3_expand_relu[0][0]        \n",
      "__________________________________________________________________________________________________\n",
      "block_3_depthwise (DepthwiseCon (None, 28, 28, 144)  1296        block_3_pad[0][0]                \n",
      "__________________________________________________________________________________________________\n",
      "block_3_depthwise_BN (BatchNorm (None, 28, 28, 144)  576         block_3_depthwise[0][0]          \n",
      "__________________________________________________________________________________________________\n",
      "block_3_depthwise_relu (ReLU)   (None, 28, 28, 144)  0           block_3_depthwise_BN[0][0]       \n",
      "__________________________________________________________________________________________________\n",
      "block_3_project (Conv2D)        (None, 28, 28, 32)   4608        block_3_depthwise_relu[0][0]     \n",
      "__________________________________________________________________________________________________\n",
      "block_3_project_BN (BatchNormal (None, 28, 28, 32)   128         block_3_project[0][0]            \n",
      "__________________________________________________________________________________________________\n",
      "block_4_expand (Conv2D)         (None, 28, 28, 192)  6144        block_3_project_BN[0][0]         \n",
      "__________________________________________________________________________________________________\n",
      "block_4_expand_BN (BatchNormali (None, 28, 28, 192)  768         block_4_expand[0][0]             \n",
      "__________________________________________________________________________________________________\n",
      "block_4_expand_relu (ReLU)      (None, 28, 28, 192)  0           block_4_expand_BN[0][0]          \n",
      "__________________________________________________________________________________________________\n",
      "block_4_depthwise (DepthwiseCon (None, 28, 28, 192)  1728        block_4_expand_relu[0][0]        \n",
      "__________________________________________________________________________________________________\n",
      "block_4_depthwise_BN (BatchNorm (None, 28, 28, 192)  768         block_4_depthwise[0][0]          \n",
      "__________________________________________________________________________________________________\n",
      "block_4_depthwise_relu (ReLU)   (None, 28, 28, 192)  0           block_4_depthwise_BN[0][0]       \n",
      "__________________________________________________________________________________________________\n",
      "block_4_project (Conv2D)        (None, 28, 28, 32)   6144        block_4_depthwise_relu[0][0]     \n",
      "__________________________________________________________________________________________________\n",
      "block_4_project_BN (BatchNormal (None, 28, 28, 32)   128         block_4_project[0][0]            \n",
      "__________________________________________________________________________________________________\n",
      "block_4_add (Add)               (None, 28, 28, 32)   0           block_3_project_BN[0][0]         \n",
      "                                                                 block_4_project_BN[0][0]         \n",
      "__________________________________________________________________________________________________\n",
      "block_5_expand (Conv2D)         (None, 28, 28, 192)  6144        block_4_add[0][0]                \n",
      "__________________________________________________________________________________________________\n",
      "block_5_expand_BN (BatchNormali (None, 28, 28, 192)  768         block_5_expand[0][0]             \n",
      "__________________________________________________________________________________________________\n",
      "block_5_expand_relu (ReLU)      (None, 28, 28, 192)  0           block_5_expand_BN[0][0]          \n",
      "__________________________________________________________________________________________________\n",
      "block_5_depthwise (DepthwiseCon (None, 28, 28, 192)  1728        block_5_expand_relu[0][0]        \n",
      "__________________________________________________________________________________________________\n",
      "block_5_depthwise_BN (BatchNorm (None, 28, 28, 192)  768         block_5_depthwise[0][0]          \n",
      "__________________________________________________________________________________________________\n",
      "block_5_depthwise_relu (ReLU)   (None, 28, 28, 192)  0           block_5_depthwise_BN[0][0]       \n",
      "__________________________________________________________________________________________________\n",
      "block_5_project (Conv2D)        (None, 28, 28, 32)   6144        block_5_depthwise_relu[0][0]     \n",
      "__________________________________________________________________________________________________\n",
      "block_5_project_BN (BatchNormal (None, 28, 28, 32)   128         block_5_project[0][0]            \n",
      "__________________________________________________________________________________________________\n",
      "block_5_add (Add)               (None, 28, 28, 32)   0           block_4_add[0][0]                \n",
      "                                                                 block_5_project_BN[0][0]         \n",
      "__________________________________________________________________________________________________\n",
      "block_6_expand (Conv2D)         (None, 28, 28, 192)  6144        block_5_add[0][0]                \n",
      "__________________________________________________________________________________________________\n",
      "block_6_expand_BN (BatchNormali (None, 28, 28, 192)  768         block_6_expand[0][0]             \n",
      "__________________________________________________________________________________________________\n",
      "block_6_expand_relu (ReLU)      (None, 28, 28, 192)  0           block_6_expand_BN[0][0]          \n",
      "__________________________________________________________________________________________________\n",
      "block_6_pad (ZeroPadding2D)     (None, 29, 29, 192)  0           block_6_expand_relu[0][0]        \n",
      "__________________________________________________________________________________________________\n",
      "block_6_depthwise (DepthwiseCon (None, 14, 14, 192)  1728        block_6_pad[0][0]                \n",
      "__________________________________________________________________________________________________\n",
      "block_6_depthwise_BN (BatchNorm (None, 14, 14, 192)  768         block_6_depthwise[0][0]          \n",
      "__________________________________________________________________________________________________\n",
      "block_6_depthwise_relu (ReLU)   (None, 14, 14, 192)  0           block_6_depthwise_BN[0][0]       \n",
      "__________________________________________________________________________________________________\n",
      "block_6_project (Conv2D)        (None, 14, 14, 64)   12288       block_6_depthwise_relu[0][0]     \n",
      "__________________________________________________________________________________________________\n",
      "block_6_project_BN (BatchNormal (None, 14, 14, 64)   256         block_6_project[0][0]            \n",
      "__________________________________________________________________________________________________\n",
      "block_7_expand (Conv2D)         (None, 14, 14, 384)  24576       block_6_project_BN[0][0]         \n",
      "__________________________________________________________________________________________________\n",
      "block_7_expand_BN (BatchNormali (None, 14, 14, 384)  1536        block_7_expand[0][0]             \n",
      "__________________________________________________________________________________________________\n",
      "block_7_expand_relu (ReLU)      (None, 14, 14, 384)  0           block_7_expand_BN[0][0]          \n",
      "__________________________________________________________________________________________________\n",
      "block_7_depthwise (DepthwiseCon (None, 14, 14, 384)  3456        block_7_expand_relu[0][0]        \n",
      "__________________________________________________________________________________________________\n",
      "block_7_depthwise_BN (BatchNorm (None, 14, 14, 384)  1536        block_7_depthwise[0][0]          \n",
      "__________________________________________________________________________________________________\n",
      "block_7_depthwise_relu (ReLU)   (None, 14, 14, 384)  0           block_7_depthwise_BN[0][0]       \n",
      "__________________________________________________________________________________________________\n",
      "block_7_project (Conv2D)        (None, 14, 14, 64)   24576       block_7_depthwise_relu[0][0]     \n",
      "__________________________________________________________________________________________________\n",
      "block_7_project_BN (BatchNormal (None, 14, 14, 64)   256         block_7_project[0][0]            \n",
      "__________________________________________________________________________________________________\n",
      "block_7_add (Add)               (None, 14, 14, 64)   0           block_6_project_BN[0][0]         \n",
      "                                                                 block_7_project_BN[0][0]         \n",
      "__________________________________________________________________________________________________\n",
      "block_8_expand (Conv2D)         (None, 14, 14, 384)  24576       block_7_add[0][0]                \n",
      "__________________________________________________________________________________________________\n",
      "block_8_expand_BN (BatchNormali (None, 14, 14, 384)  1536        block_8_expand[0][0]             \n",
      "__________________________________________________________________________________________________\n",
      "block_8_expand_relu (ReLU)      (None, 14, 14, 384)  0           block_8_expand_BN[0][0]          \n",
      "__________________________________________________________________________________________________\n",
      "block_8_depthwise (DepthwiseCon (None, 14, 14, 384)  3456        block_8_expand_relu[0][0]        \n",
      "__________________________________________________________________________________________________\n",
      "block_8_depthwise_BN (BatchNorm (None, 14, 14, 384)  1536        block_8_depthwise[0][0]          \n",
      "__________________________________________________________________________________________________\n",
      "block_8_depthwise_relu (ReLU)   (None, 14, 14, 384)  0           block_8_depthwise_BN[0][0]       \n",
      "__________________________________________________________________________________________________\n",
      "block_8_project (Conv2D)        (None, 14, 14, 64)   24576       block_8_depthwise_relu[0][0]     \n",
      "__________________________________________________________________________________________________\n",
      "block_8_project_BN (BatchNormal (None, 14, 14, 64)   256         block_8_project[0][0]            \n",
      "__________________________________________________________________________________________________\n",
      "block_8_add (Add)               (None, 14, 14, 64)   0           block_7_add[0][0]                \n",
      "                                                                 block_8_project_BN[0][0]         \n",
      "__________________________________________________________________________________________________\n",
      "block_9_expand (Conv2D)         (None, 14, 14, 384)  24576       block_8_add[0][0]                \n",
      "__________________________________________________________________________________________________\n",
      "block_9_expand_BN (BatchNormali (None, 14, 14, 384)  1536        block_9_expand[0][0]             \n",
      "__________________________________________________________________________________________________\n",
      "block_9_expand_relu (ReLU)      (None, 14, 14, 384)  0           block_9_expand_BN[0][0]          \n",
      "__________________________________________________________________________________________________\n",
      "block_9_depthwise (DepthwiseCon (None, 14, 14, 384)  3456        block_9_expand_relu[0][0]        \n",
      "__________________________________________________________________________________________________\n",
      "block_9_depthwise_BN (BatchNorm (None, 14, 14, 384)  1536        block_9_depthwise[0][0]          \n",
      "__________________________________________________________________________________________________\n",
      "block_9_depthwise_relu (ReLU)   (None, 14, 14, 384)  0           block_9_depthwise_BN[0][0]       \n",
      "__________________________________________________________________________________________________\n",
      "block_9_project (Conv2D)        (None, 14, 14, 64)   24576       block_9_depthwise_relu[0][0]     \n",
      "__________________________________________________________________________________________________\n",
      "block_9_project_BN (BatchNormal (None, 14, 14, 64)   256         block_9_project[0][0]            \n",
      "__________________________________________________________________________________________________\n",
      "block_9_add (Add)               (None, 14, 14, 64)   0           block_8_add[0][0]                \n",
      "                                                                 block_9_project_BN[0][0]         \n",
      "__________________________________________________________________________________________________\n",
      "block_10_expand (Conv2D)        (None, 14, 14, 384)  24576       block_9_add[0][0]                \n",
      "__________________________________________________________________________________________________\n",
      "block_10_expand_BN (BatchNormal (None, 14, 14, 384)  1536        block_10_expand[0][0]            \n",
      "__________________________________________________________________________________________________\n",
      "block_10_expand_relu (ReLU)     (None, 14, 14, 384)  0           block_10_expand_BN[0][0]         \n",
      "__________________________________________________________________________________________________\n",
      "block_10_depthwise (DepthwiseCo (None, 14, 14, 384)  3456        block_10_expand_relu[0][0]       \n",
      "__________________________________________________________________________________________________\n",
      "block_10_depthwise_BN (BatchNor (None, 14, 14, 384)  1536        block_10_depthwise[0][0]         \n",
      "__________________________________________________________________________________________________\n",
      "block_10_depthwise_relu (ReLU)  (None, 14, 14, 384)  0           block_10_depthwise_BN[0][0]      \n",
      "__________________________________________________________________________________________________\n",
      "block_10_project (Conv2D)       (None, 14, 14, 96)   36864       block_10_depthwise_relu[0][0]    \n",
      "__________________________________________________________________________________________________\n",
      "block_10_project_BN (BatchNorma (None, 14, 14, 96)   384         block_10_project[0][0]           \n",
      "__________________________________________________________________________________________________\n",
      "block_11_expand (Conv2D)        (None, 14, 14, 576)  55296       block_10_project_BN[0][0]        \n",
      "__________________________________________________________________________________________________\n",
      "block_11_expand_BN (BatchNormal (None, 14, 14, 576)  2304        block_11_expand[0][0]            \n",
      "__________________________________________________________________________________________________\n",
      "block_11_expand_relu (ReLU)     (None, 14, 14, 576)  0           block_11_expand_BN[0][0]         \n",
      "__________________________________________________________________________________________________\n",
      "block_11_depthwise (DepthwiseCo (None, 14, 14, 576)  5184        block_11_expand_relu[0][0]       \n",
      "__________________________________________________________________________________________________\n",
      "block_11_depthwise_BN (BatchNor (None, 14, 14, 576)  2304        block_11_depthwise[0][0]         \n",
      "__________________________________________________________________________________________________\n",
      "block_11_depthwise_relu (ReLU)  (None, 14, 14, 576)  0           block_11_depthwise_BN[0][0]      \n",
      "__________________________________________________________________________________________________\n",
      "block_11_project (Conv2D)       (None, 14, 14, 96)   55296       block_11_depthwise_relu[0][0]    \n",
      "__________________________________________________________________________________________________\n",
      "block_11_project_BN (BatchNorma (None, 14, 14, 96)   384         block_11_project[0][0]           \n",
      "__________________________________________________________________________________________________\n",
      "block_11_add (Add)              (None, 14, 14, 96)   0           block_10_project_BN[0][0]        \n",
      "                                                                 block_11_project_BN[0][0]        \n",
      "__________________________________________________________________________________________________\n",
      "block_12_expand (Conv2D)        (None, 14, 14, 576)  55296       block_11_add[0][0]               \n",
      "__________________________________________________________________________________________________\n",
      "block_12_expand_BN (BatchNormal (None, 14, 14, 576)  2304        block_12_expand[0][0]            \n",
      "__________________________________________________________________________________________________\n",
      "block_12_expand_relu (ReLU)     (None, 14, 14, 576)  0           block_12_expand_BN[0][0]         \n",
      "__________________________________________________________________________________________________\n",
      "block_12_depthwise (DepthwiseCo (None, 14, 14, 576)  5184        block_12_expand_relu[0][0]       \n",
      "__________________________________________________________________________________________________\n",
      "block_12_depthwise_BN (BatchNor (None, 14, 14, 576)  2304        block_12_depthwise[0][0]         \n",
      "__________________________________________________________________________________________________\n",
      "block_12_depthwise_relu (ReLU)  (None, 14, 14, 576)  0           block_12_depthwise_BN[0][0]      \n",
      "__________________________________________________________________________________________________\n",
      "block_12_project (Conv2D)       (None, 14, 14, 96)   55296       block_12_depthwise_relu[0][0]    \n",
      "__________________________________________________________________________________________________\n",
      "block_12_project_BN (BatchNorma (None, 14, 14, 96)   384         block_12_project[0][0]           \n",
      "__________________________________________________________________________________________________\n",
      "block_12_add (Add)              (None, 14, 14, 96)   0           block_11_add[0][0]               \n",
      "                                                                 block_12_project_BN[0][0]        \n",
      "__________________________________________________________________________________________________\n",
      "block_13_expand (Conv2D)        (None, 14, 14, 576)  55296       block_12_add[0][0]               \n",
      "__________________________________________________________________________________________________\n",
      "block_13_expand_BN (BatchNormal (None, 14, 14, 576)  2304        block_13_expand[0][0]            \n",
      "__________________________________________________________________________________________________\n",
      "block_13_expand_relu (ReLU)     (None, 14, 14, 576)  0           block_13_expand_BN[0][0]         \n",
      "__________________________________________________________________________________________________\n",
      "block_13_pad (ZeroPadding2D)    (None, 15, 15, 576)  0           block_13_expand_relu[0][0]       \n",
      "__________________________________________________________________________________________________\n",
      "block_13_depthwise (DepthwiseCo (None, 7, 7, 576)    5184        block_13_pad[0][0]               \n",
      "__________________________________________________________________________________________________\n",
      "block_13_depthwise_BN (BatchNor (None, 7, 7, 576)    2304        block_13_depthwise[0][0]         \n",
      "__________________________________________________________________________________________________\n",
      "block_13_depthwise_relu (ReLU)  (None, 7, 7, 576)    0           block_13_depthwise_BN[0][0]      \n",
      "__________________________________________________________________________________________________\n",
      "block_13_project (Conv2D)       (None, 7, 7, 160)    92160       block_13_depthwise_relu[0][0]    \n",
      "__________________________________________________________________________________________________\n",
      "block_13_project_BN (BatchNorma (None, 7, 7, 160)    640         block_13_project[0][0]           \n",
      "__________________________________________________________________________________________________\n",
      "block_14_expand (Conv2D)        (None, 7, 7, 960)    153600      block_13_project_BN[0][0]        \n",
      "__________________________________________________________________________________________________\n",
      "block_14_expand_BN (BatchNormal (None, 7, 7, 960)    3840        block_14_expand[0][0]            \n",
      "__________________________________________________________________________________________________\n",
      "block_14_expand_relu (ReLU)     (None, 7, 7, 960)    0           block_14_expand_BN[0][0]         \n",
      "__________________________________________________________________________________________________\n",
      "block_14_depthwise (DepthwiseCo (None, 7, 7, 960)    8640        block_14_expand_relu[0][0]       \n",
      "__________________________________________________________________________________________________\n",
      "block_14_depthwise_BN (BatchNor (None, 7, 7, 960)    3840        block_14_depthwise[0][0]         \n",
      "__________________________________________________________________________________________________\n",
      "block_14_depthwise_relu (ReLU)  (None, 7, 7, 960)    0           block_14_depthwise_BN[0][0]      \n",
      "__________________________________________________________________________________________________\n",
      "block_14_project (Conv2D)       (None, 7, 7, 160)    153600      block_14_depthwise_relu[0][0]    \n",
      "__________________________________________________________________________________________________\n",
      "block_14_project_BN (BatchNorma (None, 7, 7, 160)    640         block_14_project[0][0]           \n",
      "__________________________________________________________________________________________________\n",
      "block_14_add (Add)              (None, 7, 7, 160)    0           block_13_project_BN[0][0]        \n",
      "                                                                 block_14_project_BN[0][0]        \n",
      "__________________________________________________________________________________________________\n",
      "block_15_expand (Conv2D)        (None, 7, 7, 960)    153600      block_14_add[0][0]               \n",
      "__________________________________________________________________________________________________\n",
      "block_15_expand_BN (BatchNormal (None, 7, 7, 960)    3840        block_15_expand[0][0]            \n",
      "__________________________________________________________________________________________________\n",
      "block_15_expand_relu (ReLU)     (None, 7, 7, 960)    0           block_15_expand_BN[0][0]         \n",
      "__________________________________________________________________________________________________\n",
      "block_15_depthwise (DepthwiseCo (None, 7, 7, 960)    8640        block_15_expand_relu[0][0]       \n",
      "__________________________________________________________________________________________________\n",
      "block_15_depthwise_BN (BatchNor (None, 7, 7, 960)    3840        block_15_depthwise[0][0]         \n",
      "__________________________________________________________________________________________________\n",
      "block_15_depthwise_relu (ReLU)  (None, 7, 7, 960)    0           block_15_depthwise_BN[0][0]      \n",
      "__________________________________________________________________________________________________\n",
      "block_15_project (Conv2D)       (None, 7, 7, 160)    153600      block_15_depthwise_relu[0][0]    \n",
      "__________________________________________________________________________________________________\n",
      "block_15_project_BN (BatchNorma (None, 7, 7, 160)    640         block_15_project[0][0]           \n",
      "__________________________________________________________________________________________________\n",
      "block_15_add (Add)              (None, 7, 7, 160)    0           block_14_add[0][0]               \n",
      "                                                                 block_15_project_BN[0][0]        \n",
      "==================================================================================================\n",
      "Total params: 1,364,864\n",
      "Trainable params: 0\n",
      "Non-trainable params: 1,364,864\n",
      "__________________________________________________________________________________________________\n"
     ]
    }
   ],
   "source": [
    "base = Model(conv_base.input, conv_base.layers[get_index_by_layer_name(conv_base, 'block_15_add')].output, name='base')\n",
    "base.trainable = False\n",
    "base.summary()"
   ]
  },
  {
   "cell_type": "markdown",
   "metadata": {
    "id": "NviwEtgsAoCU"
   },
   "source": [
    "### Feature Extraction"
   ]
  },
  {
   "cell_type": "markdown",
   "metadata": {
    "id": "WdAfQDXHA_1c"
   },
   "source": [
    "#### Experiment 8"
   ]
  },
  {
   "cell_type": "code",
   "execution_count": 35,
   "metadata": {
    "colab": {
     "base_uri": "https://localhost:8080/"
    },
    "executionInfo": {
     "elapsed": 1042,
     "status": "ok",
     "timestamp": 1641801947075,
     "user": {
      "displayName": "Federica Baldi",
      "photoUrl": "https://lh3.googleusercontent.com/a-/AOh14Gj0eALl9wD-GJPtSTMAFK0DvDlcGWh5ZTpdGFtwCIo=s64",
      "userId": "15726835528723494588"
     },
     "user_tz": -60
    },
    "id": "VHsmUcQBAvMK",
    "outputId": "61d77ca8-417b-4d9e-ef9a-d7810744b7cd"
   },
   "outputs": [
    {
     "name": "stdout",
     "output_type": "stream",
     "text": [
      "Model: \"model_4\"\n",
      "_________________________________________________________________\n",
      "Layer (type)                 Output Shape              Param #   \n",
      "=================================================================\n",
      "input_7 (InputLayer)         [(None, 224, 224, 3)]     0         \n",
      "_________________________________________________________________\n",
      "tf.math.truediv_4 (TFOpLambd (None, 224, 224, 3)       0         \n",
      "_________________________________________________________________\n",
      "tf.math.subtract_4 (TFOpLamb (None, 224, 224, 3)       0         \n",
      "_________________________________________________________________\n",
      "base (Functional)            (None, 7, 7, 160)         1364864   \n",
      "_________________________________________________________________\n",
      "global_average_pooling2d_3 ( (None, 160)               0         \n",
      "_________________________________________________________________\n",
      "dense_7 (Dense)              (None, 256)               41216     \n",
      "_________________________________________________________________\n",
      "dropout_2 (Dropout)          (None, 256)               0         \n",
      "_________________________________________________________________\n",
      "dense_8 (Dense)              (None, 1)                 257       \n",
      "=================================================================\n",
      "Total params: 1,406,337\n",
      "Trainable params: 41,473\n",
      "Non-trainable params: 1,364,864\n",
      "_________________________________________________________________\n"
     ]
    }
   ],
   "source": [
    "inputs = keras.Input(shape=(IMAGE_HEIGHT, IMAGE_WIDTH, 3))\n",
    "x = tf.keras.applications.mobilenet.preprocess_input(inputs)\n",
    "x = base(x) # feature extraction\n",
    "x = layers.GlobalAveragePooling2D()(x)\n",
    "x = layers.Dense(256)(x)\n",
    "x = layers.Dropout(0.5)(x)\n",
    "outputs = layers.Dense(1, activation='sigmoid')(x)\n",
    "model2 = keras.Model(inputs=inputs, outputs=outputs)\n",
    "compile_model(model2)"
   ]
  },
  {
   "cell_type": "code",
   "execution_count": 36,
   "metadata": {
    "colab": {
     "base_uri": "https://localhost:8080/",
     "height": 1000
    },
    "executionInfo": {
     "elapsed": 548658,
     "status": "ok",
     "timestamp": 1641802498166,
     "user": {
      "displayName": "Federica Baldi",
      "photoUrl": "https://lh3.googleusercontent.com/a-/AOh14Gj0eALl9wD-GJPtSTMAFK0DvDlcGWh5ZTpdGFtwCIo=s64",
      "userId": "15726835528723494588"
     },
     "user_tz": -60
    },
    "id": "hHaGEHCYA3DZ",
    "outputId": "d8981630-170f-43fd-e3f2-998067f1b1a7"
   },
   "outputs": [
    {
     "name": "stdout",
     "output_type": "stream",
     "text": [
      "Epoch 1/50\n",
      "200/200 [==============================] - 191s 924ms/step - loss: 0.6633 - accuracy: 0.6967 - val_loss: 0.4776 - val_accuracy: 0.7711\n",
      "\n",
      "Epoch 00001: val_loss improved from inf to 0.47758, saving model to content/models/experiment8_feature_extraction.h5\n"
     ]
    },
    {
     "name": "stderr",
     "output_type": "stream",
     "text": [
      "/home/cseb21/.local/lib/python3.6/site-packages/keras/utils/generic_utils.py:497: CustomMaskWarning: Custom mask layers require a config and must override get_config. When loading, the custom mask layer must be passed to the custom_objects argument.\n",
      "  category=CustomMaskWarning)\n"
     ]
    },
    {
     "name": "stdout",
     "output_type": "stream",
     "text": [
      "Epoch 2/50\n",
      "200/200 [==============================] - 185s 922ms/step - loss: 0.5443 - accuracy: 0.7395 - val_loss: 0.4444 - val_accuracy: 0.8091\n",
      "\n",
      "Epoch 00002: val_loss improved from 0.47758 to 0.44436, saving model to content/models/experiment8_feature_extraction.h5\n",
      "Epoch 3/50\n",
      "200/200 [==============================] - 169s 844ms/step - loss: 0.5178 - accuracy: 0.7483 - val_loss: 0.5558 - val_accuracy: 0.7200\n",
      "\n",
      "Epoch 00003: val_loss did not improve from 0.44436\n",
      "Epoch 4/50\n",
      "200/200 [==============================] - 185s 926ms/step - loss: 0.5043 - accuracy: 0.7594 - val_loss: 0.4458 - val_accuracy: 0.7946\n",
      "\n",
      "Epoch 00004: val_loss did not improve from 0.44436\n",
      "Epoch 5/50\n",
      "200/200 [==============================] - 188s 942ms/step - loss: 0.4988 - accuracy: 0.7584 - val_loss: 0.4614 - val_accuracy: 0.7772\n",
      "\n",
      "Epoch 00005: val_loss did not improve from 0.44436\n",
      "Epoch 6/50\n",
      "200/200 [==============================] - 182s 910ms/step - loss: 0.4932 - accuracy: 0.7602 - val_loss: 0.5892 - val_accuracy: 0.6928\n",
      "\n",
      "Epoch 00006: val_loss did not improve from 0.44436\n",
      "Epoch 7/50\n",
      "200/200 [==============================] - 180s 900ms/step - loss: 0.4927 - accuracy: 0.7620 - val_loss: 0.5007 - val_accuracy: 0.7547\n",
      "\n",
      "Epoch 00007: val_loss did not improve from 0.44436\n"
     ]
    },
    {
     "data": {
      "image/png": "[encoded data removed]",
      "text/plain": [
       "<Figure size 432x288 with 1 Axes>"
      ]
     },
     "metadata": {
      "needs_background": "light"
     },
     "output_type": "display_data"
    },
    {
     "data": {
      "image/png": "[encoded data removed]",
      "text/plain": [
       "<Figure size 432x288 with 1 Axes>"
      ]
     },
     "metadata": {
      "needs_background": "light"
     },
     "output_type": "display_data"
    }
   ],
   "source": [
    "run_model(model2, 'experiment8_feature_extraction', epochs = 50, patience=5)"
   ]
  },
  {
   "cell_type": "code",
   "execution_count": 37,
   "metadata": {
    "colab": {
     "base_uri": "https://localhost:8080/",
     "height": 734
    },
    "executionInfo": {
     "elapsed": 20933,
     "status": "ok",
     "timestamp": 1641925761839,
     "user": {
      "displayName": "Federica Baldi",
      "photoUrl": "https://lh3.googleusercontent.com/a-/AOh14Gj0eALl9wD-GJPtSTMAFK0DvDlcGWh5ZTpdGFtwCIo=s64",
      "userId": "15726835528723494588"
     },
     "user_tz": -60
    },
    "id": "SUau5hckGjea",
    "outputId": "06ce9bcf-4317-4d1e-fb6d-719ff77601b7"
   },
   "outputs": [
    {
     "name": "stdout",
     "output_type": "stream",
     "text": [
      "Classification report: \n",
      "              precision    recall  f1-score   support\n",
      "\n",
      "           0     0.7623    0.5991    0.6710       696\n",
      "           1     0.8240    0.9095    0.8646      1436\n",
      "\n",
      "    accuracy                         0.8082      2132\n",
      "   macro avg     0.7932    0.7543    0.7678      2132\n",
      "weighted avg     0.8039    0.8082    0.8014      2132\n",
      "\n"
     ]
    },
    {
     "data": {
      "image/png": "[encoded data removed]",
      "text/plain": [
       "<Figure size 432x288 with 2 Axes>"
      ]
     },
     "metadata": {
      "needs_background": "light"
     },
     "output_type": "display_data"
    },
    {
     "data": {
      "image/png": "[encoded data removed]",
      "text/plain": [
       "<Figure size 432x288 with 1 Axes>"
      ]
     },
     "metadata": {
      "needs_background": "light"
     },
     "output_type": "display_data"
    }
   ],
   "source": [
    "evaluate_model(tf.keras.models.load_model(GLOBAL_MODELS_FOLDER + '/experiment8_feature_extraction.h5'))"
   ]
  },
  {
   "cell_type": "markdown",
   "metadata": {
    "id": "tG0v47YKBLLC"
   },
   "source": [
    "#### Experiment 9"
   ]
  },
  {
   "cell_type": "code",
   "execution_count": 38,
   "metadata": {
    "colab": {
     "base_uri": "https://localhost:8080/"
    },
    "executionInfo": {
     "elapsed": 594,
     "status": "ok",
     "timestamp": 1641802499943,
     "user": {
      "displayName": "Federica Baldi",
      "photoUrl": "https://lh3.googleusercontent.com/a-/AOh14Gj0eALl9wD-GJPtSTMAFK0DvDlcGWh5ZTpdGFtwCIo=s64",
      "userId": "15726835528723494588"
     },
     "user_tz": -60
    },
    "id": "bK-6X-dpBNaJ",
    "outputId": "c3c2863e-23d3-4214-fc59-e7f16e0301df"
   },
   "outputs": [
    {
     "name": "stdout",
     "output_type": "stream",
     "text": [
      "Model: \"model_5\"\n",
      "_________________________________________________________________\n",
      "Layer (type)                 Output Shape              Param #   \n",
      "=================================================================\n",
      "input_8 (InputLayer)         [(None, 224, 224, 3)]     0         \n",
      "_________________________________________________________________\n",
      "tf.math.truediv_5 (TFOpLambd (None, 224, 224, 3)       0         \n",
      "_________________________________________________________________\n",
      "tf.math.subtract_5 (TFOpLamb (None, 224, 224, 3)       0         \n",
      "_________________________________________________________________\n",
      "base (Functional)            (None, 7, 7, 160)         1364864   \n",
      "_________________________________________________________________\n",
      "global_average_pooling2d_4 ( (None, 160)               0         \n",
      "_________________________________________________________________\n",
      "dropout_3 (Dropout)          (None, 160)               0         \n",
      "_________________________________________________________________\n",
      "dense_9 (Dense)              (None, 1)                 161       \n",
      "=================================================================\n",
      "Total params: 1,365,025\n",
      "Trainable params: 161\n",
      "Non-trainable params: 1,364,864\n",
      "_________________________________________________________________\n"
     ]
    }
   ],
   "source": [
    "inputs = keras.Input(shape=(IMAGE_HEIGHT, IMAGE_WIDTH, 3))\n",
    "x = tf.keras.applications.mobilenet.preprocess_input(inputs)\n",
    "x = base(x) # feature extraction\n",
    "x = layers.GlobalAveragePooling2D()(x)\n",
    "x = layers.Dropout(0.5)(x)\n",
    "outputs = layers.Dense(1, activation='sigmoid')(x)\n",
    "model3 = keras.Model(inputs=inputs, outputs=outputs)\n",
    "compile_model(model3)"
   ]
  },
  {
   "cell_type": "code",
   "execution_count": 39,
   "metadata": {
    "colab": {
     "base_uri": "https://localhost:8080/",
     "height": 1000
    },
    "executionInfo": {
     "elapsed": 317069,
     "status": "ok",
     "timestamp": 1641802816995,
     "user": {
      "displayName": "Federica Baldi",
      "photoUrl": "https://lh3.googleusercontent.com/a-/AOh14Gj0eALl9wD-GJPtSTMAFK0DvDlcGWh5ZTpdGFtwCIo=s64",
      "userId": "15726835528723494588"
     },
     "user_tz": -60
    },
    "id": "73lUuyWzBjY5",
    "outputId": "f896c3fc-9e83-495e-feb6-15514bde2f0e"
   },
   "outputs": [
    {
     "name": "stdout",
     "output_type": "stream",
     "text": [
      "Epoch 1/50\n",
      "200/200 [==============================] - 190s 922ms/step - loss: 0.8138 - accuracy: 0.6127 - val_loss: 0.5431 - val_accuracy: 0.7355\n",
      "\n",
      "Epoch 00001: val_loss improved from inf to 0.54313, saving model to content/models/experiment9_feature_extraction.h5\n"
     ]
    },
    {
     "name": "stderr",
     "output_type": "stream",
     "text": [
      "/home/cseb21/.local/lib/python3.6/site-packages/keras/utils/generic_utils.py:497: CustomMaskWarning: Custom mask layers require a config and must override get_config. When loading, the custom mask layer must be passed to the custom_objects argument.\n",
      "  category=CustomMaskWarning)\n"
     ]
    },
    {
     "name": "stdout",
     "output_type": "stream",
     "text": [
      "Epoch 2/50\n",
      "200/200 [==============================] - 186s 928ms/step - loss: 0.6616 - accuracy: 0.6673 - val_loss: 0.5198 - val_accuracy: 0.7566\n",
      "\n",
      "Epoch 00002: val_loss improved from 0.54313 to 0.51978, saving model to content/models/experiment9_feature_extraction.h5\n",
      "Epoch 3/50\n",
      "200/200 [==============================] - 185s 927ms/step - loss: 0.5898 - accuracy: 0.6981 - val_loss: 0.5441 - val_accuracy: 0.7223\n",
      "\n",
      "Epoch 00003: val_loss did not improve from 0.51978\n",
      "Epoch 4/50\n",
      "200/200 [==============================] - 180s 900ms/step - loss: 0.5708 - accuracy: 0.7067 - val_loss: 0.5146 - val_accuracy: 0.7542\n",
      "\n",
      "Epoch 00004: val_loss improved from 0.51978 to 0.51460, saving model to content/models/experiment9_feature_extraction.h5\n",
      "Epoch 5/50\n",
      "200/200 [==============================] - 219s 1s/step - loss: 0.5603 - accuracy: 0.7164 - val_loss: 0.5404 - val_accuracy: 0.7280\n",
      "\n",
      "Epoch 00005: val_loss did not improve from 0.51460\n",
      "Epoch 6/50\n",
      "200/200 [==============================] - 181s 903ms/step - loss: 0.5612 - accuracy: 0.7194 - val_loss: 0.5163 - val_accuracy: 0.7486\n",
      "\n",
      "Epoch 00006: val_loss did not improve from 0.51460\n",
      "Epoch 7/50\n",
      "200/200 [==============================] - 177s 885ms/step - loss: 0.5488 - accuracy: 0.7267 - val_loss: 0.5473 - val_accuracy: 0.7186\n",
      "\n",
      "Epoch 00007: val_loss did not improve from 0.51460\n",
      "Epoch 8/50\n",
      "200/200 [==============================] - 179s 895ms/step - loss: 0.5478 - accuracy: 0.7289 - val_loss: 0.5249 - val_accuracy: 0.7406\n",
      "\n",
      "Epoch 00008: val_loss did not improve from 0.51460\n",
      "Epoch 9/50\n",
      "200/200 [==============================] - 183s 913ms/step - loss: 0.5455 - accuracy: 0.7276 - val_loss: 0.5338 - val_accuracy: 0.7345\n",
      "\n",
      "Epoch 00009: val_loss did not improve from 0.51460\n"
     ]
    },
    {
     "data": {
      "image/png": "[encoded data removed]",
      "text/plain": [
       "<Figure size 432x288 with 1 Axes>"
      ]
     },
     "metadata": {
      "needs_background": "light"
     },
     "output_type": "display_data"
    },
    {
     "data": {
      "image/png": "[encoded data removed]",
      "text/plain": [
       "<Figure size 432x288 with 1 Axes>"
      ]
     },
     "metadata": {
      "needs_background": "light"
     },
     "output_type": "display_data"
    }
   ],
   "source": [
    "run_model(model3, 'experiment9_feature_extraction', epochs = 50, patience=5)"
   ]
  },
  {
   "cell_type": "code",
   "execution_count": 40,
   "metadata": {
    "colab": {
     "base_uri": "https://localhost:8080/",
     "height": 730
    },
    "executionInfo": {
     "elapsed": 11287,
     "status": "ok",
     "timestamp": 1642022578309,
     "user": {
      "displayName": "Federica Baldi",
      "photoUrl": "https://lh3.googleusercontent.com/a-/AOh14Gj0eALl9wD-GJPtSTMAFK0DvDlcGWh5ZTpdGFtwCIo=s64",
      "userId": "15726835528723494588"
     },
     "user_tz": -60
    },
    "id": "zYnYIpGvKtTo",
    "outputId": "ddd773d6-71ce-40b7-c2c3-99008dbcb58f"
   },
   "outputs": [
    {
     "name": "stdout",
     "output_type": "stream",
     "text": [
      "Classification report: \n",
      "              precision    recall  f1-score   support\n",
      "\n",
      "           0     0.5961    0.7083    0.6474       696\n",
      "           1     0.8444    0.7674    0.8041      1436\n",
      "\n",
      "    accuracy                         0.7481      2132\n",
      "   macro avg     0.7203    0.7379    0.7257      2132\n",
      "weighted avg     0.7634    0.7481    0.7529      2132\n",
      "\n"
     ]
    },
    {
     "data": {
      "image/png": "[encoded data removed]",
      "text/plain": [
       "<Figure size 432x288 with 2 Axes>"
      ]
     },
     "metadata": {
      "needs_background": "light"
     },
     "output_type": "display_data"
    },
    {
     "data": {
      "image/png": "[encoded data removed]",
      "text/plain": [
       "<Figure size 432x288 with 1 Axes>"
      ]
     },
     "metadata": {
      "needs_background": "light"
     },
     "output_type": "display_data"
    }
   ],
   "source": [
    "evaluate_model(tf.keras.models.load_model(GLOBAL_MODELS_FOLDER + '/experiment9_feature_extraction.h5'))"
   ]
  },
  {
   "cell_type": "markdown",
   "metadata": {
    "id": "BT6hWekXSJVs"
   },
   "source": [
    "#### Experiment 10"
   ]
  },
  {
   "cell_type": "code",
   "execution_count": 53,
   "metadata": {
    "colab": {
     "base_uri": "https://localhost:8080/"
    },
    "executionInfo": {
     "elapsed": 634,
     "status": "ok",
     "timestamp": 1641806431094,
     "user": {
      "displayName": "Federica Baldi",
      "photoUrl": "https://lh3.googleusercontent.com/a-/AOh14Gj0eALl9wD-GJPtSTMAFK0DvDlcGWh5ZTpdGFtwCIo=s64",
      "userId": "15726835528723494588"
     },
     "user_tz": -60
    },
    "id": "STMNmhdaSJVw",
    "outputId": "453a8797-69e3-40e7-c659-5de164012baf"
   },
   "outputs": [
    {
     "name": "stdout",
     "output_type": "stream",
     "text": [
      "Model: \"model_7\"\n",
      "_________________________________________________________________\n",
      "Layer (type)                 Output Shape              Param #   \n",
      "=================================================================\n",
      "input_10 (InputLayer)        [(None, 224, 224, 3)]     0         \n",
      "_________________________________________________________________\n",
      "tf.math.truediv_7 (TFOpLambd (None, 224, 224, 3)       0         \n",
      "_________________________________________________________________\n",
      "tf.math.subtract_7 (TFOpLamb (None, 224, 224, 3)       0         \n",
      "_________________________________________________________________\n",
      "base (Functional)            (None, 7, 7, 160)         1364864   \n",
      "_________________________________________________________________\n",
      "flatten_2 (Flatten)          (None, 7840)              0         \n",
      "_________________________________________________________________\n",
      "dense_12 (Dense)             (None, 256)               2007296   \n",
      "_________________________________________________________________\n",
      "dropout_5 (Dropout)          (None, 256)               0         \n",
      "_________________________________________________________________\n",
      "dense_13 (Dense)             (None, 1)                 257       \n",
      "=================================================================\n",
      "Total params: 3,372,417\n",
      "Trainable params: 2,007,553\n",
      "Non-trainable params: 1,364,864\n",
      "_________________________________________________________________\n"
     ]
    }
   ],
   "source": [
    "inputs = keras.Input(shape=(IMAGE_HEIGHT, IMAGE_WIDTH, 3))\n",
    "x = tf.keras.applications.mobilenet.preprocess_input(inputs)\n",
    "x = base(x) # feature extraction\n",
    "x = layers.Flatten()(x)\n",
    "x = layers.Dense(256)(x)\n",
    "x = layers.Dropout(0.5)(x)\n",
    "outputs = layers.Dense(1, activation='sigmoid')(x)\n",
    "model2 = keras.Model(inputs=inputs, outputs=outputs)\n",
    "compile_model(model2)"
   ]
  },
  {
   "cell_type": "code",
   "execution_count": 54,
   "metadata": {
    "colab": {
     "base_uri": "https://localhost:8080/",
     "height": 1000
    },
    "executionInfo": {
     "elapsed": 442619,
     "status": "ok",
     "timestamp": 1641806885279,
     "user": {
      "displayName": "Federica Baldi",
      "photoUrl": "https://lh3.googleusercontent.com/a-/AOh14Gj0eALl9wD-GJPtSTMAFK0DvDlcGWh5ZTpdGFtwCIo=s64",
      "userId": "15726835528723494588"
     },
     "user_tz": -60
    },
    "id": "NJG701UuSJVy",
    "outputId": "2ed76469-7802-4aac-e740-c87989328587"
   },
   "outputs": [
    {
     "name": "stdout",
     "output_type": "stream",
     "text": [
      "Epoch 1/50\n",
      "200/200 [==============================] - 73s 352ms/step - loss: 13.9437 - accuracy: 0.6750 - val_loss: 6.5741 - val_accuracy: 0.5849\n",
      "\n",
      "Epoch 00001: val_loss improved from inf to 6.57410, saving model to content/models/experiment10_feature_extraction.h5\n",
      "Epoch 2/50\n",
      "200/200 [==============================] - 68s 342ms/step - loss: 3.4422 - accuracy: 0.7436 - val_loss: 1.4245 - val_accuracy: 0.7992\n",
      "\n",
      "Epoch 00002: val_loss improved from 6.57410 to 1.42454, saving model to content/models/experiment10_feature_extraction.h5\n",
      "Epoch 3/50\n",
      "200/200 [==============================] - 71s 355ms/step - loss: 1.9908 - accuracy: 0.7561 - val_loss: 0.8754 - val_accuracy: 0.7528\n",
      "\n",
      "Epoch 00003: val_loss improved from 1.42454 to 0.87540, saving model to content/models/experiment10_feature_extraction.h5\n",
      "Epoch 4/50\n",
      "200/200 [==============================] - 74s 368ms/step - loss: 0.5958 - accuracy: 0.7992 - val_loss: 0.7884 - val_accuracy: 0.6909\n",
      "\n",
      "Epoch 00004: val_loss improved from 0.87540 to 0.78842, saving model to content/models/experiment10_feature_extraction.h5\n",
      "Epoch 5/50\n",
      "200/200 [==============================] - 75s 374ms/step - loss: 0.4393 - accuracy: 0.8175 - val_loss: 0.4204 - val_accuracy: 0.8250\n",
      "\n",
      "Epoch 00005: val_loss improved from 0.78842 to 0.42044, saving model to content/models/experiment10_feature_extraction.h5\n",
      "Epoch 6/50\n",
      "200/200 [==============================] - 75s 376ms/step - loss: 0.3726 - accuracy: 0.8316 - val_loss: 0.4881 - val_accuracy: 0.7706\n",
      "\n",
      "Epoch 00006: val_loss did not improve from 0.42044\n",
      "Epoch 7/50\n",
      "200/200 [==============================] - 74s 373ms/step - loss: 0.3701 - accuracy: 0.8365 - val_loss: 0.4204 - val_accuracy: 0.8241\n",
      "\n",
      "Epoch 00007: val_loss improved from 0.42044 to 0.42040, saving model to content/models/experiment10_feature_extraction.h5\n",
      "Epoch 8/50\n",
      "200/200 [==============================] - 74s 372ms/step - loss: 0.3846 - accuracy: 0.8333 - val_loss: 0.5948 - val_accuracy: 0.7223\n",
      "\n",
      "Epoch 00008: val_loss did not improve from 0.42040\n",
      "Epoch 9/50\n",
      "200/200 [==============================] - 76s 379ms/step - loss: 0.3705 - accuracy: 0.8344 - val_loss: 0.6610 - val_accuracy: 0.6970\n",
      "\n",
      "Epoch 00009: val_loss did not improve from 0.42040\n",
      "Epoch 10/50\n",
      "200/200 [==============================] - 76s 382ms/step - loss: 0.3801 - accuracy: 0.8360 - val_loss: 0.5402 - val_accuracy: 0.7533\n",
      "\n",
      "Epoch 00010: val_loss did not improve from 0.42040\n",
      "Epoch 11/50\n",
      "200/200 [==============================] - 75s 374ms/step - loss: 0.3845 - accuracy: 0.8346 - val_loss: 0.4240 - val_accuracy: 0.8189\n",
      "\n",
      "Epoch 00011: val_loss did not improve from 0.42040\n",
      "Epoch 12/50\n",
      "200/200 [==============================] - 75s 375ms/step - loss: 0.3791 - accuracy: 0.8351 - val_loss: 0.4552 - val_accuracy: 0.8227\n",
      "\n",
      "Epoch 00012: val_loss did not improve from 0.42040\n"
     ]
    },
    {
     "data": {
      "image/png": "[encoded data removed]",
      "text/plain": [
       "<Figure size 432x288 with 1 Axes>"
      ]
     },
     "metadata": {
      "needs_background": "light"
     },
     "output_type": "display_data"
    },
    {
     "data": {
      "image/png": "[encoded data removed]",
      "text/plain": [
       "<Figure size 432x288 with 1 Axes>"
      ]
     },
     "metadata": {
      "needs_background": "light"
     },
     "output_type": "display_data"
    }
   ],
   "source": [
    "run_model(model2, 'experiment10_feature_extraction', epochs = 50, patience=5)"
   ]
  },
  {
   "cell_type": "code",
   "execution_count": 55,
   "metadata": {
    "colab": {
     "base_uri": "https://localhost:8080/",
     "height": 730
    },
    "executionInfo": {
     "elapsed": 9572,
     "status": "ok",
     "timestamp": 1641803318688,
     "user": {
      "displayName": "Federica Baldi",
      "photoUrl": "https://lh3.googleusercontent.com/a-/AOh14Gj0eALl9wD-GJPtSTMAFK0DvDlcGWh5ZTpdGFtwCIo=s64",
      "userId": "15726835528723494588"
     },
     "user_tz": -60
    },
    "id": "ycleoKIaSJVz",
    "outputId": "f7b3a5e0-375e-410e-a802-08576f07f571"
   },
   "outputs": [
    {
     "name": "stdout",
     "output_type": "stream",
     "text": [
      "Classification report: \n",
      "              precision    recall  f1-score   support\n",
      "\n",
      "           0     0.7569    0.6710    0.7113       696\n",
      "           1     0.8488    0.8955    0.8716      1436\n",
      "\n",
      "    accuracy                         0.8222      2132\n",
      "   macro avg     0.8029    0.7833    0.7915      2132\n",
      "weighted avg     0.8188    0.8222    0.8193      2132\n",
      "\n"
     ]
    },
    {
     "data": {
      "image/png": "[encoded data removed]",
      "text/plain": [
       "<Figure size 432x288 with 2 Axes>"
      ]
     },
     "metadata": {
      "needs_background": "light"
     },
     "output_type": "display_data"
    },
    {
     "data": {
      "image/png": "[encoded data removed]",
      "text/plain": [
       "<Figure size 432x288 with 1 Axes>"
      ]
     },
     "metadata": {
      "needs_background": "light"
     },
     "output_type": "display_data"
    }
   ],
   "source": [
    "evaluate_model(tf.keras.models.load_model(GLOBAL_MODELS_FOLDER + '/experiment10_feature_extraction.h5'))"
   ]
  },
  {
   "cell_type": "markdown",
   "metadata": {
    "id": "5hd0fFOSCFSu"
   },
   "source": [
    "### Fine tuning"
   ]
  },
  {
   "cell_type": "markdown",
   "metadata": {
    "id": "7mTw7rkFESiS"
   },
   "source": [
    "#### Experiment 11"
   ]
  },
  {
   "cell_type": "code",
   "execution_count": 74,
   "metadata": {
    "colab": {
     "base_uri": "https://localhost:8080/"
    },
    "executionInfo": {
     "elapsed": 2592,
     "status": "ok",
     "timestamp": 1641803394765,
     "user": {
      "displayName": "Federica Baldi",
      "photoUrl": "https://lh3.googleusercontent.com/a-/AOh14Gj0eALl9wD-GJPtSTMAFK0DvDlcGWh5ZTpdGFtwCIo=s64",
      "userId": "15726835528723494588"
     },
     "user_tz": -60
    },
    "id": "SGlRzWSfEUlY",
    "outputId": "50da1e15-ac00-45a2-8aec-25293bfff1af"
   },
   "outputs": [
    {
     "name": "stdout",
     "output_type": "stream",
     "text": [
      "Model: \"model_4\"\n",
      "_________________________________________________________________\n",
      "Layer (type)                 Output Shape              Param #   \n",
      "=================================================================\n",
      "input_7 (InputLayer)         [(None, 224, 224, 3)]     0         \n",
      "_________________________________________________________________\n",
      "tf.math.truediv_4 (TFOpLambd (None, 224, 224, 3)       0         \n",
      "_________________________________________________________________\n",
      "tf.math.subtract_4 (TFOpLamb (None, 224, 224, 3)       0         \n",
      "_________________________________________________________________\n",
      "base (Functional)            (None, 7, 7, 160)         1364864   \n",
      "_________________________________________________________________\n",
      "global_average_pooling2d_3 ( (None, 160)               0         \n",
      "_________________________________________________________________\n",
      "dense_7 (Dense)              (None, 256)               41216     \n",
      "_________________________________________________________________\n",
      "dropout_2 (Dropout)          (None, 256)               0         \n",
      "_________________________________________________________________\n",
      "dense_8 (Dense)              (None, 1)                 257       \n",
      "=================================================================\n",
      "Total params: 1,406,337\n",
      "Trainable params: 205,953\n",
      "Non-trainable params: 1,200,384\n",
      "_________________________________________________________________\n",
      "0 input_6 False\n",
      "1 Conv1 False\n",
      "2 bn_Conv1 False\n",
      "3 Conv1_relu False\n",
      "4 expanded_conv_depthwise False\n",
      "5 expanded_conv_depthwise_BN False\n",
      "6 expanded_conv_depthwise_relu False\n",
      "7 expanded_conv_project False\n",
      "8 expanded_conv_project_BN False\n",
      "9 block_1_expand False\n",
      "10 block_1_expand_BN False\n",
      "11 block_1_expand_relu False\n",
      "12 block_1_pad False\n",
      "13 block_1_depthwise False\n",
      "14 block_1_depthwise_BN False\n",
      "15 block_1_depthwise_relu False\n",
      "16 block_1_project False\n",
      "17 block_1_project_BN False\n",
      "18 block_2_expand False\n",
      "19 block_2_expand_BN False\n",
      "20 block_2_expand_relu False\n",
      "21 block_2_depthwise False\n",
      "22 block_2_depthwise_BN False\n",
      "23 block_2_depthwise_relu False\n",
      "24 block_2_project False\n",
      "25 block_2_project_BN False\n",
      "26 block_2_add False\n",
      "27 block_3_expand False\n",
      "28 block_3_expand_BN False\n",
      "29 block_3_expand_relu False\n",
      "30 block_3_pad False\n",
      "31 block_3_depthwise False\n",
      "32 block_3_depthwise_BN False\n",
      "33 block_3_depthwise_relu False\n",
      "34 block_3_project False\n",
      "35 block_3_project_BN False\n",
      "36 block_4_expand False\n",
      "37 block_4_expand_BN False\n",
      "38 block_4_expand_relu False\n",
      "39 block_4_depthwise False\n",
      "40 block_4_depthwise_BN False\n",
      "41 block_4_depthwise_relu False\n",
      "42 block_4_project False\n",
      "43 block_4_project_BN False\n",
      "44 block_4_add False\n",
      "45 block_5_expand False\n",
      "46 block_5_expand_BN False\n",
      "47 block_5_expand_relu False\n",
      "48 block_5_depthwise False\n",
      "49 block_5_depthwise_BN False\n",
      "50 block_5_depthwise_relu False\n",
      "51 block_5_project False\n",
      "52 block_5_project_BN False\n",
      "53 block_5_add False\n",
      "54 block_6_expand False\n",
      "55 block_6_expand_BN False\n",
      "56 block_6_expand_relu False\n",
      "57 block_6_pad False\n",
      "58 block_6_depthwise False\n",
      "59 block_6_depthwise_BN False\n",
      "60 block_6_depthwise_relu False\n",
      "61 block_6_project False\n",
      "62 block_6_project_BN False\n",
      "63 block_7_expand False\n",
      "64 block_7_expand_BN False\n",
      "65 block_7_expand_relu False\n",
      "66 block_7_depthwise False\n",
      "67 block_7_depthwise_BN False\n",
      "68 block_7_depthwise_relu False\n",
      "69 block_7_project False\n",
      "70 block_7_project_BN False\n",
      "71 block_7_add False\n",
      "72 block_8_expand False\n",
      "73 block_8_expand_BN False\n",
      "74 block_8_expand_relu False\n",
      "75 block_8_depthwise False\n",
      "76 block_8_depthwise_BN False\n",
      "77 block_8_depthwise_relu False\n",
      "78 block_8_project False\n",
      "79 block_8_project_BN False\n",
      "80 block_8_add False\n",
      "81 block_9_expand False\n",
      "82 block_9_expand_BN False\n",
      "83 block_9_expand_relu False\n",
      "84 block_9_depthwise False\n",
      "85 block_9_depthwise_BN False\n",
      "86 block_9_depthwise_relu False\n",
      "87 block_9_project False\n",
      "88 block_9_project_BN False\n",
      "89 block_9_add False\n",
      "90 block_10_expand False\n",
      "91 block_10_expand_BN False\n",
      "92 block_10_expand_relu False\n",
      "93 block_10_depthwise False\n",
      "94 block_10_depthwise_BN False\n",
      "95 block_10_depthwise_relu False\n",
      "96 block_10_project False\n",
      "97 block_10_project_BN False\n",
      "98 block_11_expand False\n",
      "99 block_11_expand_BN False\n",
      "100 block_11_expand_relu False\n",
      "101 block_11_depthwise False\n",
      "102 block_11_depthwise_BN False\n",
      "103 block_11_depthwise_relu False\n",
      "104 block_11_project False\n",
      "105 block_11_project_BN False\n",
      "106 block_11_add False\n",
      "107 block_12_expand False\n",
      "108 block_12_expand_BN False\n",
      "109 block_12_expand_relu False\n",
      "110 block_12_depthwise False\n",
      "111 block_12_depthwise_BN False\n",
      "112 block_12_depthwise_relu False\n",
      "113 block_12_project False\n",
      "114 block_12_project_BN False\n",
      "115 block_12_add False\n",
      "116 block_13_expand False\n",
      "117 block_13_expand_BN False\n",
      "118 block_13_expand_relu False\n",
      "119 block_13_pad False\n",
      "120 block_13_depthwise False\n",
      "121 block_13_depthwise_BN False\n",
      "122 block_13_depthwise_relu False\n",
      "123 block_13_project False\n",
      "124 block_13_project_BN False\n",
      "125 block_14_expand False\n",
      "126 block_14_expand_BN False\n",
      "127 block_14_expand_relu False\n",
      "128 block_14_depthwise False\n",
      "129 block_14_depthwise_BN False\n",
      "130 block_14_depthwise_relu False\n",
      "131 block_14_project False\n",
      "132 block_14_project_BN False\n",
      "133 block_14_add False\n",
      "134 block_15_expand False\n",
      "135 block_15_expand_BN False\n",
      "136 block_15_expand_relu False\n",
      "137 block_15_depthwise True\n",
      "138 block_15_depthwise_BN True\n",
      "139 block_15_depthwise_relu True\n",
      "140 block_15_project True\n",
      "141 block_15_project_BN True\n",
      "142 block_15_add True\n"
     ]
    }
   ],
   "source": [
    "fine_tuning = models.load_model(os.path.join(GLOBAL_MODELS_FOLDER,'experiment8_feature_extraction.h5'))\n",
    "setTrainable = False\n",
    "for layer in fine_tuning.get_layer('base').layers:\n",
    "    if layer.name in ('block_15_depthwise_BN'):\n",
    "        setTrainable = True\n",
    "    if setTrainable == True:\n",
    "        layer.trainable = True\n",
    "    else:\n",
    "        layer.trainable = False\n",
    "\n",
    "compile_model(fine_tuning, learning_rate=1e-5)\n",
    "\n",
    "for i, layer in enumerate(fine_tuning.get_layer('base').layers):\n",
    "    print(i, layer.name, layer.trainable)"
   ]
  },
  {
   "cell_type": "code",
   "execution_count": null,
   "metadata": {
    "colab": {
     "base_uri": "https://localhost:8080/",
     "height": 1000
    },
    "executionInfo": {
     "elapsed": 729557,
     "status": "ok",
     "timestamp": 1641804514011,
     "user": {
      "displayName": "Federica Baldi",
      "photoUrl": "https://lh3.googleusercontent.com/a-/AOh14Gj0eALl9wD-GJPtSTMAFK0DvDlcGWh5ZTpdGFtwCIo=s64",
      "userId": "15726835528723494588"
     },
     "user_tz": -60
    },
    "id": "os6RI-LJExDN",
    "outputId": "3565ac94-3f77-4318-f746-444b0630be78"
   },
   "outputs": [
    {
     "name": "stdout",
     "output_type": "stream",
     "text": [
      "Epoch 1/100\n",
      "200/200 [==============================] - 68s 340ms/step - loss: 0.3907 - accuracy: 0.8166 - val_loss: 0.4105 - val_accuracy: 0.8175\n",
      "\n",
      "Epoch 00001: val_loss improved from inf to 0.41046, saving model to content/models/experiment11_fine_tuning_cut.h5\n",
      "Epoch 2/100\n",
      "200/200 [==============================] - 68s 340ms/step - loss: 0.3951 - accuracy: 0.8218 - val_loss: 0.4202 - val_accuracy: 0.8049\n",
      "\n",
      "Epoch 00002: val_loss did not improve from 0.41046\n",
      "Epoch 3/100\n",
      "200/200 [==============================] - 69s 344ms/step - loss: 0.3929 - accuracy: 0.8169 - val_loss: 0.4124 - val_accuracy: 0.8143\n",
      "\n",
      "Epoch 00003: val_loss did not improve from 0.41046\n",
      "Epoch 4/100\n",
      "200/200 [==============================] - 68s 341ms/step - loss: 0.3886 - accuracy: 0.8205 - val_loss: 0.4145 - val_accuracy: 0.8100\n",
      "\n",
      "Epoch 00004: val_loss did not improve from 0.41046\n",
      "Epoch 5/100\n",
      "200/200 [==============================] - 69s 343ms/step - loss: 0.3904 - accuracy: 0.8235 - val_loss: 0.4306 - val_accuracy: 0.8021\n",
      "\n",
      "Epoch 00005: val_loss did not improve from 0.41046\n",
      "Epoch 6/100\n",
      "200/200 [==============================] - 69s 343ms/step - loss: 0.3922 - accuracy: 0.8205 - val_loss: 0.4057 - val_accuracy: 0.8232\n",
      "\n",
      "Epoch 00006: val_loss improved from 0.41046 to 0.40568, saving model to content/models/experiment11_fine_tuning_cut.h5\n",
      "Epoch 7/100\n",
      "200/200 [==============================] - 68s 341ms/step - loss: 0.3899 - accuracy: 0.8233 - val_loss: 0.4133 - val_accuracy: 0.8100\n",
      "\n",
      "Epoch 00007: val_loss did not improve from 0.40568\n",
      "Epoch 8/100\n",
      "200/200 [==============================] - 70s 348ms/step - loss: 0.3911 - accuracy: 0.8232 - val_loss: 0.4261 - val_accuracy: 0.8030\n",
      "\n",
      "Epoch 00008: val_loss did not improve from 0.40568\n",
      "Epoch 9/100\n",
      "200/200 [==============================] - ETA: 0s - loss: 0.3928 - accuracy: 0.8194"
     ]
    }
   ],
   "source": [
    "run_model(fine_tuning, 'experiment11_fine_tuning_cut', epochs = 100, patience=5)"
   ]
  },
  {
   "cell_type": "code",
   "execution_count": null,
   "metadata": {
    "colab": {
     "base_uri": "https://localhost:8080/",
     "height": 730
    },
    "executionInfo": {
     "elapsed": 11263,
     "status": "ok",
     "timestamp": 1642022624650,
     "user": {
      "displayName": "Federica Baldi",
      "photoUrl": "https://lh3.googleusercontent.com/a-/AOh14Gj0eALl9wD-GJPtSTMAFK0DvDlcGWh5ZTpdGFtwCIo=s64",
      "userId": "15726835528723494588"
     },
     "user_tz": -60
    },
    "id": "itENNvtuLE3S",
    "outputId": "b338e49c-e5ae-433d-cc2c-9622222e6fd3"
   },
   "outputs": [],
   "source": [
    "evaluate_model(tf.keras.models.load_model(GLOBAL_MODELS_FOLDER + '/experiment11_fine_tuning_cut.h5'))"
   ]
  },
  {
   "cell_type": "code",
   "execution_count": 3,
   "metadata": {},
   "outputs": [
    {
     "name": "stdout",
     "output_type": "stream",
     "text": [
      "Predicted class: hem\n"
     ]
    }
   ],
   "source": [
    "import tensorflow as tf\n",
    "from tensorflow.keras.preprocessing.image import load_img, img_to_array\n",
    "import numpy as np\n",
    "\n",
    "\n",
    "# Load the trained model\n",
    "model_path = \"content/drive/My Drive/Baldi_Cioffo/models/mobilenet/experiment7_finetuning.h5\"\n",
    "model = tf.keras.models.load_model(model_path)\n",
    "\n",
    "# Function to preprocess the image\n",
    "def preprocess_image(image_path, target_size):\n",
    "    img = load_img(image_path, target_size=target_size)\n",
    "    img_array = img_to_array(img)\n",
    "    img_array = img_array / 255.0  # Normalize the image\n",
    "    img_array = np.expand_dims(img_array, axis=0)  # Add batch dimension\n",
    "    return img_array\n",
    "\n",
    "# Provide the path of the image you want to predict\n",
    "image_path = \"Test2.bmp\"\n",
    "\n",
    "# Preprocess the image\n",
    "target_size = (224,224)  # Use the same target size used during training\n",
    "image_array = preprocess_image(image_path, target_size)\n",
    "\n",
    "# Make the prediction\n",
    "prediction = model.predict(image_array)\n",
    "class_labels = ['hem','all']  # The class labels in the order used during training\n",
    "predicted_class_index = np.argmax(prediction)\n",
    "predicted_class = class_labels[predicted_class_index]\n",
    "\n",
    "print(\"Predicted class:\", predicted_class)\n"
   ]
  }
 ],
 "metadata": {
  "accelerator": "GPU",
  "colab": {
   "collapsed_sections": [
    "NaDMLtupmIEk",
    "C884lZO-YiB2"
   ],
   "name": "5. Pre-trained Network: MobileNet.ipynb",
   "provenance": [],
   "toc_visible": true
  },
  "kernelspec": {
   "display_name": "Python 3",
   "language": "python",
   "name": "python3"
  },
  "language_info": {
   "codemirror_mode": {
    "name": "ipython",
    "version": 3
   },
   "file_extension": ".py",
   "mimetype": "text/x-python",
   "name": "python",
   "nbconvert_exporter": "python",
   "pygments_lexer": "ipython3",
   "version": "3.6.9"
  }
 },
 "nbformat": 4,
 "nbformat_minor": 4
}
